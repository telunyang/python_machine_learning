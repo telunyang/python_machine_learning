{
 "cells": [
  {
   "cell_type": "markdown",
   "metadata": {},
   "source": [
    "# 集成學習 (Ensemble Learning) - 投票法 (Voting)\n",
    "- 俗話說：三個臭皮匠，勝過一個諸葛亮。集成學習的基本思想就是這樣，即多個模型聯合起來，可以得到更好的效果。\n",
    "- 集成學習結合數個機器學習模型的方式，可以分為以下幾種：\n",
    "  - **平行集成**：將多個基礎學習模型以平行的方式進行結合，例如隨機森林 (Random Forest)，其想法是整合基礎模型獨立產生的預期結果，藉以降低整體預測的變異性（variance）。例如：Bagging。\n",
    "  - **循序集成**：將多個基礎學習模型以串接的方式結合在一起（例如 AdaBoost），動機是利用基礎模型的相關性，串接在一起的下一個模型會針對上一個模型預測有誤的樣本進行學習，以降低整體預測的偏差（bias）。例如：Boosting。\n",
    "  - **混合集成**：將多個不同的基礎學習模型以平行與串接的方式結合，期待能改善預測效能。例如：Stacking。\n",
    "\n",
    "<img src=\"https://media.datacamp.com/legacy/image/upload/v1700592126/image1_fcace6f2b3.png\" width=\"800\">\n",
    "\n",
    "資料來源: [What is Bagging in Machine Learning? A Guide With Examples](https://www.datacamp.com/tutorial/what-bagging-in-machine-learning-a-guide-with-examples)\n",
    "\n",
    "<img src=\"https://miro.medium.com/v2/resize:fit:2000/1*T0L64nrOJSr8-LRJlWfLtQ.jpeg\" width=\"800\">\n",
    "\n",
    "資料來源: [Ensemble Learning: Stacking, Blending & Voting](https://towardsdatascience.com/ensemble-learning-stacking-blending-voting-b37737c4f483)"
   ]
  },
  {
   "cell_type": "markdown",
   "metadata": {},
   "source": [
    "## 袋裝法 (Bagging, Bootstrap Aggregating)\n",
    "- 袋裝法是一種集成學習方法，透過將多個模型的預測結果進行投票或平均，以提升模型的預測能力。袋裝法的基本概念是透過隨機抽樣的方式，從訓練資料中抽取多個子樣本，再分別訓練多個模型，最後將這些模型的預測結果進行投票或平均。袋裝法的代表性演算法有隨機森林 (Random Forest)。\n",
    "- 隨機森林是一種基於袋裝法的集成學習方法，透過建立多個決策樹模型，再將這些決策樹的預測結果進行投票，以提升模型的預測能力。隨機森林的基本概念是透過隨機抽樣的方式，從訓練資料中抽取多個子樣本，再分別訓練多個決策樹模型，最後將這些決策樹的預測結果進行投票。隨機森林的優點是具有較高的準確性、較低的過擬合風險，並且能夠處理高維度的特徵資料。"
   ]
  },
  {
   "cell_type": "code",
   "execution_count": 1,
   "metadata": {},
   "outputs": [
    {
     "data": {
      "text/html": [
       "<div>\n",
       "<style scoped>\n",
       "    .dataframe tbody tr th:only-of-type {\n",
       "        vertical-align: middle;\n",
       "    }\n",
       "\n",
       "    .dataframe tbody tr th {\n",
       "        vertical-align: top;\n",
       "    }\n",
       "\n",
       "    .dataframe thead th {\n",
       "        text-align: right;\n",
       "    }\n",
       "</style>\n",
       "<table border=\"1\" class=\"dataframe\">\n",
       "  <thead>\n",
       "    <tr style=\"text-align: right;\">\n",
       "      <th></th>\n",
       "      <th>Number</th>\n",
       "      <th>Name</th>\n",
       "      <th>Type1</th>\n",
       "      <th>Type2</th>\n",
       "      <th>HP</th>\n",
       "      <th>Attack</th>\n",
       "      <th>Defense</th>\n",
       "      <th>SpecialAtk</th>\n",
       "      <th>SpecialDef</th>\n",
       "      <th>Speed</th>\n",
       "      <th>Generation</th>\n",
       "      <th>Legendary</th>\n",
       "      <th>hasType2</th>\n",
       "    </tr>\n",
       "  </thead>\n",
       "  <tbody>\n",
       "    <tr>\n",
       "      <th>0</th>\n",
       "      <td>1</td>\n",
       "      <td>妙蛙種子</td>\n",
       "      <td>Grass</td>\n",
       "      <td>Poison</td>\n",
       "      <td>45</td>\n",
       "      <td>49</td>\n",
       "      <td>49</td>\n",
       "      <td>65</td>\n",
       "      <td>65</td>\n",
       "      <td>45</td>\n",
       "      <td>1</td>\n",
       "      <td>False</td>\n",
       "      <td>1</td>\n",
       "    </tr>\n",
       "    <tr>\n",
       "      <th>1</th>\n",
       "      <td>2</td>\n",
       "      <td>妙蛙草</td>\n",
       "      <td>Grass</td>\n",
       "      <td>Poison</td>\n",
       "      <td>60</td>\n",
       "      <td>62</td>\n",
       "      <td>63</td>\n",
       "      <td>80</td>\n",
       "      <td>80</td>\n",
       "      <td>60</td>\n",
       "      <td>1</td>\n",
       "      <td>False</td>\n",
       "      <td>1</td>\n",
       "    </tr>\n",
       "    <tr>\n",
       "      <th>2</th>\n",
       "      <td>3</td>\n",
       "      <td>妙蛙花</td>\n",
       "      <td>Grass</td>\n",
       "      <td>Poison</td>\n",
       "      <td>80</td>\n",
       "      <td>82</td>\n",
       "      <td>83</td>\n",
       "      <td>100</td>\n",
       "      <td>100</td>\n",
       "      <td>80</td>\n",
       "      <td>1</td>\n",
       "      <td>False</td>\n",
       "      <td>1</td>\n",
       "    </tr>\n",
       "    <tr>\n",
       "      <th>3</th>\n",
       "      <td>3</td>\n",
       "      <td>妙蛙花Mega</td>\n",
       "      <td>Grass</td>\n",
       "      <td>Poison</td>\n",
       "      <td>80</td>\n",
       "      <td>100</td>\n",
       "      <td>123</td>\n",
       "      <td>122</td>\n",
       "      <td>120</td>\n",
       "      <td>80</td>\n",
       "      <td>1</td>\n",
       "      <td>False</td>\n",
       "      <td>1</td>\n",
       "    </tr>\n",
       "    <tr>\n",
       "      <th>4</th>\n",
       "      <td>4</td>\n",
       "      <td>小火龍</td>\n",
       "      <td>Fire</td>\n",
       "      <td>NaN</td>\n",
       "      <td>39</td>\n",
       "      <td>52</td>\n",
       "      <td>43</td>\n",
       "      <td>60</td>\n",
       "      <td>50</td>\n",
       "      <td>65</td>\n",
       "      <td>1</td>\n",
       "      <td>False</td>\n",
       "      <td>0</td>\n",
       "    </tr>\n",
       "  </tbody>\n",
       "</table>\n",
       "</div>"
      ],
      "text/plain": [
       "   Number     Name  Type1   Type2  HP  Attack  Defense  SpecialAtk  \\\n",
       "0       1     妙蛙種子  Grass  Poison  45      49       49          65   \n",
       "1       2      妙蛙草  Grass  Poison  60      62       63          80   \n",
       "2       3      妙蛙花  Grass  Poison  80      82       83         100   \n",
       "3       3  妙蛙花Mega  Grass  Poison  80     100      123         122   \n",
       "4       4      小火龍   Fire     NaN  39      52       43          60   \n",
       "\n",
       "   SpecialDef  Speed  Generation  Legendary  hasType2  \n",
       "0          65     45           1      False         1  \n",
       "1          80     60           1      False         1  \n",
       "2         100     80           1      False         1  \n",
       "3         120     80           1      False         1  \n",
       "4          50     65           1      False         0  "
      ]
     },
     "execution_count": 1,
     "metadata": {},
     "output_type": "execute_result"
    }
   ],
   "source": [
    "import pandas as pd\n",
    "\n",
    "# 讀取資料\n",
    "df = pd.read_csv('ex6.csv')\n",
    "\n",
    "# 計算 Type2 是否為空值，若為空值則 hasType2 為 0，否則為 1\n",
    "df['hasType2'] = [0 if x else 1 for x in df['Type2'].isna()]\n",
    "'''\n",
    "也可以寫成:\n",
    "li_hasType2 = []\n",
    "for x in df['Type2'].isna():\n",
    "    if x:\n",
    "        li_hasType2.append(0)\n",
    "    else:\n",
    "        li_hasType2.append(1)\n",
    "'''\n",
    "\n",
    "# 顯示前 5 筆資料\n",
    "df.head(5)"
   ]
  },
  {
   "cell_type": "code",
   "execution_count": 2,
   "metadata": {},
   "outputs": [
    {
     "data": {
      "text/plain": [
       "(670, 6)"
      ]
     },
     "execution_count": 2,
     "metadata": {},
     "output_type": "execute_result"
    }
   ],
   "source": [
    "from sklearn.model_selection import train_test_split\n",
    "\n",
    "# 將資料分為訓練與測試資料集\n",
    "X, y = df.loc[:, 'HP':'Speed'], df['hasType2']\n",
    "\n",
    "# 切分資料，同時設定 random_state 以便重現結果\n",
    "X_train, X_test, y_train, y_test = train_test_split(\n",
    "    X, \n",
    "    y,\n",
    "    test_size=0.25,\n",
    "    random_state=0\n",
    ")\n",
    "\n",
    "# 顯示訓練資料集的形狀 (筆數, 特徵數)\n",
    "X_train.shape"
   ]
  },
  {
   "cell_type": "code",
   "execution_count": 3,
   "metadata": {},
   "outputs": [
    {
     "data": {
      "text/html": [
       "<div>\n",
       "<style scoped>\n",
       "    .dataframe tbody tr th:only-of-type {\n",
       "        vertical-align: middle;\n",
       "    }\n",
       "\n",
       "    .dataframe tbody tr th {\n",
       "        vertical-align: top;\n",
       "    }\n",
       "\n",
       "    .dataframe thead th {\n",
       "        text-align: right;\n",
       "    }\n",
       "</style>\n",
       "<table border=\"1\" class=\"dataframe\">\n",
       "  <thead>\n",
       "    <tr style=\"text-align: right;\">\n",
       "      <th></th>\n",
       "      <th>Test score</th>\n",
       "      <th>Train score</th>\n",
       "    </tr>\n",
       "  </thead>\n",
       "  <tbody>\n",
       "    <tr>\n",
       "      <th>KNN</th>\n",
       "      <td>0.562500</td>\n",
       "      <td>0.801493</td>\n",
       "    </tr>\n",
       "    <tr>\n",
       "      <th>bagging</th>\n",
       "      <td>0.580357</td>\n",
       "      <td>0.722388</td>\n",
       "    </tr>\n",
       "  </tbody>\n",
       "</table>\n",
       "</div>"
      ],
      "text/plain": [
       "         Test score  Train score\n",
       "KNN        0.562500     0.801493\n",
       "bagging    0.580357     0.722388"
      ]
     },
     "execution_count": 3,
     "metadata": {},
     "output_type": "execute_result"
    }
   ],
   "source": [
    "from sklearn.ensemble import BaggingClassifier\n",
    "from sklearn.neighbors import KNeighborsClassifier\n",
    "\n",
    "# 建立模型\n",
    "models = {\n",
    "    'KNN': KNeighborsClassifier(n_neighbors=3), \n",
    "    'bagging': BaggingClassifier(\n",
    "        KNeighborsClassifier(n_neighbors=3), \n",
    "        n_estimators=3, \n",
    "        max_samples=0.8, \n",
    "        max_features=0.8, \n",
    "        n_jobs=-1, \n",
    "        random_state=0\n",
    "    )\n",
    "}\n",
    "\n",
    "# 儲存分數\n",
    "scores = {}\n",
    "\n",
    "# 比較模型的表現\n",
    "for name, clf in models.items():\n",
    "    # 訓練模型\n",
    "    clf.fit(X_train, y_train)\n",
    "    \n",
    "    # 計算分數\n",
    "    scores[(name, 'Train score')] = clf.score(X_train, y_train)\n",
    "    scores[(name, 'Test score')] = clf.score(X_test, y_test)\n",
    "\n",
    "# 顯示分數\n",
    "pd.Series(scores).unstack()"
   ]
  },
  {
   "cell_type": "markdown",
   "metadata": {},
   "source": [
    "袋裝法最典型的例子就是隨機森林，這個方法是以決策樹為基礎學習器，藉由樣本與特徵的 boostrap 抽樣產生不同的訓練樣本集，以此建構出不同的決策樹模型。\n",
    "\n",
    "單棵決策樹在樹的深度過大時，容易產生過擬合現象，而隨機森林集成多棵決策樹的結果，儘管單夥決策樹傾向過擬合，若抽樣有足多的隨機性，在大數法則下，許多的決策樹的結果會趨向一致，因此集成結果會更接近真實情況，提升預測準確率。\n",
    "\n",
    "雖然隨機森林能有效避免過擬合，但並非不會發生，可能原因與處理方式如下：\n",
    "- 決策樹的數量不足：難以反應大數法則，可增加決策樹的數量（n_estimators）。\n",
    "- 對特徵抽樣的隨機性不夠：若特徵間的相關性過高，導致抽樣時可能會偏重某些特徵，這樣建構好的決策樹就缺代多樣性，就算集成後也容易產生過擬合。此時可以檢視各個特徵之間的相關程度，或是減少抽樣的特徵數量（max_features）。\n",
    "- 樣本的類別不平衡：除了能控制樣本的抽樣數量多（max_samples），若遇到樣本所屬類別較少時，就很不容易被抽中，此時也容易發生過擬合，可設定類別權重（class_weight），來處理。"
   ]
  },
  {
   "cell_type": "markdown",
   "metadata": {},
   "source": [
    "## 提升法 (Boosting)\n",
    "- 提升法是一種集成學習方法，透過將多個弱模型（錯誤率略低於瞎猜）的預測結果進行加權平均，以提升模型的預測能力。提升法的基本概念是透過串接的方式，將多個模型進行結合，並且針對上一個模型預測有誤的樣本進行學習，以降低整體預測的偏差（bias）。提升法的代表性演算法有 AdaBoost、Gradient Boosting、XGBoost、LightGBM、CatBoost 等。"
   ]
  },
  {
   "cell_type": "code",
   "execution_count": 4,
   "metadata": {},
   "outputs": [
    {
     "name": "stderr",
     "output_type": "stream",
     "text": [
      "d:\\anaconda3\\envs\\ml\\lib\\site-packages\\sklearn\\ensemble\\_weight_boosting.py:527: FutureWarning: The SAMME.R algorithm (the default) is deprecated and will be removed in 1.6. Use the SAMME algorithm to circumvent this warning.\n",
      "  warnings.warn(\n"
     ]
    },
    {
     "data": {
      "text/html": [
       "<div>\n",
       "<style scoped>\n",
       "    .dataframe tbody tr th:only-of-type {\n",
       "        vertical-align: middle;\n",
       "    }\n",
       "\n",
       "    .dataframe tbody tr th {\n",
       "        vertical-align: top;\n",
       "    }\n",
       "\n",
       "    .dataframe thead th {\n",
       "        text-align: right;\n",
       "    }\n",
       "</style>\n",
       "<table border=\"1\" class=\"dataframe\">\n",
       "  <thead>\n",
       "    <tr style=\"text-align: right;\">\n",
       "      <th></th>\n",
       "      <th>Test score</th>\n",
       "      <th>Train score</th>\n",
       "    </tr>\n",
       "  </thead>\n",
       "  <tbody>\n",
       "    <tr>\n",
       "      <th>AdaBoost</th>\n",
       "      <td>0.633929</td>\n",
       "      <td>0.607463</td>\n",
       "    </tr>\n",
       "    <tr>\n",
       "      <th>Decision Tree</th>\n",
       "      <td>0.616071</td>\n",
       "      <td>0.607463</td>\n",
       "    </tr>\n",
       "  </tbody>\n",
       "</table>\n",
       "</div>"
      ],
      "text/plain": [
       "               Test score  Train score\n",
       "AdaBoost         0.633929     0.607463\n",
       "Decision Tree    0.616071     0.607463"
      ]
     },
     "execution_count": 4,
     "metadata": {},
     "output_type": "execute_result"
    }
   ],
   "source": [
    "from sklearn.tree import DecisionTreeClassifier\n",
    "from sklearn.ensemble import AdaBoostClassifier\n",
    "\n",
    "# 建立模型\n",
    "models = {\n",
    "    'Decision Tree': DecisionTreeClassifier(max_depth=1), \n",
    "    'AdaBoost': AdaBoostClassifier(\n",
    "        n_estimators=3, \n",
    "        random_state=0\n",
    "    )\n",
    "}\n",
    "\n",
    "# 儲存分數\n",
    "scores = {}\n",
    "\n",
    "# 比較模型的表現\n",
    "for name, clf in models.items():\n",
    "    # 訓練模型\n",
    "    clf.fit(X_train, y_train)\n",
    "    \n",
    "    # 計算分數\n",
    "    scores[(name, 'Train score')] = clf.score(X_train, y_train)\n",
    "    scores[(name, 'Test score')] = clf.score(X_test, y_test)\n",
    "    \n",
    "# 顯示分數\n",
    "pd.Series(scores).unstack()"
   ]
  },
  {
   "cell_type": "markdown",
   "metadata": {},
   "source": [
    "### 迴歸任務"
   ]
  },
  {
   "cell_type": "code",
   "execution_count": 5,
   "metadata": {},
   "outputs": [
    {
     "data": {
      "text/plain": [
       "(670, 5)"
      ]
     },
     "execution_count": 5,
     "metadata": {},
     "output_type": "execute_result"
    }
   ],
   "source": [
    "# 選取特徵，以及目標 (數值型態)\n",
    "X_r, y_r = df.loc[:, 'Attack':'Speed'], df['HP']\n",
    "\n",
    "# 切分資料\n",
    "X_r_train, X_r_test, y_r_train, y_r_test = train_test_split(\n",
    "    X_r, \n",
    "    y_r, \n",
    "    test_size=0.25, \n",
    "    random_state=0\n",
    ")\n",
    "\n",
    "# 顯示訓練資料集的形狀 (筆數, 特徵數)\n",
    "X_r_train.shape"
   ]
  },
  {
   "cell_type": "code",
   "execution_count": 6,
   "metadata": {},
   "outputs": [
    {
     "data": {
      "text/html": [
       "<div>\n",
       "<style scoped>\n",
       "    .dataframe tbody tr th:only-of-type {\n",
       "        vertical-align: middle;\n",
       "    }\n",
       "\n",
       "    .dataframe tbody tr th {\n",
       "        vertical-align: top;\n",
       "    }\n",
       "\n",
       "    .dataframe thead th {\n",
       "        text-align: right;\n",
       "    }\n",
       "</style>\n",
       "<table border=\"1\" class=\"dataframe\">\n",
       "  <thead>\n",
       "    <tr style=\"text-align: right;\">\n",
       "      <th></th>\n",
       "      <th>Test score</th>\n",
       "      <th>Train score</th>\n",
       "    </tr>\n",
       "  </thead>\n",
       "  <tbody>\n",
       "    <tr>\n",
       "      <th>AdaBoost</th>\n",
       "      <td>0.339387</td>\n",
       "      <td>0.446392</td>\n",
       "    </tr>\n",
       "    <tr>\n",
       "      <th>Decision Tree</th>\n",
       "      <td>0.226408</td>\n",
       "      <td>0.413383</td>\n",
       "    </tr>\n",
       "  </tbody>\n",
       "</table>\n",
       "</div>"
      ],
      "text/plain": [
       "               Test score  Train score\n",
       "AdaBoost         0.339387     0.446392\n",
       "Decision Tree    0.226408     0.413383"
      ]
     },
     "execution_count": 6,
     "metadata": {},
     "output_type": "execute_result"
    }
   ],
   "source": [
    "from sklearn.tree import DecisionTreeRegressor\n",
    "from sklearn.ensemble import AdaBoostRegressor\n",
    "\n",
    "# 建立模型\n",
    "reg = DecisionTreeRegressor(max_depth=3)\n",
    "\n",
    "# 整合模型\n",
    "models = {\n",
    "    'Decision Tree': reg, \n",
    "    'AdaBoost': AdaBoostRegressor(\n",
    "        reg, \n",
    "        learning_rate=0.01, \n",
    "        random_state=0\n",
    "    )\n",
    "}\n",
    "\n",
    "# 儲存分數\n",
    "scores = {}\n",
    "\n",
    "# 比較模型的表現\n",
    "for name, clf in models.items():\n",
    "    # 訓練模型\n",
    "    clf.fit(X_r_train, y_r_train)\n",
    "    \n",
    "    # 計算分數\n",
    "    scores[(name, 'Train score')] = clf.score(X_r_train, y_r_train)\n",
    "    scores[(name, 'Test score')] = clf.score(X_r_test, y_r_test)\n",
    "    \n",
    "# 顯示分數\n",
    "pd.Series(scores).unstack()"
   ]
  },
  {
   "cell_type": "markdown",
   "metadata": {},
   "source": [
    "## 堆疊法 (Stacking)\n",
    "- 一種集成學習方法，透過將多個模型的預測結果進行串接，再透過另一個模型進行整合，以提升模型的預測能力。它整點了袋裝法與提升法的優點。\n",
    "- 基本概念是透過串接的方式，將多個模型進行結合，並且將這些模型的預測結果進行串接，再透過另一個模型進行整合。\n",
    "- 優點是能夠整合多個模型的預測結果，進而提升模型的預測能力。堆疊法的缺點是需要額外的計算成本，並且需要調整多個模型的參數，以獲得最佳的整合效果。\n",
    "\n",
    "### 基本結構\n",
    "- 第一層：基礎模型（Base Models）\n",
    "  - 多個不同的模型（例如決策樹、支持向量機、隨機森林、神經網絡等）。\n",
    "  - 每個基礎模型會接收相同的輸入數據，並生成預測結果。\n",
    "  - 這些模型可以是不同類型的算法，也可以是相同算法的不同超參數版本。\n",
    "- 第二層：元學習器（Meta Learner）\n",
    "  - 元學習器接受第一層基礎模型的預測作為輸入特徵，進一步學習如何結合這些預測來生成最終結果。\n",
    "  - 常用的元學習器包括邏輯迴歸、線性回歸、梯度提升機（如 XGBoost）等。\n",
    "\n",
    "### 步驟\n",
    "- 步驟 1：訓練基礎模型\n",
    "  - 使用訓練數據（Training Data）訓練多個基礎模型。\n",
    "  - 每個模型獨立學習，輸出對目標變數的預測值。\n",
    "- 步驟 2：生成第二層的輸入特徵\n",
    "  - 將基礎模型對訓練集的預測結果（或對驗證集的預測結果，見「交叉驗證版本」）作為第二層輸入特徵。\n",
    "  - 如果有 𝑛 個基礎模型，第二層輸入特徵矩陣的每列對應一個模型的預測。\n",
    "- 步驟 3：訓練元學習器\n",
    "  - 使用第二層的輸入特徵和真實目標值，訓練元學習器。\n",
    "  - 元學習器的目標是學習如何將基礎模型的預測結果組合，得到最終的預測。\n",
    "- 步驟 4：測試與預測\n",
    "  - 將測試數據分別輸入基礎模型，獲得第一層的預測。\n",
    "  - 將這些預測結果輸入元學習器，生成最終預測結果。\n"
   ]
  },
  {
   "cell_type": "markdown",
   "metadata": {},
   "source": [
    "### Voting (投票法)\n",
    "- VotingClassifier 是一種集成學習方法，透過將多個模型的預測結果進行投票，以提升模型的預測能力。VotingClassifier 的基本概念是透過投票的方式，將多個模型進行結合，並且將這些模型的預測結果進行投票。\n",
    "- voting='hard' 代表多個模型的預測結果進行投票，得票最多的類別為最終預測結果。\n",
    "- voting='soft' 代表多個模型的預測機率進行平均，再進行投票，得票最多的類別為最終預測結果。"
   ]
  },
  {
   "cell_type": "code",
   "execution_count": 7,
   "metadata": {},
   "outputs": [
    {
     "data": {
      "text/plain": [
       "array([1, 1, 1, 0, 1, 1, 0, 0, 1, 1])"
      ]
     },
     "execution_count": 7,
     "metadata": {},
     "output_type": "execute_result"
    }
   ],
   "source": [
    "from sklearn.linear_model import LogisticRegression\n",
    "from sklearn.naive_bayes import GaussianNB\n",
    "from sklearn.ensemble import RandomForestClassifier, VotingClassifier\n",
    "\n",
    "# 建立模型\n",
    "clf1 = LogisticRegression()\n",
    "clf2 = RandomForestClassifier()\n",
    "clf3 = GaussianNB()\n",
    "\n",
    "# 整合模型\n",
    "en_clf1 = VotingClassifier(\n",
    "    estimators=[\n",
    "        ('lr', clf1), \n",
    "        ('rf', clf2), \n",
    "        ('nb', clf3)\n",
    "    ], \n",
    "    voting='hard'\n",
    ")\n",
    "\n",
    "# 訓練模型\n",
    "en_clf1.fit(X_train, y_train)\n",
    "\n",
    "# 顯示前 10 筆預測結果\n",
    "en_clf1.predict(X_test)[:10]"
   ]
  },
  {
   "cell_type": "code",
   "execution_count": 8,
   "metadata": {},
   "outputs": [
    {
     "name": "stdout",
     "output_type": "stream",
     "text": [
      "真實類別： [1 1 0 0 1 1 1 0 0 1]\n",
      "邏輯斯迴歸分類結果： [0 0 1 1 0 0 1 1 1 0]\n",
      "隨機森林分類結果： [1 0 1 1 0 0 1 1 1 0]\n",
      "單純貝氏分類結果： [0 0 1 1 0 0 1 1 1 0]\n"
     ]
    }
   ],
   "source": [
    "# 記錄準確率\n",
    "scores = {}\n",
    "name = 'Voting (hard)'\n",
    "scores[(name, 'Train score')] = en_clf1.score(X_train, y_train)\n",
    "scores[(name, 'Test score')] = en_clf1.score(X_test, y_test)\n",
    "\n",
    "# 取出每個模型的分類結果\n",
    "print('真實類別：', y_test[:10].values)\n",
    "print('邏輯斯迴歸分類結果：', en_clf1.named_estimators_['lr'].predict(X)[:10])\n",
    "print('隨機森林分類結果：', en_clf1.named_estimators_['rf'].predict(X)[:10])\n",
    "print('單純貝氏分類結果：', en_clf1.named_estimators_['nb'].predict(X)[:10])"
   ]
  },
  {
   "cell_type": "code",
   "execution_count": 9,
   "metadata": {},
   "outputs": [
    {
     "data": {
      "text/plain": [
       "array([1, 1, 1, 0, 1, 1, 0, 1, 1, 1])"
      ]
     },
     "execution_count": 9,
     "metadata": {},
     "output_type": "execute_result"
    }
   ],
   "source": [
    "# 整合模型\n",
    "en_clf2 = VotingClassifier(\n",
    "    estimators=[\n",
    "        ('lr', clf1), \n",
    "        ('rf', clf2), \n",
    "        ('gnb', clf3)\n",
    "    ], \n",
    "    voting='soft')\n",
    "\n",
    "# 訓練模型\n",
    "en_clf2.fit(X_train, y_train)\n",
    "\n",
    "# 顯示前 10 筆預測結果\n",
    "en_clf2.predict(X_test)[:10]"
   ]
  },
  {
   "cell_type": "code",
   "execution_count": 10,
   "metadata": {},
   "outputs": [
    {
     "name": "stdout",
     "output_type": "stream",
     "text": [
      "真實類別： 1\n",
      "邏輯斯迴歸分類機率： [0.35731504 0.64268496]\n",
      "隨機森林分類機率： [0.46433333 0.53566667]\n",
      "單純貝氏分類機率： [0.43394856 0.56605144]\n"
     ]
    }
   ],
   "source": [
    "# 記錄準確率\n",
    "name = 'Voting (soft)'\n",
    "scores[(name, 'Train score')] = en_clf2.score(X_train, y_train)\n",
    "scores[(name, 'Test score')] = en_clf2.score(X_test, y_test)\n",
    "\n",
    "# 取出每個模型的預測機率\n",
    "prob = en_clf2.transform(X_test)\n",
    "print('真實類別：', y_test.iloc[0])\n",
    "print('邏輯斯迴歸分類機率：', prob[0][:2])\n",
    "print('隨機森林分類機率：', prob[0][2:4])\n",
    "print('單純貝氏分類機率：', prob[0][4:])"
   ]
  },
  {
   "cell_type": "code",
   "execution_count": 11,
   "metadata": {},
   "outputs": [
    {
     "data": {
      "text/plain": [
       "array([1, 1, 1, 0, 1, 1, 0, 1, 1, 1])"
      ]
     },
     "execution_count": 11,
     "metadata": {},
     "output_type": "execute_result"
    }
   ],
   "source": [
    "# 整合模型\n",
    "en_clf3 = VotingClassifier(\n",
    "    estimators=[\n",
    "        ('lr', clf1), \n",
    "        ('rf', clf2), \n",
    "        ('gnb', clf3)\n",
    "    ], \n",
    "    voting='soft', \n",
    "    weights=[2,1,1]\n",
    ")\n",
    "\n",
    "# 訓練模型\n",
    "en_clf3.fit(X_train, y_train)\n",
    "\n",
    "# 顯示前 10 筆預測結果\n",
    "en_clf3.predict(X_test)[:10]"
   ]
  },
  {
   "cell_type": "code",
   "execution_count": 12,
   "metadata": {},
   "outputs": [
    {
     "data": {
      "text/html": [
       "<div>\n",
       "<style scoped>\n",
       "    .dataframe tbody tr th:only-of-type {\n",
       "        vertical-align: middle;\n",
       "    }\n",
       "\n",
       "    .dataframe tbody tr th {\n",
       "        vertical-align: top;\n",
       "    }\n",
       "\n",
       "    .dataframe thead th {\n",
       "        text-align: right;\n",
       "    }\n",
       "</style>\n",
       "<table border=\"1\" class=\"dataframe\">\n",
       "  <thead>\n",
       "    <tr style=\"text-align: right;\">\n",
       "      <th></th>\n",
       "      <th>Test score</th>\n",
       "      <th>Train score</th>\n",
       "    </tr>\n",
       "  </thead>\n",
       "  <tbody>\n",
       "    <tr>\n",
       "      <th>Voting (hard)</th>\n",
       "      <td>0.589286</td>\n",
       "      <td>0.661194</td>\n",
       "    </tr>\n",
       "    <tr>\n",
       "      <th>Voting (soft + weight)</th>\n",
       "      <td>0.589286</td>\n",
       "      <td>0.801493</td>\n",
       "    </tr>\n",
       "    <tr>\n",
       "      <th>Voting (soft)</th>\n",
       "      <td>0.611607</td>\n",
       "      <td>0.852239</td>\n",
       "    </tr>\n",
       "  </tbody>\n",
       "</table>\n",
       "</div>"
      ],
      "text/plain": [
       "                        Test score  Train score\n",
       "Voting (hard)             0.589286     0.661194\n",
       "Voting (soft + weight)    0.589286     0.801493\n",
       "Voting (soft)             0.611607     0.852239"
      ]
     },
     "execution_count": 12,
     "metadata": {},
     "output_type": "execute_result"
    }
   ],
   "source": [
    "# 記錄準確率\n",
    "name = 'Voting (soft + weight)'\n",
    "scores[(name, 'Train score')] = en_clf3.score(X_train, y_train)\n",
    "scores[(name, 'Test score')] = en_clf3.score(X_test, y_test)\n",
    "\n",
    "# 顯示分數\n",
    "pd.Series(scores).unstack()"
   ]
  },
  {
   "cell_type": "markdown",
   "metadata": {},
   "source": [
    "### Stacking (堆疊法)"
   ]
  },
  {
   "cell_type": "code",
   "execution_count": 13,
   "metadata": {},
   "outputs": [
    {
     "data": {
      "text/html": [
       "<div>\n",
       "<style scoped>\n",
       "    .dataframe tbody tr th:only-of-type {\n",
       "        vertical-align: middle;\n",
       "    }\n",
       "\n",
       "    .dataframe tbody tr th {\n",
       "        vertical-align: top;\n",
       "    }\n",
       "\n",
       "    .dataframe thead th {\n",
       "        text-align: right;\n",
       "    }\n",
       "</style>\n",
       "<table border=\"1\" class=\"dataframe\">\n",
       "  <thead>\n",
       "    <tr style=\"text-align: right;\">\n",
       "      <th></th>\n",
       "      <th>Test score</th>\n",
       "      <th>Train score</th>\n",
       "    </tr>\n",
       "  </thead>\n",
       "  <tbody>\n",
       "    <tr>\n",
       "      <th>K-NN</th>\n",
       "      <td>0.575893</td>\n",
       "      <td>0.995522</td>\n",
       "    </tr>\n",
       "    <tr>\n",
       "      <th>Naive Bayes</th>\n",
       "      <td>0.611607</td>\n",
       "      <td>0.576119</td>\n",
       "    </tr>\n",
       "    <tr>\n",
       "      <th>Random Forest</th>\n",
       "      <td>0.562500</td>\n",
       "      <td>0.888060</td>\n",
       "    </tr>\n",
       "    <tr>\n",
       "      <th>Stacking</th>\n",
       "      <td>0.625000</td>\n",
       "      <td>0.898507</td>\n",
       "    </tr>\n",
       "  </tbody>\n",
       "</table>\n",
       "</div>"
      ],
      "text/plain": [
       "               Test score  Train score\n",
       "K-NN             0.575893     0.995522\n",
       "Naive Bayes      0.611607     0.576119\n",
       "Random Forest    0.562500     0.888060\n",
       "Stacking         0.625000     0.898507"
      ]
     },
     "execution_count": 13,
     "metadata": {},
     "output_type": "execute_result"
    }
   ],
   "source": [
    "\n",
    "\n",
    "from sklearn.neighbors import KNeighborsClassifier\n",
    "from sklearn.ensemble import StackingClassifier\n",
    "\n",
    "# 建立模型\n",
    "clf1 = KNeighborsClassifier(n_neighbors=1)\n",
    "clf2 = RandomForestClassifier(max_depth=7, random_state=0)\n",
    "clf3 = GaussianNB()\n",
    "\n",
    "# 以 LogisticRegression 為最終分類器\n",
    "lr = LogisticRegression()\n",
    "\n",
    "# 建立三個模型的堆疊模型\n",
    "estimators = [\n",
    "    ('K-NN', clf1), \n",
    "    ('rf', clf2), \n",
    "    ('nb', clf3)\n",
    "]\n",
    "\n",
    "# 建立堆疊模型\n",
    "sclf = StackingClassifier(\n",
    "    estimators=estimators, # 三個模型\n",
    "    final_estimator=lr, # 最終分類器\n",
    "    n_jobs=-1\n",
    ")\n",
    "\n",
    "# 設定模型名稱\n",
    "titles = (\n",
    "    'K-NN', \n",
    "    'Random Forest', \n",
    "    'Naive Bayes',\n",
    "    'Stacking')\n",
    "\n",
    "# 整理模型\n",
    "models = (clf1, clf2, clf3, sclf)\n",
    "\n",
    "# 訓練模型\n",
    "models = [clf.fit(X_train, y_train) for clf in models]\n",
    "\n",
    "# 記錄分數\n",
    "scores = {}\n",
    "\n",
    "# 計算分數\n",
    "for clf, title in zip(models, titles):\n",
    "    scores[(title, 'Train score')] = clf.score(X_train, y_train)\n",
    "    scores[(title, 'Test score')] = clf.score(X_test, y_test)\n",
    "\n",
    "# 顯示分數\n",
    "pd.Series(scores).unstack()"
   ]
  },
  {
   "cell_type": "code",
   "execution_count": 15,
   "metadata": {},
   "outputs": [
    {
     "name": "stdout",
     "output_type": "stream",
     "text": [
      "K-NN 的權重 = 0.3740723674113456\n",
      "rf 的權重 = 0.9009024526911573\n",
      "nb 的權重 = 0.9138929042521489\n"
     ]
    }
   ],
   "source": [
    "# 顯示權重\n",
    "for i, est in enumerate(estimators):\n",
    "    # 顯示權重\n",
    "    print(est[0], '的權重 =', sclf.final_estimator_.coef_[0][i])"
   ]
  },
  {
   "cell_type": "code",
   "execution_count": 16,
   "metadata": {},
   "outputs": [
    {
     "data": {
      "text/plain": [
       "array([0.49104478, 0.50149254, 0.53134328, 0.51791045, 0.57313433,\n",
       "       0.5761194 , 0.58507463, 0.6       , 0.60746269, 0.59850746])"
      ]
     },
     "execution_count": 16,
     "metadata": {},
     "output_type": "execute_result"
    }
   ],
   "source": [
    "# 繪製學習曲線\n",
    "import numpy as np\n",
    "from sklearn.model_selection import learning_curve\n",
    "\n",
    "# 設定參數\n",
    "train_sizes, train_scores, test_scores = learning_curve(\n",
    "    estimator=sclf, X\n",
    "    =X_train, \n",
    "    y=y_train, \n",
    "    train_sizes=np.linspace(0.1, 1.0, 10), \n",
    "    cv=10, \n",
    "    n_jobs=-1\n",
    ")\n",
    "\n",
    "# 計算平均值與標準差\n",
    "train_mean = np.mean(train_scores, axis=1)\n",
    "train_std = np.std(train_scores, axis=1)\n",
    "test_mean = np.mean(test_scores, axis=1)\n",
    "test_std = np.std(test_scores, axis=1)\n",
    "\n",
    "test_mean"
   ]
  },
  {
   "cell_type": "code",
   "execution_count": 23,
   "metadata": {},
   "outputs": [
    {
     "data": {
      "image/png": "[encoded data removed]",
      "text/plain": [
       "<Figure size 640x480 with 1 Axes>"
      ]
     },
     "metadata": {},
     "output_type": "display_data"
    }
   ],
   "source": [
    "import matplotlib.pyplot as plt\n",
    "\n",
    "# 繪製 Training accuracy 的學習曲線\n",
    "plt.plot(\n",
    "    train_sizes, \n",
    "    train_mean, \n",
    "    color='blue', \n",
    "    marker='o', \n",
    "    markersize=5, \n",
    "    label='Training accuracy'\n",
    ")\n",
    "\n",
    "# 繪製訓練分數的平均值加/減標準差的區域\n",
    "plt.fill_between(\n",
    "    train_sizes, \n",
    "    train_mean + train_std,\n",
    "    train_mean - train_std, \n",
    "    alpha=0.1, \n",
    "    color='blue'\n",
    ")\n",
    "\n",
    "# 繪製 Validation accuracy 的學習曲線\n",
    "plt.plot(\n",
    "    train_sizes, \n",
    "    test_mean, \n",
    "    color='green', \n",
    "    ls='--',\n",
    "    marker='s', \n",
    "    markersize=5, \n",
    "    label='Validation accuracy'\n",
    ")\n",
    "\n",
    "# 繪製驗證分數平均值加/減標準差的區域\n",
    "plt.fill_between(\n",
    "    train_sizes, \n",
    "    test_mean + test_std, \n",
    "    test_mean - test_std, \n",
    "    alpha=0.1, \n",
    "    color='green'\n",
    ")\n",
    "\n",
    "# 加入圖例\n",
    "plt.grid()\n",
    "plt.xlabel('Number of Training Size')\n",
    "plt.ylabel('Accuracy')\n",
    "plt.legend()\n",
    "plt.show()"
   ]
  }
 ],
 "metadata": {
  "kernelspec": {
   "display_name": "ml",
   "language": "python",
   "name": "python3"
  },
  "language_info": {
   "codemirror_mode": {
    "name": "ipython",
    "version": 3
   },
   "file_extension": ".py",
   "mimetype": "text/x-python",
   "name": "python",
   "nbconvert_exporter": "python",
   "pygments_lexer": "ipython3",
   "version": "3.10.15"
  }
 },
 "nbformat": 4,
 "nbformat_minor": 2
}

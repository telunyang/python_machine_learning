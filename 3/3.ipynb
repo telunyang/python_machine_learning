{
 "cells": [
  {
   "cell_type": "code",
   "execution_count": 1,
   "metadata": {},
   "outputs": [],
   "source": [
    "# 忽略警告訊息\n",
    "import warnings\n",
    "warnings.filterwarnings(\"ignore\")"
   ]
  },
  {
   "cell_type": "markdown",
   "metadata": {},
   "source": [
    "# 分類 (Classification)"
   ]
  },
  {
   "cell_type": "markdown",
   "metadata": {},
   "source": [
    "## 線性迴歸 (Linear Regression) 與 羅吉斯迴歸 (Logistic Regression)"
   ]
  },
  {
   "cell_type": "markdown",
   "metadata": {},
   "source": [
    "![](https://miro.medium.com/v2/resize:fit:1400/1*F9koiudfoqYIP0sDoZyG4g.png)\n",
    "\n",
    "參考來源: [https://chih-sheng-huang821.medium.com/機器-統計學習-羅吉斯回歸-logistic-regression-aff7a830fb5d](https://chih-sheng-huang821.medium.com/機器-統計學習-羅吉斯回歸-logistic-regression-aff7a830fb5d)"
   ]
  },
  {
   "cell_type": "markdown",
   "metadata": {},
   "source": [
    "## 評估方式"
   ]
  },
  {
   "cell_type": "markdown",
   "metadata": {},
   "source": [
    "### Confusion Matrix (混淆矩陣)"
   ]
  },
  {
   "cell_type": "markdown",
   "metadata": {},
   "source": [
    "### 二元分類\n",
    "\n",
    "![](https://images.prismic.io/encord/edfa849b-03fb-43d2-aba5-1f53a8884e6f_image5.png?auto=compress,format)\n",
    "\n",
    "參考來源: [https://encord.com/glossary/confusion-matrix/](https://encord.com/glossary/confusion-matrix/)"
   ]
  },
  {
   "cell_type": "markdown",
   "metadata": {},
   "source": [
    "### 評估指標 (metric)：Precision, Recall, F1-Score\n",
    "- Precision: 預測為正且正確的比例\n",
    "- Recall: 實際為正且正確的比例\n",
    "- Accuracy: 預測正確的比例\n",
    "- F1 Score: Precision 與 Recall 的調和平均數\n",
    "\n",
    "$$Precision = \\frac{TP}{TP + FP}$$\n",
    "$$Recall = \\frac{TP}{TP + FN}$$\n",
    "$$Accuracy = \\frac{TP + TN}{TP + TN + FP + FN}$$\n",
    "$$F1 = 2 \\times \\frac{Precision \\times Recall}{Precision + Recall}$$"
   ]
  },
  {
   "cell_type": "markdown",
   "metadata": {},
   "source": [
    "## 讀取資料集"
   ]
  },
  {
   "cell_type": "markdown",
   "metadata": {},
   "source": [
    "![](https://biologyreader.com/wp-content/uploads/2022/05/sepal.jpg)\n",
    "![](https://biologyreader.com/wp-content/uploads/2022/05/petal.jpg)\n",
    "\n",
    "參考來源: https://biologyreader.com/difference-between-sepals-and-petals.html"
   ]
  },
  {
   "cell_type": "code",
   "execution_count": null,
   "metadata": {},
   "outputs": [
    {
     "data": {
      "text/html": [
       "<div>\n",
       "<style scoped>\n",
       "    .dataframe tbody tr th:only-of-type {\n",
       "        vertical-align: middle;\n",
       "    }\n",
       "\n",
       "    .dataframe tbody tr th {\n",
       "        vertical-align: top;\n",
       "    }\n",
       "\n",
       "    .dataframe thead th {\n",
       "        text-align: right;\n",
       "    }\n",
       "</style>\n",
       "<table border=\"1\" class=\"dataframe\">\n",
       "  <thead>\n",
       "    <tr style=\"text-align: right;\">\n",
       "      <th></th>\n",
       "      <th>sepal_length</th>\n",
       "      <th>sepal_width</th>\n",
       "      <th>petal_length</th>\n",
       "      <th>petal_width</th>\n",
       "      <th>species</th>\n",
       "    </tr>\n",
       "  </thead>\n",
       "  <tbody>\n",
       "    <tr>\n",
       "      <th>0</th>\n",
       "      <td>5.1</td>\n",
       "      <td>3.5</td>\n",
       "      <td>1.4</td>\n",
       "      <td>0.2</td>\n",
       "      <td>setosa</td>\n",
       "    </tr>\n",
       "    <tr>\n",
       "      <th>1</th>\n",
       "      <td>4.9</td>\n",
       "      <td>3.0</td>\n",
       "      <td>1.4</td>\n",
       "      <td>0.2</td>\n",
       "      <td>setosa</td>\n",
       "    </tr>\n",
       "    <tr>\n",
       "      <th>2</th>\n",
       "      <td>4.7</td>\n",
       "      <td>3.2</td>\n",
       "      <td>1.3</td>\n",
       "      <td>0.2</td>\n",
       "      <td>setosa</td>\n",
       "    </tr>\n",
       "    <tr>\n",
       "      <th>3</th>\n",
       "      <td>4.6</td>\n",
       "      <td>3.1</td>\n",
       "      <td>1.5</td>\n",
       "      <td>0.2</td>\n",
       "      <td>setosa</td>\n",
       "    </tr>\n",
       "    <tr>\n",
       "      <th>4</th>\n",
       "      <td>5.0</td>\n",
       "      <td>3.6</td>\n",
       "      <td>1.4</td>\n",
       "      <td>0.2</td>\n",
       "      <td>setosa</td>\n",
       "    </tr>\n",
       "    <tr>\n",
       "      <th>...</th>\n",
       "      <td>...</td>\n",
       "      <td>...</td>\n",
       "      <td>...</td>\n",
       "      <td>...</td>\n",
       "      <td>...</td>\n",
       "    </tr>\n",
       "    <tr>\n",
       "      <th>145</th>\n",
       "      <td>6.7</td>\n",
       "      <td>3.0</td>\n",
       "      <td>5.2</td>\n",
       "      <td>2.3</td>\n",
       "      <td>virginica</td>\n",
       "    </tr>\n",
       "    <tr>\n",
       "      <th>146</th>\n",
       "      <td>6.3</td>\n",
       "      <td>2.5</td>\n",
       "      <td>5.0</td>\n",
       "      <td>1.9</td>\n",
       "      <td>virginica</td>\n",
       "    </tr>\n",
       "    <tr>\n",
       "      <th>147</th>\n",
       "      <td>6.5</td>\n",
       "      <td>3.0</td>\n",
       "      <td>5.2</td>\n",
       "      <td>2.0</td>\n",
       "      <td>virginica</td>\n",
       "    </tr>\n",
       "    <tr>\n",
       "      <th>148</th>\n",
       "      <td>6.2</td>\n",
       "      <td>3.4</td>\n",
       "      <td>5.4</td>\n",
       "      <td>2.3</td>\n",
       "      <td>virginica</td>\n",
       "    </tr>\n",
       "    <tr>\n",
       "      <th>149</th>\n",
       "      <td>5.9</td>\n",
       "      <td>3.0</td>\n",
       "      <td>5.1</td>\n",
       "      <td>1.8</td>\n",
       "      <td>virginica</td>\n",
       "    </tr>\n",
       "  </tbody>\n",
       "</table>\n",
       "<p>150 rows × 5 columns</p>\n",
       "</div>"
      ],
      "text/plain": [
       "     sepal_length  sepal_width  petal_length  petal_width    species\n",
       "0             5.1          3.5           1.4          0.2     setosa\n",
       "1             4.9          3.0           1.4          0.2     setosa\n",
       "2             4.7          3.2           1.3          0.2     setosa\n",
       "3             4.6          3.1           1.5          0.2     setosa\n",
       "4             5.0          3.6           1.4          0.2     setosa\n",
       "..            ...          ...           ...          ...        ...\n",
       "145           6.7          3.0           5.2          2.3  virginica\n",
       "146           6.3          2.5           5.0          1.9  virginica\n",
       "147           6.5          3.0           5.2          2.0  virginica\n",
       "148           6.2          3.4           5.4          2.3  virginica\n",
       "149           5.9          3.0           5.1          1.8  virginica\n",
       "\n",
       "[150 rows x 5 columns]"
      ]
     },
     "execution_count": 33,
     "metadata": {},
     "output_type": "execute_result"
    }
   ],
   "source": [
    "# 讀取 iris 資料集\n",
    "import numpy as np\n",
    "import pandas as pd\n",
    "from sklearn.model_selection import train_test_split\n",
    "\n",
    "'''\n",
    "欄位說明:\n",
    "sepal length (cm) \n",
    "sepal width (cm) \n",
    "petal length (cm) \n",
    "petal width (cm)  \n",
    "species (target)\n",
    "'''\n",
    "\n",
    "# 讀取資料\n",
    "df = pd.read_csv('./ex3-1.csv')\n",
    "df"
   ]
  },
  {
   "cell_type": "code",
   "execution_count": 20,
   "metadata": {},
   "outputs": [
    {
     "data": {
      "text/html": [
       "<div>\n",
       "<style scoped>\n",
       "    .dataframe tbody tr th:only-of-type {\n",
       "        vertical-align: middle;\n",
       "    }\n",
       "\n",
       "    .dataframe tbody tr th {\n",
       "        vertical-align: top;\n",
       "    }\n",
       "\n",
       "    .dataframe thead th {\n",
       "        text-align: right;\n",
       "    }\n",
       "</style>\n",
       "<table border=\"1\" class=\"dataframe\">\n",
       "  <thead>\n",
       "    <tr style=\"text-align: right;\">\n",
       "      <th></th>\n",
       "      <th>sepal_length</th>\n",
       "      <th>sepal_width</th>\n",
       "      <th>petal_length</th>\n",
       "      <th>petal_width</th>\n",
       "    </tr>\n",
       "  </thead>\n",
       "  <tbody>\n",
       "    <tr>\n",
       "      <th>61</th>\n",
       "      <td>5.9</td>\n",
       "      <td>3.0</td>\n",
       "      <td>4.2</td>\n",
       "      <td>1.5</td>\n",
       "    </tr>\n",
       "    <tr>\n",
       "      <th>92</th>\n",
       "      <td>5.8</td>\n",
       "      <td>2.6</td>\n",
       "      <td>4.0</td>\n",
       "      <td>1.2</td>\n",
       "    </tr>\n",
       "    <tr>\n",
       "      <th>112</th>\n",
       "      <td>6.8</td>\n",
       "      <td>3.0</td>\n",
       "      <td>5.5</td>\n",
       "      <td>2.1</td>\n",
       "    </tr>\n",
       "    <tr>\n",
       "      <th>2</th>\n",
       "      <td>4.7</td>\n",
       "      <td>3.2</td>\n",
       "      <td>1.3</td>\n",
       "      <td>0.2</td>\n",
       "    </tr>\n",
       "    <tr>\n",
       "      <th>141</th>\n",
       "      <td>6.9</td>\n",
       "      <td>3.1</td>\n",
       "      <td>5.1</td>\n",
       "      <td>2.3</td>\n",
       "    </tr>\n",
       "  </tbody>\n",
       "</table>\n",
       "</div>"
      ],
      "text/plain": [
       "     sepal_length  sepal_width  petal_length  petal_width\n",
       "61            5.9          3.0           4.2          1.5\n",
       "92            5.8          2.6           4.0          1.2\n",
       "112           6.8          3.0           5.5          2.1\n",
       "2             4.7          3.2           1.3          0.2\n",
       "141           6.9          3.1           5.1          2.3"
      ]
     },
     "execution_count": 20,
     "metadata": {},
     "output_type": "execute_result"
    }
   ],
   "source": [
    "# 切分訓練集/測試集\n",
    "X = df.iloc[:, 0:4] # 等同於 df.loc[:, ['sepal_length', 'sepal_width', 'petal_length', 'petal_width']]\n",
    "y = df.iloc[:, 4] # 等同於 df.loc[:, 'species']\n",
    "X_train, X_test, y_train, y_test = train_test_split(X, y, random_state=0)\n",
    "\n",
    "# 預覽特徵資料\n",
    "X_train.iloc[:5]"
   ]
  },
  {
   "cell_type": "markdown",
   "metadata": {},
   "source": [
    "## 多元分類器\n",
    "-  OvR 策略指的是 「一對餘」（One-vs-Rest） 策略。這種方法將多類別分類問題轉化為多個二元分類問題，對於**每個類別都訓練一個分類器**（例如水系寶可夢跟非水系寶可夢）。每個分類器都學習如何區分「該類別」與「其他所有類別」。在預測時，將輸入數據通過所有分類器，選擇得分最高的那個分類器所對應的類別作為最終預測結果。\n",
    "- OvO 策略指的是 「一對一」（One-vs-One） 策略。這種方法將多類別分類問題轉化為多個二元分類問題，為每一對類別（**任取兩個類別**）組合訓練一個分類器。具體而言，假設有 N 個分類器，則需要訓練 $\\frac{N(N-1)}{2}$ 。每個分類器都學習如何在兩個特定的類別之間進行區分。當進行預測時，將輸入數據通過所有分類器，採用「投票」機制，選擇得票數最多的類別作為最終預測結果。"
   ]
  },
  {
   "cell_type": "code",
   "execution_count": 21,
   "metadata": {},
   "outputs": [
    {
     "data": {
      "text/plain": [
       "0.9736842105263158"
      ]
     },
     "execution_count": 21,
     "metadata": {},
     "output_type": "execute_result"
    }
   ],
   "source": [
    "from sklearn.linear_model import LogisticRegression\n",
    "\n",
    "# 建立邏輯斯迴歸模型(預設為 OvR 策略)\n",
    "logit = LogisticRegression()\n",
    "\n",
    "# 訓練模型\n",
    "logit.fit(X_train, y_train)\n",
    "\n",
    "# 計算測試數據和標籤的平均準確率\n",
    "logit.score(X_test, y_test)"
   ]
  },
  {
   "cell_type": "code",
   "execution_count": 22,
   "metadata": {},
   "outputs": [
    {
     "name": "stdout",
     "output_type": "stream",
     "text": [
      "OvR: 0.9473684210526315\n",
      "OvO: 0.9736842105263158\n"
     ]
    }
   ],
   "source": [
    "from sklearn.multiclass import OneVsRestClassifier, OneVsOneClassifier\n",
    "\n",
    "# 建立邏輯斯迴歸模型\n",
    "logit = LogisticRegression()\n",
    "\n",
    "# OvR策略應用二元分類器到多元分類，初始化需傳入分類的模型\n",
    "ovr = OneVsRestClassifier(logit)\n",
    "ovr.fit(X_train, y_train)\n",
    "print('OvR:', ovr.score(X_test, y_test))\n",
    "\n",
    "# OvO策略應用二元分類器到多元分類，初始化需傳入分類的模型\n",
    "ovo = OneVsOneClassifier(logit)\n",
    "ovo.fit(X_train, y_train)\n",
    "print('OvO:', ovo.score(X_test, y_test))"
   ]
  },
  {
   "cell_type": "markdown",
   "metadata": {},
   "source": [
    "有關 solver 參數的選擇:\n",
    "- 對於小型數據集，liblinear 是一個不錯的選擇，而對於大型數據集，sag 和 saga 速度更快，只是 sag 對特徵的尺度很敏感，特徵標準化就很重要；對於多分類問題，只有 newton-cg、sag、saga 和 lbfgs 可以處理多項式損失；在 LogisticRegressionCV 中，liblinear 可能會比較慢，因為它不支持 warm-starting。\n",
    "- liblinear 和 newton-cholesky 預設只能處理二元分類。要在多分類設定中應用一對餘（one-versus-rest）策略，可以使用 OneVsRestClassifier 封裝它。\n",
    "- newton-cholesky 對於樣本數遠大於特徵數（n_samples >> n_features）的情況是個不錯的選擇，特別是當使用帶有稀有類別的獨熱編碼（one-hot encoded）分類特徵時。請注意，該解算器的內存使用量對於特徵數（n_features）有二次方的依賴，因為它需要顯式計算海森矩陣（Hessian matrix）。"
   ]
  },
  {
   "cell_type": "code",
   "execution_count": 76,
   "metadata": {},
   "outputs": [
    {
     "name": "stderr",
     "output_type": "stream",
     "text": [
      "d:\\anaconda3\\envs\\ml\\lib\\site-packages\\sklearn\\linear_model\\_logistic.py:1237: FutureWarning: 'multi_class' was deprecated in version 1.5 and will be removed in 1.7. From then on, binary problems will be fit as proper binary  logistic regression models (as if multi_class='ovr' were set). Leave it to its default value to avoid this warning.\n",
      "  warnings.warn(\n"
     ]
    },
    {
     "data": {
      "text/plain": [
       "0.6026785714285714"
      ]
     },
     "execution_count": 76,
     "metadata": {},
     "output_type": "execute_result"
    }
   ],
   "source": [
    "# 邏輯斯迴歸，類別大於 3 個時，採多項分布(multinomial)\n",
    "lr2 = LogisticRegression(\n",
    "    multi_class=\"multinomial\", # 小於 3 個類別時，可選擇 ovr。預設 auto\n",
    "    solver=\"newton-cg\", # 選擇優化器\n",
    ")\n",
    "lr2.fit(X_train, y_train)\n",
    "lr2.score(X_test, y_test)"
   ]
  },
  {
   "cell_type": "markdown",
   "metadata": {},
   "source": [
    "### 多項式羅吉斯迴歸 (Multinomial Logistic Regression)\n",
    "- 這個策略是先選定一個參考類別 (reference class)，其餘類別皆與參考類別參考類別進行二元羅吉斯迴歸，得到迴歸係數，再將結果透過歸一化指數函數 (softmax function) 轉換為機率值 (機率分布)，接著就能算出待測樣本被分類到各類別的機率。\n",
    "\n",
    "![](https://i.imgur.com/neaZ6ZR.png)\n",
    "\n",
    "![](https://i.imgur.com/9tPHtqO.png)\n",
    "\n",
    "![](https://i.imgur.com/7GYryEj.png)"
   ]
  },
  {
   "cell_type": "markdown",
   "metadata": {},
   "source": [
    "## 分類結果的可靠度"
   ]
  },
  {
   "cell_type": "code",
   "execution_count": 28,
   "metadata": {},
   "outputs": [
    {
     "name": "stdout",
     "output_type": "stream",
     "text": [
      "['setosa' 'versicolor' 'virginica']\n",
      "Decision function:\n",
      "[[ -7.13363061  -0.91866866   2.38199943]\n",
      " [ -4.00838172   0.91784364  -3.19390233]\n",
      " [  4.20971434  -3.45501646 -12.61491569]\n",
      " [ -9.79122793  -0.16761951   3.92100316]\n",
      " [  3.578755    -1.75608208 -11.81277183]\n",
      " [ -9.02023752  -1.54239746   4.64489725]]\n",
      "Predicted probabilities:\n",
      "[[6.63504751e-04 2.37400071e-01 7.61936424e-01]\n",
      " [2.31120818e-02 9.25846276e-01 5.10416426e-02]\n",
      " [9.69859012e-01 3.01377182e-02 3.26979862e-06]\n",
      " [3.88772119e-05 3.18452071e-01 6.81509052e-01]\n",
      " [8.68507887e-01 1.31485499e-01 6.61460932e-06]\n",
      " [1.03637232e-04 1.51001627e-01 8.48894736e-01]]\n"
     ]
    },
    {
     "name": "stderr",
     "output_type": "stream",
     "text": [
      "d:\\anaconda3\\envs\\ml\\lib\\site-packages\\sklearn\\linear_model\\_logistic.py:1256: FutureWarning: 'multi_class' was deprecated in version 1.5 and will be removed in 1.7. Use OneVsRestClassifier(LogisticRegression(..)) instead. Leave it to its default value to avoid this warning.\n",
      "  warnings.warn(\n"
     ]
    }
   ],
   "source": [
    "lr = LogisticRegression(\n",
    "    multi_class='ovr'\n",
    ")\n",
    "lr.fit(X_train, y_train)\n",
    "\n",
    "# 取得分類項目\n",
    "print(lr.classes_)\n",
    "\n",
    "# 模型對預測某個樣本為所屬類別的強度，有正負之分，\n",
    "# 正值表示屬於該類別的可能性越高，負值表示屬於該類別的可能性越低\n",
    "print('Decision function:') \n",
    "print(lr.decision_function(X_test)[:6, :])\n",
    "\n",
    "# 模型對預測某個樣本為所屬類別的機率\n",
    "# 機率值為 0 到 1 之間，且總和為 1\n",
    "print('Predicted probabilities:')\n",
    "print(lr.predict_proba(X_test)[:6, :])"
   ]
  },
  {
   "cell_type": "code",
   "execution_count": 30,
   "metadata": {},
   "outputs": [
    {
     "name": "stdout",
     "output_type": "stream",
     "text": [
      "['virginica' 'versicolor' 'setosa' 'virginica' 'setosa' 'virginica']\n"
     ]
    }
   ],
   "source": [
    "# 預測結果\n",
    "print(lr.predict(X_test)[:6])"
   ]
  },
  {
   "cell_type": "markdown",
   "metadata": {},
   "source": [
    "## 評估分類器的效能"
   ]
  },
  {
   "cell_type": "markdown",
   "metadata": {},
   "source": [
    "### 羅吉斯迴歸 (Logistic Regression)"
   ]
  },
  {
   "cell_type": "markdown",
   "metadata": {},
   "source": [
    "- 把一個事件的「勝算比」 (odds ratio) 表示成「**事件發生的機率 p**」與「**事件不發生的機率 1-p**」，則發生的機率與不發生的機率的比值為 $\\frac{p}{1-p}$，取對數後為 logit(p) = $\\log(\\frac{p}{1-p})$。\n",
    "- logit 函數的輸入為 0 ~ 1 之間的數值，輸出為實數，該函數可以用來表達特徵與勝算比之間的線性關係：$logit(p(y=class 1|x)) = \\beta_0 + \\beta_1 x_1 + \\beta_2 x_2 + \\cdots + \\beta_n x_n$ = $\\sum_{i=0}^{n}w_{i}x_{i}$，$w_{i}$ 是特徵 x 的權重，$x_{i}$ 是特徵 x 的值。\n",
    "- 其中 $logit(p(y=class 1|x))$ 是某樣本在已知特徵 x 下，class 屬於 1 的機率，可以透過它的反函數「**sigmoid 函數**」轉換為 0 ~ 1 之間的機率值：$p(y=class 1|x) = \\frac{1}{1+e^{-\\sum_{i=0}^{n}w_{i}x_{i}}}$。"
   ]
  },
  {
   "cell_type": "code",
   "execution_count": 32,
   "metadata": {},
   "outputs": [
    {
     "data": {
      "image/png": "[encoded data removed]",
      "text/plain": [
       "<Figure size 640x480 with 1 Axes>"
      ]
     },
     "metadata": {},
     "output_type": "display_data"
    }
   ],
   "source": [
    "import numpy as np\n",
    "import matplotlib.pyplot as plt\n",
    "plt.style.use('fivethirtyeight')\n",
    "\n",
    "# 定義 sigmoid 函數\n",
    "def sigmoid(z):\n",
    "    return 1.0 / ( 1.0 + np.exp(-z) )\n",
    "\n",
    "# 產生 -7 到 7 之間的數據 (給 x ticks 用)\n",
    "z = np.linspace(-7, 7, 100)\n",
    "\n",
    "# 繪製 sigmoid 函數\n",
    "plt.plot(z, sigmoid(z))\n",
    "\n",
    "# 加上 x = 0 的垂直線\n",
    "plt.axvline(0., color='black', ls='--', lw=2)\n",
    "\n",
    "# x 的標籤\n",
    "plt.xlabel('$z$')\n",
    "\n",
    "# y 的標籤\n",
    "plt.ylabel('sigmoid($z$)')\n",
    "\n",
    "# x 軸範圍\n",
    "plt.yticks([0., 0.5, 1.])\n",
    "\n",
    "plt.show()"
   ]
  },
  {
   "cell_type": "markdown",
   "metadata": {},
   "source": [
    "## 訓練邏輯斯迴歸模型"
   ]
  },
  {
   "cell_type": "code",
   "execution_count": null,
   "metadata": {},
   "outputs": [
    {
     "name": "stdout",
     "output_type": "stream",
     "text": [
      "雙屬性的數量： 473\n",
      "單屬性的數量： 421\n"
     ]
    },
    {
     "data": {
      "text/html": [
       "<div>\n",
       "<style scoped>\n",
       "    .dataframe tbody tr th:only-of-type {\n",
       "        vertical-align: middle;\n",
       "    }\n",
       "\n",
       "    .dataframe tbody tr th {\n",
       "        vertical-align: top;\n",
       "    }\n",
       "\n",
       "    .dataframe thead th {\n",
       "        text-align: right;\n",
       "    }\n",
       "</style>\n",
       "<table border=\"1\" class=\"dataframe\">\n",
       "  <thead>\n",
       "    <tr style=\"text-align: right;\">\n",
       "      <th></th>\n",
       "      <th>Number</th>\n",
       "      <th>Name</th>\n",
       "      <th>Type1</th>\n",
       "      <th>Type2</th>\n",
       "      <th>HP</th>\n",
       "      <th>Attack</th>\n",
       "      <th>Defense</th>\n",
       "      <th>SpecialAtk</th>\n",
       "      <th>SpecialDef</th>\n",
       "      <th>Speed</th>\n",
       "      <th>Generation</th>\n",
       "      <th>Legendary</th>\n",
       "      <th>hasType2</th>\n",
       "    </tr>\n",
       "  </thead>\n",
       "  <tbody>\n",
       "    <tr>\n",
       "      <th>891</th>\n",
       "      <td>805</td>\n",
       "      <td>壘磊石</td>\n",
       "      <td>Rock</td>\n",
       "      <td>Steel</td>\n",
       "      <td>61</td>\n",
       "      <td>131</td>\n",
       "      <td>211</td>\n",
       "      <td>53</td>\n",
       "      <td>101</td>\n",
       "      <td>13</td>\n",
       "      <td>7</td>\n",
       "      <td>False</td>\n",
       "      <td>1</td>\n",
       "    </tr>\n",
       "    <tr>\n",
       "      <th>892</th>\n",
       "      <td>806</td>\n",
       "      <td>砰頭小丑</td>\n",
       "      <td>Fire</td>\n",
       "      <td>Ghost</td>\n",
       "      <td>53</td>\n",
       "      <td>127</td>\n",
       "      <td>53</td>\n",
       "      <td>151</td>\n",
       "      <td>79</td>\n",
       "      <td>107</td>\n",
       "      <td>7</td>\n",
       "      <td>False</td>\n",
       "      <td>1</td>\n",
       "    </tr>\n",
       "    <tr>\n",
       "      <th>893</th>\n",
       "      <td>807</td>\n",
       "      <td>捷拉奧拉</td>\n",
       "      <td>Electric</td>\n",
       "      <td>NaN</td>\n",
       "      <td>88</td>\n",
       "      <td>112</td>\n",
       "      <td>75</td>\n",
       "      <td>102</td>\n",
       "      <td>80</td>\n",
       "      <td>143</td>\n",
       "      <td>7</td>\n",
       "      <td>False</td>\n",
       "      <td>0</td>\n",
       "    </tr>\n",
       "  </tbody>\n",
       "</table>\n",
       "</div>"
      ],
      "text/plain": [
       "     Number  Name     Type1  Type2  HP  Attack  Defense  SpecialAtk  \\\n",
       "891     805   壘磊石      Rock  Steel  61     131      211          53   \n",
       "892     806  砰頭小丑      Fire  Ghost  53     127       53         151   \n",
       "893     807  捷拉奧拉  Electric    NaN  88     112       75         102   \n",
       "\n",
       "     SpecialDef  Speed  Generation  Legendary  hasType2  \n",
       "891         101     13           7      False         1  \n",
       "892          79    107           7      False         1  \n",
       "893          80    143           7      False         0  "
      ]
     },
     "execution_count": 34,
     "metadata": {},
     "output_type": "execute_result"
    }
   ],
   "source": [
    "import pandas as pd\n",
    "\n",
    "# 讀取資料集 (寶可夢)\n",
    "df = pd.read_csv('ex3-2.csv')\n",
    "\n",
    "# 當 Type2 不為空時，則 hasType2 為 1，否則為 0，當作 label\n",
    "df['hasType2'] = df['Type2'].notnull().astype(int)\n",
    "\n",
    "print('雙屬性的數量：', df['hasType2'].sum())\n",
    "print('單屬性的數量：', df.shape[0] - df['hasType2'].sum())\n",
    "\n",
    "# 顯示後 3 筆資料\n",
    "df.tail(3)"
   ]
  },
  {
   "cell_type": "code",
   "execution_count": 35,
   "metadata": {},
   "outputs": [
    {
     "name": "stdout",
     "output_type": "stream",
     "text": [
      "|雙屬性|/|訓練集| = 0.5134328358208955\n",
      "|雙屬性|/|測試集| = 0.5758928571428571\n"
     ]
    },
    {
     "data": {
      "text/plain": [
       "0.6026785714285714"
      ]
     },
     "execution_count": 35,
     "metadata": {},
     "output_type": "execute_result"
    }
   ],
   "source": [
    "from sklearn.linear_model import LogisticRegression\n",
    "from sklearn.model_selection import train_test_split\n",
    "\n",
    "# 特徵資料為 HP, Attack, Defense, Sp. Atk, Sp. Def, Speed\n",
    "# 標籤資料為 hasType2\n",
    "X, y = df.loc[:, 'HP':'Speed'], df['hasType2']\n",
    "\n",
    "# 切分訓練集/測試集\n",
    "X_train, X_test, y_train, y_test = train_test_split(X, y, random_state=0)\n",
    "\n",
    "print('|雙屬性|/|訓練集| =', y_train.sum()/y_train.size)\n",
    "print('|雙屬性|/|測試集| =', y_test.sum()/y_test.size)\n",
    "\n",
    "# 建立邏輯斯迴歸模型\n",
    "logit = LogisticRegression()\n",
    "logit.fit(X_train, y_train)\n",
    "\n",
    "# 計算測試數據和標籤的平均準確率\n",
    "logit.score(X_test, y_test)"
   ]
  },
  {
   "cell_type": "code",
   "execution_count": 67,
   "metadata": {},
   "outputs": [
    {
     "name": "stdout",
     "output_type": "stream",
     "text": [
      "[0 1]\n",
      "84\n"
     ]
    },
    {
     "data": {
      "image/png": "[encoded data removed]",
      "text/plain": [
       "<Figure size 640x480 with 2 Axes>"
      ]
     },
     "metadata": {},
     "output_type": "display_data"
    }
   ],
   "source": [
    "from sklearn.metrics import confusion_matrix, ConfusionMatrixDisplay\n",
    "\n",
    "# 預測測試集\n",
    "y_pred = logit.predict(X_test)\n",
    "\n",
    "# 類別標籤\n",
    "print(logit.classes_)\n",
    "\n",
    "# 混淆矩陣\n",
    "cm = confusion_matrix(\n",
    "    y_test, # 測試資料集的真實標籤\n",
    "    y_pred, # 你用測試資料集預測的結果\n",
    "    labels=logit.classes_ # 類別標籤\n",
    ")\n",
    "\n",
    "# 驗證是否正確\n",
    "count = 0\n",
    "y_arr_test = y_test.to_numpy()\n",
    "for i, pred in enumerate(y_pred):\n",
    "    if pred == 1 and y_arr_test[i] == 1:\n",
    "        count += 1\n",
    "print(count)\n",
    "\n",
    "# 繪製混淆矩陣\n",
    "disp = ConfusionMatrixDisplay(\n",
    "    confusion_matrix=cm,\n",
    "    display_labels=logit.classes_ # 這個不加也可以\n",
    ")\n",
    "\n",
    "# 顯示混淆矩陣, cmap 可以改變顏色 \n",
    "disp.plot(cmap=plt.cm.Blues)\n",
    "\n",
    "plt.grid()"
   ]
  },
  {
   "cell_type": "code",
   "execution_count": null,
   "metadata": {},
   "outputs": [
    {
     "name": "stdout",
     "output_type": "stream",
     "text": [
      "[0.51111111 0.71111111 0.55555556 0.57777778 0.54545455]\n",
      "0.5802020202020202\n"
     ]
    }
   ],
   "source": [
    "from sklearn.model_selection import cross_val_score\n",
    "\n",
    "# 進行 k 次交叉驗證 (default k=5)\n",
    "cvs = cross_val_score(\n",
    "    logit, \n",
    "    X_test, \n",
    "    y_test, \n",
    "    cv=5, # 交叉驗證次數\n",
    "    scoring='accuracy' # 還有其他的 scoring 可以選擇，例如 'f1', 'precision', 'recall'\n",
    ")\n",
    "\n",
    "# 顯示每次交叉驗證的準確率\n",
    "print(cvs)\n",
    "\n",
    "# 顯示平均準確率\n",
    "print(cvs.mean())"
   ]
  },
  {
   "cell_type": "code",
   "execution_count": null,
   "metadata": {},
   "outputs": [
    {
     "name": "stdout",
     "output_type": "stream",
     "text": [
      "[0.62068966 0.77966102 0.61538462 0.6779661  0.61538462]\n",
      "0.6618172009171425\n"
     ]
    }
   ],
   "source": [
    "# 進行 k 次交叉驗證 (default k=5)\n",
    "cvs = cross_val_score(\n",
    "    logit, \n",
    "    X_test, \n",
    "    y_test,\n",
    "    cv=5, # 交叉驗證次數\n",
    "    scoring='f1'\n",
    ")\n",
    "\n",
    "# 顯示每次交叉驗證的 f1\n",
    "print(cvs)\n",
    "\n",
    "# 顯示平均 f1\n",
    "print(cvs.mean())"
   ]
  },
  {
   "cell_type": "markdown",
   "metadata": {},
   "source": [
    "cross_val_score 還可以這麼用: [使用sklearn的cross_val_score進行交叉驗證](https://blog.csdn.net/qq_36523839/article/details/80707678)"
   ]
  },
  {
   "cell_type": "markdown",
   "metadata": {},
   "source": [
    "scikit-learn 提供的 F1 分數有以下幾種：\n",
    "- f1：二元分類使用\n",
    "- f1_macro：計算每個分類F1分數的平均，每個類別的權重相等\n",
    "- f1_weighted：計算每個分類F1分數的平均，類別權重依該類別大小而定\n",
    "- f1_micro：不區分類別，直接使用整體的精確度與召回率按公式計算\n",
    "\n",
    "classification_report 當中數字的計算方法\n",
    "- [https://blog.csdn.net/weixin_43945848/article/details/122061718](https://blog.csdn.net/weixin_43945848/article/details/122061718)"
   ]
  },
  {
   "cell_type": "code",
   "execution_count": 73,
   "metadata": {},
   "outputs": [
    {
     "name": "stdout",
     "output_type": "stream",
     "text": [
      "              precision    recall  f1-score   support\n",
      "\n",
      "           0       0.53      0.54      0.53        95\n",
      "           1       0.66      0.65      0.65       129\n",
      "\n",
      "    accuracy                           0.60       224\n",
      "   macro avg       0.59      0.59      0.59       224\n",
      "weighted avg       0.60      0.60      0.60       224\n",
      "\n"
     ]
    }
   ],
   "source": [
    "from sklearn.metrics import classification_report\n",
    "\n",
    "# 產生分類報告\n",
    "y_pred = logit.predict(X_test)\n",
    "\n",
    "# 顯示分類報告\n",
    "print( classification_report(y_test, y_pred) )"
   ]
  },
  {
   "cell_type": "markdown",
   "metadata": {},
   "source": [
    "### 加入正則化 (Regularization)\n",
    "- 既然羅吉斯迴歸在建構過程中，同樣要求得到迴歸係數，那麼也能模仿之前的線性迴歸加入㣲罰項 $\\alpha$，以降低模型變異性，提高泛化能力。\n",
    "- 可以透過 L1 正則化 (Lasso) 或 L2 正則化 (Ridge) 來實現，這兩種正則化的差異在於 L1 正則化會將不重要的特徵權重降為 0 (換個角度想，也就是挑選較少的特徵以提高泛化能力)，而 L2 正則化則會將不重要的特徵權重降低但不會降為 0，也有一個超參數 $\\alpha$ 來控制正則化的強度。\n",
    "- LogisticRegression() 會以 $C = 1 / \\alpha$ 來替代 $\\alpha$，換言之，要增加正則化強度，就要降低 C 的值，為了能有效地調整參數 $C$，也能結合羅吉斯迴歸與交叉驗證的方式來執行。"
   ]
  },
  {
   "cell_type": "code",
   "execution_count": null,
   "metadata": {},
   "outputs": [
    {
     "name": "stdout",
     "output_type": "stream",
     "text": [
      "最佳 C 值： [0.35938137]\n",
      "              precision    recall  f1-score   support\n",
      "\n",
      "           0       0.54      0.56      0.55        95\n",
      "           1       0.67      0.65      0.66       129\n",
      "\n",
      "    accuracy                           0.61       224\n",
      "   macro avg       0.60      0.60      0.60       224\n",
      "weighted avg       0.61      0.61      0.61       224\n",
      "\n"
     ]
    }
   ],
   "source": [
    "from sklearn.linear_model import LogisticRegressionCV\n",
    "from sklearn.preprocessing import StandardScaler\n",
    "\n",
    "# 先做標準化\n",
    "scalar = StandardScaler()\n",
    "scalar = scalar.fit(X_train)\n",
    "X_train_std = scalar.transform(X_train)\n",
    "X_test_std = scalar.transform(X_test)\n",
    "\n",
    "# 預設從 1e-4 ~ 1e4 間產生 10 個 C 值進行交叉驗證\n",
    "clf = LogisticRegressionCV(\n",
    "    Cs=10, # 產生 10 個 C 值\n",
    "    cv=5, # 交叉驗證次數\n",
    "    penalty='l2' # 正則化項\n",
    ")\n",
    "\n",
    "# 訓練模型\n",
    "clf.fit(X_train_std, y_train)\n",
    "\n",
    "# 最佳 C 值 (不用額外設定，CV 時會自動選擇，讓 clf 可以直接使用)\n",
    "print('最佳 C 值：', clf.C_)\n",
    "\n",
    "# 預測測試集\n",
    "y_pred = clf.predict(X_test_std)\n",
    "\n",
    "# 顯示分類報告\n",
    "print(classification_report(y_test, y_pred))"
   ]
  },
  {
   "cell_type": "markdown",
   "metadata": {},
   "source": [
    "## 支援向量機 (Support Vector Machine, SVM)\n",
    "- 與羅吉斯迴歸一樣，支援向量機也是一個二元分類器，但是支援向量機的目標是找到一個最佳的超平面 (hyperplane)，使得兩個類別的邊界 (margin) 最大化。\n",
    "- 除了分類，也可以應用在迴歸 (regression) 與離群值偵測 (outlier detection) 上。"
   ]
  },
  {
   "cell_type": "markdown",
   "metadata": {},
   "source": [
    "### 線性支援向量機 (Linear SVM)\n",
    "- 超平面其實是 n 維空間中一一個 n-1 維的平面，例如在 2D 平面上就是一條直線，而在 3D 空間中就是一個平面，以此類推。\n",
    "- 當資料是線性可分的 (linear separable) 時，支援向量機會找到一個最佳的超平面，使得兩個類別的邊界最大化，這個超平面就是分類的決策邊界 (decision boundary)。\n",
    "- SVM 試圖在最大化超平面邊距與最小化錯誤分類之間取得平衡點，做法是透過與羅吉斯迴歸一樣的超參數 $C$ 來控制正規化強度，藉由懲罰來調控錯誤分類。\n",
    "- 當選用 C 值較大時，錯誤分類的懲罰也較大，SVM 會傾向於過度擬合 (overfitting)，而 C 值較小時，對錯誤分類較不在意，模型專注在最大化邊距，SVM 會傾向於過度簡化 (underfitting)。\n",
    "- 調整 C 值也可以用來控制邊距的大小，進而調整校偏差與變異的平衡，與介面正規化的迴歸時引入的超參數 $\\alpha$ 類似。\n",
    "\n",
    "![](https://i.imgur.com/MBJF4mS.png)\n",
    "\n",
    "圖：支援向量機示意圖。取自 https://www.tqcplus.org.tw/BookDetail.aspx?CODE=ybXE8pkaiG%20L87%20%206%20w7Yg==\n",
    "\n",
    "![](https://i.imgur.com/cB0wU3y.png)\n",
    "\n",
    "圖：不同超參數 C 值對支援向量機邊距的影響。取自 https://www.tqcplus.org.tw/BookDetail.aspx?CODE=ybXE8pkaiG%20L87%20%206%20w7Yg=="
   ]
  },
  {
   "cell_type": "code",
   "execution_count": null,
   "metadata": {},
   "outputs": [
    {
     "name": "stdout",
     "output_type": "stream",
     "text": [
      "(670, 6) (224, 6)\n",
      "              precision    recall  f1-score   support\n",
      "\n",
      "           0       0.54      0.55      0.54        95\n",
      "           1       0.66      0.65      0.66       129\n",
      "\n",
      "    accuracy                           0.61       224\n",
      "   macro avg       0.60      0.60      0.60       224\n",
      "weighted avg       0.61      0.61      0.61       224\n",
      "\n"
     ]
    }
   ],
   "source": [
    "import pandas as pd\n",
    "from sklearn.model_selection import train_test_split\n",
    "from sklearn.preprocessing import StandardScaler\n",
    "from sklearn.svm import LinearSVC, SVC, NuSVC\n",
    "from sklearn.metrics import classification_report\n",
    "\n",
    "# 讀取資料集 (寶可夢)\n",
    "df = pd.read_csv('ex3-2.csv')\n",
    "\n",
    "# 當 Type2 不為空時，則 hasType2 為 1，否則為 0，當作 label\n",
    "df['hasType2'] = df['Type2'].notnull().astype(int)\n",
    "\n",
    "# 特徵資料為 HP, Attack, Defense, Sp. Atk, Sp. Def, Speed\n",
    "# 標籤資料為 hasType2\n",
    "X, y = df.loc[:, 'HP':'Speed'], df['hasType2']\n",
    "\n",
    "# 切分訓練集/測試集\n",
    "X_train, X_test, y_train, y_test = train_test_split(\n",
    "    X, \n",
    "    y, \n",
    "    random_state=0\n",
    ")\n",
    "\n",
    "# 標準化\n",
    "scaler = StandardScaler()\n",
    "scaler = scaler.fit(X_train)\n",
    "X_train_std = scaler.transform(X_train)\n",
    "X_test_std = scaler.transform(X_test)\n",
    "\n",
    "# 建立 SVM 分類器，設定最大回合數以增加收斂機會\n",
    "svm = LinearSVC(max_iter=1500)\n",
    "svm.fit(X_train_std, y_train)\n",
    "\n",
    "# 產生分類報告\n",
    "y_pred = svm.predict(X_test_std)\n",
    "print(classification_report(y_test, y_pred))"
   ]
  },
  {
   "cell_type": "markdown",
   "metadata": {},
   "source": [
    "### 加入核函數處理「非線性分類」\n",
    "- 當資料不是線性可分的 (non-linear separable) 時，支援向量機可以透過核函數 (kernel function) 來將資料投影到更高維度的空間，使得資料在新的空間中變得線性可分。\n",
    "- RBF (徑向基核函數，Radial Basis Function) 是一個常見的核函數，它可以將資料投影到無限維度的空間，透過一個參數 $\\gamma$ 來控制投影的幅度，當 $\\gamma$ 越大時，投影的幅度也越大，模型會傾向於過度擬合；反之，當 $\\gamma$ 越小時，投影的幅度也越小，模型會傾向於過度簡化。\n",
    "\n",
    "![](https://i.imgur.com/5yn6RP9.png)\n",
    "圖：使用核函數擴充支援向量機以產生非線性決策邊界。取自 https://www.tqcplus.org.tw/BookDetail.aspx?CODE=ybXE8pkaiG%20L87%20%206%20w7Yg==\n",
    "\n",
    "![](https://i.imgur.com/ucZwpXV.jpeg)\n",
    "圖：使用 RBF 核的支援向量機在不同 C 與 gamma 參數值的分類比較。取自 https://www.tqcplus.org.tw/BookDetail.aspx?CODE=ybXE8pkaiG%20L87%20%206%20w7Yg=="
   ]
  },
  {
   "cell_type": "markdown",
   "metadata": {},
   "source": [
    "![](https://scikit-learn.org/1.5/_images/sphx_glr_plot_iris_svc_001.png)\n",
    "\n",
    "參考來源: https://scikit-learn.org/1.5/auto_examples/svm/plot_iris_svc.html"
   ]
  },
  {
   "cell_type": "code",
   "execution_count": 78,
   "metadata": {},
   "outputs": [
    {
     "name": "stdout",
     "output_type": "stream",
     "text": [
      "              precision    recall  f1-score   support\n",
      "\n",
      "           0       0.55      0.55      0.55        95\n",
      "           1       0.67      0.67      0.67       129\n",
      "\n",
      "    accuracy                           0.62       224\n",
      "   macro avg       0.61      0.61      0.61       224\n",
      "weighted avg       0.62      0.62      0.62       224\n",
      "\n"
     ]
    }
   ],
   "source": [
    "from sklearn.svm import SVC\n",
    "\n",
    "# 建立 SVM 分類器\n",
    "svm = SVC(\n",
    "    kernel='rbf', # 選擇核函數\n",
    "    C=5, # 懲罰項\n",
    "    gamma=0.01, # gamma 值\n",
    "    probability=True # 設定為 True 可以取得預測機率\n",
    ")\n",
    "\n",
    "# 訓練模型\n",
    "svm.fit(X_train_std, y_train)\n",
    "\n",
    "# 預測測試集\n",
    "y_pred = svm.predict(X_test_std)\n",
    "\n",
    "# 產生分類報告\n",
    "print(classification_report(y_test, y_pred))"
   ]
  },
  {
   "cell_type": "code",
   "execution_count": 86,
   "metadata": {},
   "outputs": [
    {
     "name": "stdout",
     "output_type": "stream",
     "text": [
      "類別:  [0 1]\n",
      "是否有雙屬性: [1]\n",
      "==================================================\n",
      "預測為 0 的機率, 預測為 1 的機率\n",
      "[[0.43759623 0.56240377]]\n"
     ]
    },
    {
     "name": "stderr",
     "output_type": "stream",
     "text": [
      "d:\\anaconda3\\envs\\ml\\lib\\site-packages\\sklearn\\base.py:493: UserWarning: X does not have valid feature names, but StandardScaler was fitted with feature names\n",
      "  warnings.warn(\n"
     ]
    }
   ],
   "source": [
    "# 未知寶可夢的屬性 -> 特徵資料為 HP, Attack, Defense, Sp. Atk, Sp. Def, Speed\n",
    "new_poke = [\n",
    "    [120, 50, 80, 100, 150, 90]\n",
    "]\n",
    "\n",
    "# 標準化\n",
    "new_poke_std = scaler.transform(new_poke)\n",
    "\n",
    "# 類別標籤\n",
    "print(\"類別: \", svm.classes_)\n",
    "\n",
    "# 預測是否有雙屬性 (hasType2 是否為 1，1 代表有雙屬性)\n",
    "print(\"是否有雙屬性:\", svm.predict(new_poke_std))\n",
    "\n",
    "# 檢視預測機率\n",
    "print(\"=\" * 50)\n",
    "print(\"預測為 0 的機率, 預測為 1 的機率\")\n",
    "print(svm.predict_proba(new_poke_std))"
   ]
  },
  {
   "cell_type": "code",
   "execution_count": null,
   "metadata": {},
   "outputs": [
    {
     "name": "stdout",
     "output_type": "stream",
     "text": [
      "支援向量數目： 592\n",
      "支援向量的資料索引值： [ 3  4  5  6 10]\n"
     ]
    },
    {
     "data": {
      "text/plain": [
       "array([[-0.37405999, -0.47353542,  0.19932389, -0.2076741 ,  0.31555353,\n",
       "        -0.32148304],\n",
       "       [ 0.60433716, -0.17166222, -0.12505553,  0.03957894,  1.59202932,\n",
       "        -0.01581563],\n",
       "       [-1.65350241, -1.77159018, -1.90914228,  1.02859111, -0.5962149 ,\n",
       "         0.76533443],\n",
       "       [-1.08904252, -0.26222418,  1.82122094, -0.36220726,  2.13909038,\n",
       "        -1.44226356],\n",
       "       [ 3.61478991, -0.11128758,  0.19932389, -0.98033986, -0.96092227,\n",
       "        -0.08374172]])"
      ]
     },
     "execution_count": 92,
     "metadata": {},
     "output_type": "execute_result"
    }
   ],
   "source": [
    "# 查看支援向量\n",
    "print('支援向量數目：', len(svm.support_vectors_))\n",
    "\n",
    "# 查看支援向量的資料索引值 (前 5 個)\n",
    "print('支援向量的資料索引值：', svm.support_[:5])\n",
    "\n",
    "# 查看支援向量的特徵資料 (標準化後，前 5 個)\n",
    "svm.support_vectors_[:5, :]"
   ]
  },
  {
   "cell_type": "code",
   "execution_count": 94,
   "metadata": {},
   "outputs": [
    {
     "name": "stdout",
     "output_type": "stream",
     "text": [
      "數量比 => 神獸:非神獸 = 79:815\n"
     ]
    }
   ],
   "source": [
    "# 以是否為傳奇寶可夢當作標籤\n",
    "df['Legendary'] = df['Legendary'].astype(int)\n",
    "\n",
    "# 傳寄寶可夢的數量\n",
    "n_legend = df['Legendary'].sum()\n",
    "\n",
    "# 非傳奇寶可夢的數量\n",
    "n_not_legend = df.shape[0] - n_legend\n",
    "\n",
    "print(f'數量比 => 神獸:非神獸 = {n_legend}:{n_not_legend}')"
   ]
  },
  {
   "cell_type": "code",
   "execution_count": 98,
   "metadata": {},
   "outputs": [
    {
     "name": "stdout",
     "output_type": "stream",
     "text": [
      "              precision    recall  f1-score   support\n",
      "\n",
      "           0       0.92      0.98      0.95       197\n",
      "           1       0.79      0.41      0.54        27\n",
      "\n",
      "    accuracy                           0.92       224\n",
      "   macro avg       0.85      0.70      0.74       224\n",
      "weighted avg       0.91      0.92      0.90       224\n",
      "\n"
     ]
    }
   ],
   "source": [
    "'''\n",
    "預測是否為神獸\n",
    "'''\n",
    "# 特徵資料為 HP, Attack, Defense, Sp. Atk, Sp. Def, Speed\n",
    "# 標籤資料為 Legendary\n",
    "X, y = df.loc[:, 'HP':'Speed'], df['Legendary']\n",
    "\n",
    "# 切分訓練集/測試集\n",
    "X_train, X_test, y_train, y_test = train_test_split(X, y, random_state=0)\n",
    "\n",
    "# 標準化\n",
    "scaler = StandardScaler()\n",
    "scaler = scaler.fit(X_train)\n",
    "X_train_std = scaler.transform(X_train)\n",
    "X_test_std = scaler.transform(X_test)\n",
    "\n",
    "# 建立 SVM 分類器 (使用核函數)\n",
    "svm = SVC(kernel='rbf')\n",
    "\n",
    "# 訓練模型\n",
    "svm.fit(X_train_std, y_train)\n",
    "\n",
    "# 預測測試集\n",
    "y_pred = svm.predict(X_test_std)\n",
    "\n",
    "# 產生分類報告\n",
    "print(classification_report(y_test, y_pred))"
   ]
  },
  {
   "cell_type": "code",
   "execution_count": 96,
   "metadata": {},
   "outputs": [
    {
     "name": "stdout",
     "output_type": "stream",
     "text": [
      "              precision    recall  f1-score   support\n",
      "\n",
      "           0       0.99      0.92      0.95       197\n",
      "           1       0.61      0.93      0.74        27\n",
      "\n",
      "    accuracy                           0.92       224\n",
      "   macro avg       0.80      0.92      0.84       224\n",
      "weighted avg       0.94      0.92      0.93       224\n",
      "\n"
     ]
    }
   ],
   "source": [
    "# 加上平衡類別的考量\n",
    "svm = SVC(\n",
    "    kernel='rbf', \n",
    "    class_weight='balanced' # 類別權重。給每個類別不同的懲罰參數 C，讓模型更加關注少數類別\n",
    ")\n",
    "\n",
    "# 訓練模型\n",
    "svm.fit(X_train_std, y_train)\n",
    "\n",
    "# 預測測試集\n",
    "y_pred = svm.predict(X_test_std)\n",
    "\n",
    "# 產生分類報告\n",
    "print(classification_report(y_test, y_pred))"
   ]
  },
  {
   "cell_type": "markdown",
   "metadata": {},
   "source": [
    "## 樸素貝氏分類器 (Naive Bayes Classifier)"
   ]
  },
  {
   "cell_type": "markdown",
   "metadata": {},
   "source": [
    "貝氏定理 (Bayes' theorem) 是一個機率理論的基本定理，它描述了在已知某些條件下，另一個事件發生的機率。貝氏定理的公式如下：\n",
    "\n",
    "$$P(A|B) = \\frac{P(B|A) \\times P(A)}{P(B)}$$\n",
    "\n",
    "$P(A)$ 是事件 A 發生的機率，也就是先驗機率 (prior probability)，$P(B)$ 是事件 B 發生的機率，也就是邊際機率 (marginal probability)；$P(B|A)$ 代表在事件 A 發生的條件下，B 事件發生的機率，也就是可能性 (likelihood)；$P(A|B)$ 是在事件 B 發生的條件下，事件 A 發生的機率，也就是後驗機率 (posterior probability)；$P(A|B)$ 是在事件 B 發生的條件下。\n",
    "\n",
    "樸素貝氏分類器是一個基於貝氏定理與特徵獨立性假設的分類器，它**假設每個特徵之間是獨立的，也就是說，特徵之間的關係不會影響到分類的結果**。樸素貝氏分類器的公式如下：\n",
    "\n",
    "$$P(y|x_1, x_2, \\cdots, x_n) = \\frac{P(y) \\times P(x_1|y) \\times P(x_2|y) \\times \\cdots \\times P(x_n|y)}{P(x_1) \\times P(x_2) \\times \\cdots \\times P(x_n)}$$\n",
    "\n",
    "其中 $P(y|x_1, x_2, \\cdots, x_n)$ 是在特徵 $x_1, x_2, \\cdots, x_n$ 的條件下，類別 $y$ 的機率，$P(y)$ 是類別 $y$ 的機率，$P(x_i|y)$ 是在類別 $y$ 的條件下，特徵 $x_i$ 的機率，$P(x_i)$ 是特徵 $x_i$ 的機率。"
   ]
  },
  {
   "cell_type": "markdown",
   "metadata": {},
   "source": [
    "### 連續型特徵的樸素貝氏分類器\n",
    "- 當特徵是「連續型」的時候，可以使用高斯樸素貝氏分類器 (Gaussian Naive Bayes Classifier) 來處理，它假設特徵的條件機率服從常態分配 (normal distribution)。"
   ]
  },
  {
   "cell_type": "code",
   "execution_count": null,
   "metadata": {},
   "outputs": [
    {
     "name": "stdout",
     "output_type": "stream",
     "text": [
      "0.6588235294117647\n"
     ]
    }
   ],
   "source": [
    "from sklearn.naive_bayes import GaussianNB\n",
    "from sklearn.metrics import f1_score\n",
    "\n",
    "# 建立高斯朴素貝葉斯分類器\n",
    "clf = GaussianNB()\n",
    "\n",
    "# 訓練模型\n",
    "clf.fit(X_train, y_train)\n",
    "\n",
    "# 預測測試集\n",
    "y_pred = clf.predict(X_test)\n",
    "\n",
    "# 計算 F1 score\n",
    "print(f1_score(y_test, y_pred))"
   ]
  },
  {
   "cell_type": "code",
   "execution_count": 103,
   "metadata": {},
   "outputs": [
    {
     "name": "stdout",
     "output_type": "stream",
     "text": [
      "[0]\n"
     ]
    },
    {
     "name": "stderr",
     "output_type": "stream",
     "text": [
      "d:\\anaconda3\\envs\\ml\\lib\\site-packages\\sklearn\\base.py:493: UserWarning: X does not have valid feature names, but GaussianNB was fitted with feature names\n",
      "  warnings.warn(\n"
     ]
    }
   ],
   "source": [
    "# 未知寶可夢的屬性\n",
    "new_poke = [\n",
    "    [120, 50, 80, 100, 150, 90]\n",
    "]\n",
    "\n",
    "# 預測是否為神獸\n",
    "print(clf.predict(new_poke_std))"
   ]
  },
  {
   "cell_type": "code",
   "execution_count": null,
   "metadata": {},
   "outputs": [
    {
     "name": "stdout",
     "output_type": "stream",
     "text": [
      "0.7152777777777778\n"
     ]
    }
   ],
   "source": [
    "# 假設類別的機率分布，預設為原始訓練數據的分布\n",
    "clf = GaussianNB(\n",
    "    priors=[0.4, 0.6] # 類別的機率分布，P(神獸) = 0.4, P(非神獸) = 0.6\n",
    ")\n",
    "\n",
    "# 訓練模型\n",
    "clf.fit(X_train, y_train)\n",
    "\n",
    "# 預測測試集\n",
    "y_pred = clf.predict(X_test)\n",
    "\n",
    "# 計算 F1 score\n",
    "print(f1_score(y_test, y_pred))"
   ]
  },
  {
   "cell_type": "markdown",
   "metadata": {},
   "source": [
    "### 離散型特徵的樸素貝氏分類器\n",
    "- 當特徵是「離散型」的時候，可以使用多項式樸素貝氏分類器 (Multinomial Naive Bayes Classifier) 來處理，它假設特徵的條件機率服從多項分配 (multinomial distribution)。"
   ]
  },
  {
   "cell_type": "code",
   "execution_count": 106,
   "metadata": {},
   "outputs": [
    {
     "name": "stdout",
     "output_type": "stream",
     "text": [
      "[2]\n"
     ]
    },
    {
     "name": "stderr",
     "output_type": "stream",
     "text": [
      "d:\\anaconda3\\envs\\ml\\lib\\site-packages\\sklearn\\base.py:493: UserWarning: X does not have valid feature names, but MultinomialNB was fitted with feature names\n",
      "  warnings.warn(\n"
     ]
    }
   ],
   "source": [
    "from sklearn.naive_bayes import MultinomialNB\n",
    "\n",
    "# 讀取資料集 (寶可夢)\n",
    "X, y = df.loc[:, 'HP':'Speed'], df['Generation']\n",
    "\n",
    "# 建立多項式朴素貝葉斯分類器\n",
    "clf = MultinomialNB()\n",
    "clf = clf.fit(X, y)\n",
    "\n",
    "# 預測未知寶可夢的世代\n",
    "print(clf.predict(new_poke))"
   ]
  },
  {
   "cell_type": "markdown",
   "metadata": {},
   "source": [
    "## 決策樹 (Decision Tree)"
   ]
  },
  {
   "cell_type": "markdown",
   "metadata": {},
   "source": [
    "- 在機器學習中，決策樹（Decision Tree）是一種監督式學習算法，廣泛應用於分類和迴歸問題。它通過樹狀結構來決策，逐步分割特徵空間來達到預測的目的。決策樹的每個節點代表一個特徵的判斷，每個分支表示特徵的取值，每個葉節點則是最終的預測結果。\n",
    "- 決策樹的基本概念\n",
    "  - 決策樹是通過尋找數據集中特徵的分割點，將數據分成不同的群組，從而達到決策的目的。在分類問題中，決策樹通常使用資訊增益（Information Gain）、基尼指數（Gini Index）等方法來決定如何分割數據；在迴歸問題中，則常用均方誤差（Mean Squared Error）等指標。\n",
    "- 決策樹的優點\n",
    "  - 解釋性強：決策樹的結構直觀明瞭，可以視覺化為分支結構，易於理解和解釋。\n",
    "  - 不需要大量的數據預處理：決策樹不需要特徵縮放或標準化，對於離散數據和連續數據都能很好地處理。\n",
    "  - 處理非線性數據：決策樹本質上是基於特徵的條件分割，適合處理非線性數據。\n",
    "  - 對缺失值和噪聲有一定的穩健性：決策樹可以處理一些特徵缺失的情況，對噪聲不敏感。\n",
    "  - 適合多種任務：既可以用於分類，也可以用於迴歸問題，應用場景廣泛。\n",
    "- 強烈建議大家參考這本書：[Data Mining : Practical Machine Learning Tools and Techniques, 4/e (Paperback)](https://www.tenlong.com.tw/products/9780128042915)\n",
    "\n",
    "\n",
    "以下圖片資料來源：https://www.tenlong.com.tw/products/9780128042915\n",
    "\n",
    "![](https://i.imgur.com/6MFWhg9.png)\n",
    "\n",
    "![](https://i.imgur.com/pTBZ7AX.png)\n",
    "\n",
    "![](https://i.imgur.com/fvkRUIU.png)\n",
    "\n",
    "![](https://i.imgur.com/gbn5oCJ.png)\n",
    "\n",
    "![](https://i.imgur.com/KaUwsnd.png)\n",
    "\n",
    "![](https://i.imgur.com/aMGt8Q5.png)"
   ]
  },
  {
   "cell_type": "code",
   "execution_count": 11,
   "metadata": {},
   "outputs": [
    {
     "name": "stdout",
     "output_type": "stream",
     "text": [
      "0.9402859586706311\n",
      "0.9709505944546686\n",
      "-0.0\n",
      "0.9709505944546686\n",
      "0.6935361388961918\n",
      "0.24674981977443933\n"
     ]
    }
   ],
   "source": [
    "import math\n",
    "\n",
    "'''\n",
    "在建立樹之前，需要先計算資料集的熵 (entropy)，以便找到最佳的分割點，根的訓練範例從 yes = 9, no = 5 開始\n",
    "'''\n",
    "# info([9, 5]) = entropy(9/14, 5/14) = -9/14 x log(9/14) - 5/14 x log(5/14) = 0.940\n",
    "info_9_5 = -(9/14 * math.log2(9/14) + 5/14 * math.log2(5/14))\n",
    "print(info_9_5)\n",
    "\n",
    "'''\n",
    "Outlook 的三個分支 (節點) 分別為 sunny, overcast, rainy，每個分支的資料集如下\n",
    "'''\n",
    "# info([2,3]) = entropy(2/5, 3/5) = -2/5 x log(2/5) - 3/5 x log(3/5) = 0.971\n",
    "info_2_3 = -(2/5 * math.log2(2/5) + 3/5 * math.log2(3/5))\n",
    "print(info_2_3)\n",
    "\n",
    "# info([4,0]) = entropy(4/4, 0/4) = -4/4 x log(4/4) - 0/4 x log(0/4) = 0\n",
    "info_4_0 = -(4/4 * math.log2(4/4))\n",
    "print(info_4_0)\n",
    "\n",
    "# info([3,2]) = entropy(3/5, 2/5) = -3/5 x log(3/5) - 2/5 x log(2/5) = 0.971\n",
    "info_3_2 = -(3/5 * math.log2(3/5) + 2/5 * math.log2(2/5))\n",
    "print(info_3_2)\n",
    "\n",
    "'''\n",
    "計算三個分支的平均資訊熵\n",
    "'''\n",
    "# info([2,3], [4,0], [3,2]) = 5/14 x 0.971 + 4/14 x 0 + 5/14 x 0.971 = 0.693\n",
    "info_2_3_4_0_3_2 = 5/14 * info_2_3 + 4/14 * info_4_0 + 5/14 * info_3_2\n",
    "print(info_2_3_4_0_3_2)\n",
    "\n",
    "'''\n",
    "計算 information gain\n",
    "'''\n",
    "# info([9, 5]) - info([2,3], [4,0], [3,2]) = 0.940 - 0.693 = 0.247\n",
    "info_gain = info_9_5 - info_2_3_4_0_3_2\n",
    "print(info_gain)"
   ]
  },
  {
   "cell_type": "code",
   "execution_count": 1,
   "metadata": {},
   "outputs": [
    {
     "name": "stdout",
     "output_type": "stream",
     "text": [
      "              precision    recall  f1-score   support\n",
      "\n",
      "           0       0.53      0.53      0.53        95\n",
      "           1       0.65      0.66      0.66       129\n",
      "\n",
      "    accuracy                           0.60       224\n",
      "   macro avg       0.59      0.59      0.59       224\n",
      "weighted avg       0.60      0.60      0.60       224\n",
      "\n"
     ]
    }
   ],
   "source": [
    "import pandas as pd\n",
    "from sklearn.model_selection import train_test_split\n",
    "from sklearn.tree import DecisionTreeClassifier\n",
    "from sklearn.metrics import classification_report\n",
    "\n",
    "# 讀取資料集 (寶可夢)\n",
    "df = pd.read_csv('ex3-2.csv')\n",
    "\n",
    "# 當 Type2 不為空時，則 hasType2 為 1，否則為 0，當作 label\n",
    "df['hasType2'] = df['Type2'].notnull().astype(int)\n",
    "\n",
    "# 特徵資料為 HP, Attack, Defense, Sp. Atk, Sp. Def, Speed\n",
    "# 標籤資料為 hasType2\n",
    "X, y = df.loc[:, 'HP':'Speed'], df['hasType2']\n",
    "\n",
    "# 切分訓練集/測試集\n",
    "X_train, X_test, y_train, y_test = train_test_split(\n",
    "    X, \n",
    "    y, \n",
    "    random_state=0\n",
    ")\n",
    "\n",
    "# 建立決策樹分類器\n",
    "clf = DecisionTreeClassifier(max_depth=3)\n",
    "clf.fit(X_train, y_train)\n",
    "\n",
    "# 產生分類報告\n",
    "y_pred = clf.predict(X_test)\n",
    "print(classification_report(y_test, y_pred))"
   ]
  },
  {
   "cell_type": "code",
   "execution_count": 2,
   "metadata": {},
   "outputs": [
    {
     "data": {
      "image/png": "[encoded data removed]",
      "text/plain": [
       "<Figure size 1200x800 with 1 Axes>"
      ]
     },
     "metadata": {},
     "output_type": "display_data"
    }
   ],
   "source": [
    "from sklearn.tree import plot_tree\n",
    "import matplotlib.pyplot as plt\n",
    "plt.style.use('classic')\n",
    "\n",
    "# 繪製決策樹\n",
    "plt.figure(figsize=(12,8), dpi=100)\n",
    "plot_tree(clf, filled=True)\n",
    "plt.show()"
   ]
  },
  {
   "cell_type": "code",
   "execution_count": 3,
   "metadata": {},
   "outputs": [
    {
     "name": "stdout",
     "output_type": "stream",
     "text": [
      "特徵重要性： [0.         0.08871568 0.59625022 0.05482142 0.         0.26021268]\n",
      "特徵名稱： Index(['HP', 'Attack', 'Defense', 'SpecialAtk', 'SpecialDef', 'Speed'], dtype='object')\n"
     ]
    },
    {
     "data": {
      "image/png": "[encoded data removed]",
      "text/plain": [
       "<Figure size 640x480 with 1 Axes>"
      ]
     },
     "metadata": {},
     "output_type": "display_data"
    }
   ],
   "source": [
    "import numpy as np\n",
    "plt.style.use('fivethirtyeight')\n",
    "\n",
    "print('特徵重要性：', clf.feature_importances_)\n",
    "print('特徵名稱：', X.columns)\n",
    "\n",
    "# 取出特徵重要性與排序後的索引值\n",
    "idx = np.argsort(clf.feature_importances_)\n",
    "\n",
    "# 放置柱狀圖的橫軸位置\n",
    "tree_indices = np.arange(0, len(clf.feature_importances_)) + 0.5\n",
    "\n",
    "# 由小到大繪製特徵重要性的柱狀圖\n",
    "plt.bar(tree_indices, clf.feature_importances_[idx])\n",
    "plt.xticks(tree_indices, labels=X.columns[idx], fontsize=14)\n",
    "plt.xlim((0, len(clf.feature_importances_)))\n",
    "plt.title('Feature Importance')\n",
    "plt.show()"
   ]
  },
  {
   "cell_type": "markdown",
   "metadata": {},
   "source": [
    "實作決策樹模型，主要靠底下兩個超參數來防止過度擬合：\n",
    "- min_samples_split (最小分割樣本數)\n",
    "  - 一個節點的最小分割樣本數，也就是說節點的樣本數若少於 min_sample_split 將不再進行分割，即此節點為葉節點。\n",
    "- max_depth (最小樹深度)\n",
    "  - 決策樹的最大深度，設定值為整數，預設值是 None，代表這棵樹將一直成長直到所有葉節點內只剩下單一類別或是節點內的樣本數少於 min_samples_split。\n",
    "\n",
    "在決策樹建模過程中，也有兩個策略可避免過度擬合，一個是預修剪 (Pre-pruning)，也就是提早停止樹的生長，另一個是後修剪 (Post-pruning)，亦即是讓樹生長完成後，再移除一些節點來避免過度擬合。\n",
    "\n",
    "預剪修除了用上述兩個參數，也可以用 min_weight_fraction_leaf 考慮在葉節點所有樣本權重總和的最小加權比。後修剪則是透過 ccp_alpha 來控制，ccp_alpha 是一個非負數，當它大於 0 時，會對樹進行後修剪，ccp_alpha 的值越大，修剪的節點越多，樹的複雜度越低，避免過度擬合。\n",
    "\n",
    "參考連結: [Post pruning decision trees with cost complexity pruning](https://scikit-learn.org/stable/auto_examples/tree/plot_cost_complexity_pruning.html)"
   ]
  },
  {
   "cell_type": "code",
   "execution_count": 4,
   "metadata": {},
   "outputs": [
    {
     "name": "stdout",
     "output_type": "stream",
     "text": [
      "[0.         0.00031983 0.00049751 0.00049751 0.00094764 0.00095949\n",
      " 0.0009821  0.00119403 0.00119403 0.00119403 0.00124378 0.00124378\n",
      " 0.00124378 0.00130404 0.00130597 0.0013267  0.00134328 0.00134328\n",
      " 0.00136816 0.00137313 0.00138198 0.00138593 0.00138593 0.00141398\n",
      " 0.00144731 0.00149254 0.00155473 0.00179104 0.00179104 0.00199005\n",
      " 0.00199005 0.00199005 0.00199005 0.00199005 0.00199005 0.00199005\n",
      " 0.00199005 0.00199005 0.00199005 0.00201493 0.00204108 0.00212272\n",
      " 0.00212272 0.00215101 0.00219374 0.0021981  0.00221542 0.00223881\n",
      " 0.00223881 0.00223881 0.00223881 0.00223881 0.00223881 0.00223881\n",
      " 0.00223881 0.00225626 0.00237934 0.00238806 0.00239872 0.00241868\n",
      " 0.0024749  0.00248756 0.00248756 0.00248756 0.0025239  0.0025312\n",
      " 0.00253494 0.0025441  0.00255864 0.00260516 0.00264586 0.0026534\n",
      " 0.0026534  0.00272339 0.00272824 0.00278113 0.00283103 0.00287846\n",
      " 0.00296047 0.00298507 0.00315778 0.00318408 0.00318938 0.00322007\n",
      " 0.00333046 0.00345772 0.00354726 0.00363013 0.00378292 0.00419491\n",
      " 0.00424544 0.00425607 0.00442403 0.00476083 0.00496384 0.00513336\n",
      " 0.00544875 0.00594605 0.00617121 0.02287368]\n"
     ]
    },
    {
     "data": {
      "image/png": "[encoded data removed]",
      "text/plain": [
       "<Figure size 800x640 with 2 Axes>"
      ]
     },
     "metadata": {},
     "output_type": "display_data"
    }
   ],
   "source": [
    "# 參考來源 https://scikit-learn.org/stable/auto_examples/tree/plot_cost_complexity_pruning.html\n",
    "clf = DecisionTreeClassifier()\n",
    "\n",
    "# 依最小成本修剪方式計算修剪過程\n",
    "path = clf.cost_complexity_pruning_path(X_train, y_train)\n",
    "\n",
    "# 回傳修剪過程的有效 alpha 值\n",
    "ccp_alphas = path.ccp_alphas\n",
    "print(ccp_alphas)\n",
    "\n",
    "# 放置決策樹的列表\n",
    "clfs = []\n",
    "\n",
    "# 依照每個 alpha 值建立決策樹\n",
    "for ccp_alpha in ccp_alphas:\n",
    "    clf = DecisionTreeClassifier(ccp_alpha=ccp_alpha)\n",
    "    clf.fit(X_train, y_train)\n",
    "    clfs.append(clf)\n",
    "    \n",
    "# 過濾掉最後只剩一個節點的決策樹，因為這個決策樹不會有任何分類效果\n",
    "clfs = clfs[:-1]\n",
    "ccp_alphas = ccp_alphas[:-1]\n",
    "\n",
    "# 決策樹的節點數量\n",
    "node_counts = [clf.tree_.node_count for clf in clfs]\n",
    "\n",
    "# 決策樹的深度\n",
    "depth = [clf.tree_.max_depth for clf in clfs]\n",
    "\n",
    "# 繪製節點數量與深度的關係\n",
    "fig, ax = plt.subplots(2, 1, figsize=(10, 8))\n",
    "\n",
    "# 繪製節點數量與 alpha 的關係\n",
    "ax[0].plot(ccp_alphas, node_counts, marker='o', lw=1, drawstyle=\"steps-post\")\n",
    "ax[0].set_xlabel(\"alpha\")\n",
    "ax[0].set_ylabel(\"number of nodes\")\n",
    "ax[0].set_title(\"Number of nodes vs alpha\")\n",
    "\n",
    "# 繪製深度與 alpha 的關係\n",
    "ax[1].plot(ccp_alphas, depth, marker='o', lw=1, drawstyle=\"steps-post\")\n",
    "ax[1].set_xlabel(\"alpha\")\n",
    "ax[1].set_ylabel(\"depth of tree\")\n",
    "ax[1].set_title(\"Depth vs alpha\")\n",
    "\n",
    "# 調整子圖間距\n",
    "fig.tight_layout()"
   ]
  },
  {
   "cell_type": "code",
   "execution_count": 5,
   "metadata": {},
   "outputs": [
    {
     "data": {
      "image/png": "[encoded data removed]",
      "text/plain": [
       "<Figure size 640x400 with 1 Axes>"
      ]
     },
     "metadata": {},
     "output_type": "display_data"
    }
   ],
   "source": [
    "# 訓練集的準確率\n",
    "train_scores = [clf.score(X_train, y_train) for clf in clfs]\n",
    "\n",
    "# 測試集的準確率\n",
    "test_scores = [clf.score(X_test, y_test) for clf in clfs]\n",
    "\n",
    "# 繪製 alpha 與準確率的關係\n",
    "fig, ax = plt.subplots(figsize=(8, 5))\n",
    "ax.set_xlabel(\"alpha\")\n",
    "ax.set_ylabel(\"Accuracy\")\n",
    "ax.set_title(\"Accuracy vs alpha for training and testing sets\")\n",
    "ax.plot(ccp_alphas, train_scores, marker='o', label=\"train\",\n",
    "        drawstyle=\"steps-post\")\n",
    "ax.plot(ccp_alphas, test_scores, marker='o', label=\"test\",\n",
    "        drawstyle=\"steps-post\")\n",
    "ax.legend()\n",
    "fig.tight_layout()"
   ]
  },
  {
   "cell_type": "markdown",
   "metadata": {},
   "source": [
    "## 隨機森林 (Random Forest)\n",
    "- 是一種基於多個決策樹的集成學習 (ensemble learning) 方法，通常用於分類和迴歸任務。隨機森林是由多個隨機生成的決策樹組成的「森林」(每棵決策樹都是獨立的)，通過對每棵樹的結果進行投票或平均來得出最終的預測結果。這種方法能有效提高模型的準確性和穩定性，並減少過度擬合的風險。\n",
    "- 隨機森林使用了一種稱為「袋裝法」（Bagging，Bootstrap aggregating）的技術，即在訓練時對樣本進行隨機抽樣，每棵樹都會接收到不同的樣本集。此過程包含以下幾個特點：\n",
    "  - 樣本隨機選擇：從訓練數據中隨機選擇一部分樣本（有放回抽樣）用於訓練每棵樹，這能引入多樣性。\n",
    "  - 特徵隨機選擇：對每個節點，隨機選擇一部分特徵進行分裂，而不是使用所有特徵，這進一步增強了模型的多樣性。\n",
    "\n",
    "建構隨機森林的過程可簡單歸納如下：\n",
    "- 從訓練樣本中採用取後放回抽樣 (sampling with replacement) 隨機挑選部分樣本，產生一個隨機自助樣本集 (bootstrap sample)。\n",
    "- 對自助樣本集建構決策樹，且在每一個節點：\n",
    "  - 採用取得不放回抽樣 (sampling without replacement) 隨機挑選部分特徵。\n",
    "  - 透過上述特徵尋找最大化資訊增益 (information gain) 的節點分割方式。\n",
    "- 重複上述兩個步驟幾次，每次建立一棵決策樹。\n",
    "- 每棵決策樹皆產出預測結果，且依問題種類整合結果後輸出：\n",
    "  - 分類問題可用多數決 (majority voting) 來決定最終預測結果 (類別標籤)。\n",
    "  - 迴歸問題可用平均值來決定最終預測結果 (數值)。\n",
    "\n",
    "隨機森林的特色\n",
    "- 多樣性：通過隨機選擇樣本和特徵來構建多棵不同的決策樹，這樣每棵樹的結構都不完全相同，從而提升模型的泛化能力。\n",
    "- 投票機制：對於分類問題，隨機森林通過「多數投票」確定最終分類結果；對於迴歸問題，則通過「平均」所有樹的輸出來得到最終的預測值。\n",
    "\n",
    "隨機森林的優點\n",
    "- 減少過度擬合：單棵決策樹容易過度擬合，而隨機森林由多棵樹組成，並且通過樣本和特徵隨機選擇，使模型對噪聲的敏感性降低。\n",
    "- 較高的準確性：隨機森林的集成效果通常能提高模型的準確率，尤其在資料集較為複雜時，效果尤為顯著。\n",
    "- 容錯性強：由於隨機森林是多個模型的集成，即使其中幾棵樹的表現不佳，最終結果仍然有較高的準確性。\n",
    "- 處理高維數據：隨機森林在特徵較多時仍能保持穩定的性能，因為每個分支只選擇一部分特徵進行分割。\n",
    "- 特徵重要性評估：隨機森林能提供特徵重要性評估，便於理解模型中哪些特徵對預測結果最為重要。"
   ]
  },
  {
   "cell_type": "code",
   "execution_count": 6,
   "metadata": {},
   "outputs": [
    {
     "name": "stdout",
     "output_type": "stream",
     "text": [
      "              precision    recall  f1-score   support\n",
      "\n",
      "           0       0.52      0.57      0.55        95\n",
      "           1       0.66      0.62      0.64       129\n",
      "\n",
      "    accuracy                           0.60       224\n",
      "   macro avg       0.59      0.59      0.59       224\n",
      "weighted avg       0.60      0.60      0.60       224\n",
      "\n"
     ]
    }
   ],
   "source": [
    "from sklearn.ensemble import RandomForestClassifier\n",
    "\n",
    "# 建立隨機森林分類器\n",
    "clf = RandomForestClassifier(max_depth=3, n_jobs=-1)\n",
    "\n",
    "# 訓練模型\n",
    "clf.fit(X_train, y_train)\n",
    "\n",
    "# 預測測試集\n",
    "y_pred = clf.predict(X_test)\n",
    "\n",
    "# 產生分類報告\n",
    "print(classification_report(y_test, y_pred))"
   ]
  },
  {
   "cell_type": "code",
   "execution_count": 7,
   "metadata": {},
   "outputs": [
    {
     "data": {
      "image/png": "[encoded data removed]",
      "text/plain": [
       "<Figure size 640x480 with 1 Axes>"
      ]
     },
     "metadata": {},
     "output_type": "display_data"
    }
   ],
   "source": [
    "# 特徵重要性\n",
    "importances = clf.feature_importances_\n",
    "\n",
    "'''\n",
    "# 查看第一棵樹的細節\n",
    "first_tree = clf.estimators_[0]\n",
    "print(first_tree)\n",
    "'''\n",
    "\n",
    "# 標籤名稱 (t 指的是隨機森林中的每一棵樹)\n",
    "std = np.std([t.feature_importances_ for t in clf.estimators_], axis=0)\n",
    "\n",
    "# 取出特徵重要性與排序後的索引值\n",
    "idx = np.argsort(importances)[::-1]\n",
    "\n",
    "# 繪製特徵重要性的柱狀圖\n",
    "plt.title(\"Feature importances\")\n",
    "plt.bar(\n",
    "    range(X.shape[1]), \n",
    "    importances[idx], \n",
    "    yerr=std[idx], \n",
    "    align=\"center\"\n",
    ")\n",
    "plt.xticks(range(X.shape[1]), labels=X.columns[idx])\n",
    "plt.xlim([-1, X.shape[1]])\n",
    "plt.ylim([0, 0.6])\n",
    "plt.show()"
   ]
  },
  {
   "cell_type": "code",
   "execution_count": 8,
   "metadata": {},
   "outputs": [
    {
     "name": "stdout",
     "output_type": "stream",
     "text": [
      "門檻值 = 0.16666666666666666\n",
      "特徵列表： Index(['HP', 'Attack', 'Defense', 'SpecialAtk', 'SpecialDef', 'Speed'], dtype='object')\n",
      "特徵遮罩： [False False  True  True False False]\n",
      "              precision    recall  f1-score   support\n",
      "\n",
      "           0       0.50      0.61      0.55        95\n",
      "           1       0.66      0.55      0.60       129\n",
      "\n",
      "    accuracy                           0.58       224\n",
      "   macro avg       0.58      0.58      0.57       224\n",
      "weighted avg       0.59      0.58      0.58       224\n",
      "\n"
     ]
    }
   ],
   "source": [
    "from sklearn.feature_selection import SelectFromModel\n",
    "\n",
    "# 建立特徵選取器，門檻值預設為重要性的平均值\n",
    "selector = SelectFromModel(clf)\n",
    "\n",
    "# 訓練特徵選取器\n",
    "selector.fit(X_train, y_train)\n",
    "\n",
    "print('門檻值 =', selector.threshold_)\n",
    "print('特徵列表：', X.columns)\n",
    "print('特徵遮罩：', selector.get_support())\n",
    "\n",
    "# 選出訓練集的新特徵\n",
    "X_train_new = selector.transform(X_train)\n",
    "\n",
    "# 用訓練集的新特徵重新訓練隨機森林\n",
    "clf.fit(X_train_new, y_train)\n",
    "\n",
    "# 選出測試集的新特徵\n",
    "X_test_new = selector.transform(X_test)\n",
    "\n",
    "# 預測測試集\n",
    "y_pred = clf.predict(X_test_new)\n",
    "\n",
    "# 產生分類報告\n",
    "print(classification_report(y_test, y_pred))"
   ]
  },
  {
   "cell_type": "markdown",
   "metadata": {},
   "source": [
    "## K-NN (K-Nearest Neighbors)\n",
    "概念\n",
    "- KNN 的核心概念是透過計算數據點之間的距離，找出與待分類或待預測數據點距離最近的 K 個鄰居，並根據這些鄰居的屬性進行預測。例如，在分類任務中，KNN 根據鄰居的多數類別來決定待分類數據點的類別；在迴歸任務中，則根據鄰居的值進行加權平均來得出預測值。\n",
    "\n",
    "特色\n",
    "- 距離度量：KNN 通常使用歐幾里得距離，但也可以選用其他距離度量（如曼哈頓距離），這會影響 KNN 的結果。\n",
    "- 非參數模型：KNN 不需要訓練過程或參數估計。只需保存數據集並在查詢時執行計算，因此適合不易定義函數關係的數據。\n",
    "- 延遲學習（Lazy Learning）：KNN 是一種延遲學習算法，不會進行顯式的模型訓練。每次預測時直接對數據進行查詢計算，當數據量龐大時可能會增加計算負擔。\n",
    "\n",
    "可調參數\n",
    "- K：K 值的選擇對模型性能有很大影響，小 K 值更易受噪音影響，而大 K 值會導致模型過於平滑，容易忽視局部特徵。\n",
    "\n",
    "優點\n",
    "- 簡單易理解：KNN 的原理非常直觀，易於實現和解釋，尤其適合初學者了解機器學習基礎。\n",
    "- 無需訓練模型：由於 KNN 屬於延遲學習，不需訓練過程，只需保存數據和在預測時查詢即可。\n",
    "- 靈活性：KNN 可以應用於分類和迴歸，適用於多種應用場景。\n",
    "- 適用於小型數據集：由於 KNN 是基於距離的算法，對於小型數據集來說效果較好，可以有效利用少量的標記數據進行預測。"
   ]
  },
  {
   "cell_type": "markdown",
   "metadata": {},
   "source": [
    "### K-最近鄰分類器（K-Nearest Neighbors Classifier）\n",
    "- 是一種簡單且直觀的非參數機器學習方法，主要用於分類和迴歸任務。K-NN 通過計算樣本之間的距離，選擇與待分類樣本最接近的 K 個鄰居，並根據這些鄰居的標籤進行預測。K-NN 沒有顯式的訓練階段，僅在預測時使用整個訓練數據集，因此屬於「基於實例」的學習方法。\n",
    "\n",
    "K-NN 的基本概念\n",
    "- 在 K-NN 中，給定一個待分類的樣本，K-NN 會計算該樣本與訓練集中所有樣本之間的距離（如歐幾里得距離），然後選取 K 個距離最近的鄰居。\n",
    "- 最後，根據這些鄰居的標籤進行分類，通常使用「多數投票」的方式來決定最終的分類結果。\n",
    "- 當票數相同時，scikit-learni 會選擇跟觀察值距離最近的樣本的類別；若有多個最近鄰樣本與觀察值等距，則選擇最先找到的樣本的類別。\n",
    "\n",
    "K-NN 的特色\n",
    "- 基於距離進行分類：K-NN 是通過樣本之間的距離來判斷樣本所屬的類別，因此它能夠捕捉到數據中的局部模式。\n",
    "- 簡單直觀：K-NN 算法直觀且易於理解，僅僅依賴距離計算，沒有太多參數調整。\n",
    "- 懶惰學習算法：K-NN 沒有顯式的訓練階段，所有計算在預測階段完成，這種「懶惰學習」方式可以節省訓練時間，但預測可能會較慢。\n",
    "\n",
    "K-NN 的優點\n",
    "- 簡單易懂：K-NN 算法直觀且實現簡單，不需要對數據進行大量的預處理。\n",
    "- 適用於多類分類：K-NN 可以自然地應用於多類分類，無需進行特殊的調整。\n",
    "- 非參數方法：K-NN 沒有假設數據的分佈形式，適用於非線性數據和異質數據，具有較強的靈活性。\n",
    "- 適合小數據集：由於 K-NN 須要計算距離，當數據量較大時會增加計算量。因此在數據量較小的情況下，它的效果和效率會更佳。\n",
    "\n",
    "![](https://www.jcchouinard.com/wp-content/uploads/2021/08/image-8.png)\n",
    "\n",
    "K = 3 的時候，被分類為綠色的樣本數最多，所以預測結果為綠色；K = 6 的時候，被分類為藍色的樣本數最多，所以預測結果為藍色。\n",
    "\n",
    "參考來源: [https://www.jcchouinard.com/k-nearest-neighbors/](https://www.jcchouinard.com/k-nearest-neighbors/)"
   ]
  },
  {
   "cell_type": "code",
   "execution_count": 9,
   "metadata": {},
   "outputs": [
    {
     "name": "stdout",
     "output_type": "stream",
     "text": [
      "[[1.62261621 1.6422178  1.72989459]]\n",
      "[[ 88 265  65]]\n",
      "小磁怪 [100  77  77 128 128  90] ，標準化後的距離 = 1.623\n",
      "幼基拉斯 [109  53  47 127 131 103] ，標準化後的距離 = 1.642\n",
      "蚊香蝌蚪 [ 95  65  65 110 130  60] ，標準化後的距離 = 1.730\n"
     ]
    },
    {
     "name": "stderr",
     "output_type": "stream",
     "text": [
      "d:\\anaconda3\\envs\\ml\\lib\\site-packages\\sklearn\\base.py:493: UserWarning: X does not have valid feature names, but StandardScaler was fitted with feature names\n",
      "  warnings.warn(\n"
     ]
    }
   ],
   "source": [
    "from sklearn.neighbors import NearestNeighbors\n",
    "from sklearn.preprocessing import StandardScaler\n",
    "\n",
    "# 特徵標準化\n",
    "scale = StandardScaler().fit(X_train)\n",
    "X_train_std = scale.transform(X_train)\n",
    "\n",
    "# 建立最近鄰模型\n",
    "neighbors = NearestNeighbors(n_neighbors=3)\n",
    "neighbors = neighbors.fit(X_train_std)\n",
    "\n",
    "# 未知寶可夢的屬性\n",
    "new_poke = [\n",
    "    [120, 50, 80, 100, 150, 90]\n",
    "]\n",
    "\n",
    "# 標準化\n",
    "new_poke_std = scale.transform(new_poke)\n",
    "\n",
    "# 取出最近鄰的距離與索引值\n",
    "dist, idx = neighbors.kneighbors(new_poke_std)\n",
    "print(dist)\n",
    "print(idx)\n",
    "\n",
    "# 顯示最近鄰的寶可夢\n",
    "for d, i in enumerate(idx[0]):\n",
    "    print(\n",
    "        df.iloc[i, 1], # 取得寶可夢的名稱\n",
    "        np.array(X_train.iloc[i, :]),  # 取得寶可夢的特徵所代表的值\n",
    "        f'，標準化後的距離 = {dist[0][d]:.3f}'\n",
    "    )"
   ]
  },
  {
   "cell_type": "code",
   "execution_count": 10,
   "metadata": {},
   "outputs": [
    {
     "name": "stdout",
     "output_type": "stream",
     "text": [
      "[0 1]\n",
      "[0]\n",
      "[[0.6 0.4]]\n",
      "0 的機率: 0.6\n",
      "1 的機率: 0.4\n"
     ]
    }
   ],
   "source": [
    "from sklearn.neighbors import KNeighborsClassifier\n",
    "\n",
    "# 建立 KNN 分類器，預設 k=5\n",
    "knn = KNeighborsClassifier()\n",
    "\n",
    "# 訓練模型\n",
    "knn.fit(X_train_std, y_train)\n",
    "\n",
    "# label 列表 [0, 1]\n",
    "print(knn.classes_)\n",
    "\n",
    "# 輸出預測結果\n",
    "print(knn.predict(new_poke_std))\n",
    "\n",
    "# 輸出預測結果的機率\n",
    "print(knn.predict_proba(new_poke_std))\n",
    "\n",
    "print('0 的機率:', knn.predict_proba(new_poke_std)[0][0])\n",
    "print('1 的機率:', knn.predict_proba(new_poke_std)[0][1])"
   ]
  },
  {
   "cell_type": "markdown",
   "metadata": {},
   "source": [
    "如果半徑 r=2 裡面沒有其它訓練數據的點，那麼若有新的觀察值 (樣本點) 落在這個區域，即視為 outlier。"
   ]
  },
  {
   "cell_type": "code",
   "execution_count": 14,
   "metadata": {},
   "outputs": [
    {
     "name": "stdout",
     "output_type": "stream",
     "text": [
      "[0 1]\n",
      "[0]\n",
      "[[0.57142857 0.42857143]]\n",
      "[2]\n"
     ]
    },
    {
     "name": "stderr",
     "output_type": "stream",
     "text": [
      "d:\\anaconda3\\envs\\ml\\lib\\site-packages\\sklearn\\neighbors\\_classification.py:819: UserWarning: Outlier label 2 is not in training classes. All class probabilities of outliers will be assigned with 0.\n",
      "  warnings.warn(\n"
     ]
    }
   ],
   "source": [
    "from sklearn.neighbors import RadiusNeighborsClassifier\n",
    "\n",
    "# 建立半徑鄰分類器，設定離群值類別為 2\n",
    "rn = RadiusNeighborsClassifier(\n",
    "    radius=2, # 半徑，單位是標準差\n",
    "    outlier_label=2 # 離群值類別D\n",
    ")\n",
    "\n",
    "# 訓練模型\n",
    "rn.fit(X_train_std, y_train)\n",
    "\n",
    "# label 列表 [0, 1]\n",
    "print(knn.classes_)\n",
    "\n",
    "# 預測未知寶可夢的屬性\n",
    "print(rn.predict(new_poke_std))\n",
    "\n",
    "# 預測未知寶可夢的機率\n",
    "print(rn.predict_proba(new_poke_std))\n",
    "\n",
    "# 故意測試一個離群值\n",
    "print(rn.predict([\n",
    "    [3.0, 3.0, 3.0, 1.0, 1.0, 1.0]\n",
    "]))"
   ]
  }
 ],
 "metadata": {
  "kernelspec": {
   "display_name": "ml",
   "language": "python",
   "name": "python3"
  },
  "language_info": {
   "codemirror_mode": {
    "name": "ipython",
    "version": 3
   },
   "file_extension": ".py",
   "mimetype": "text/x-python",
   "name": "python",
   "nbconvert_exporter": "python",
   "pygments_lexer": "ipython3",
   "version": "3.10.15"
  }
 },
 "nbformat": 4,
 "nbformat_minor": 2
}

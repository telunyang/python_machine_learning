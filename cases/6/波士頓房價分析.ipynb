{
 "cells": [
  {
   "cell_type": "markdown",
   "metadata": {},
   "source": [
    "<img src=\"https://i.imgur.com/kz53mWv.png\" width=\"600\">"
   ]
  },
  {
   "cell_type": "code",
   "execution_count": 2,
   "metadata": {},
   "outputs": [
    {
     "data": {
      "text/plain": [
       "(506, 13)"
      ]
     },
     "execution_count": 2,
     "metadata": {},
     "output_type": "execute_result"
    }
   ],
   "source": [
    "import pandas as pd\n",
    "\n",
    "df = pd.read_csv('boston.csv')\n",
    "\n",
    "# 取出特徵與標記\n",
    "X, y = df.loc[:, 'CRIM':'LSTAT'], df.loc[:, ['MEDV']]\n",
    "\n",
    "# 檢查資料維度\n",
    "X.shape"
   ]
  },
  {
   "cell_type": "code",
   "execution_count": 3,
   "metadata": {},
   "outputs": [
    {
     "data": {
      "text/plain": [
       "(404, 13)"
      ]
     },
     "execution_count": 3,
     "metadata": {},
     "output_type": "execute_result"
    }
   ],
   "source": [
    "from sklearn.model_selection import train_test_split\n",
    "\n",
    "# 切分訓練與測試資料\n",
    "X_train, X_test, y_train, y_test = train_test_split(\n",
    "    X, \n",
    "    y,\n",
    "    test_size=0.2,\n",
    "    random_state=0\n",
    ")\n",
    "\n",
    "# 檢查訓練資料維度 (樣本數, 特徵數)\n",
    "X_train.shape"
   ]
  },
  {
   "cell_type": "code",
   "execution_count": 5,
   "metadata": {},
   "outputs": [],
   "source": [
    "from sklearn.tree import DecisionTreeRegressor\n",
    "from sklearn.ensemble import AdaBoostRegressor, RandomForestRegressor, GradientBoostingRegressor\n",
    "\n",
    "# 準備模型\n",
    "models = {\n",
    "    'Decision Tree': DecisionTreeRegressor(random_state=0), \n",
    "    'Random Forest': RandomForestRegressor(random_state=0), \n",
    "    'AdaBoost': AdaBoostRegressor(\n",
    "        estimator=DecisionTreeRegressor(), \n",
    "        random_state=0\n",
    "    ), \n",
    "    'GradientBoost': GradientBoostingRegressor(random_state=0)\n",
    "}"
   ]
  },
  {
   "cell_type": "code",
   "execution_count": 6,
   "metadata": {},
   "outputs": [],
   "source": [
    "# 利用公式計算調整後 R^2\n",
    "def adj_R2(r2, n, k):\n",
    "    return 1 - (n-1)*(1-r2)/(n-k-1)"
   ]
  },
  {
   "cell_type": "code",
   "execution_count": 7,
   "metadata": {},
   "outputs": [
    {
     "name": "stderr",
     "output_type": "stream",
     "text": [
      "d:\\anaconda3\\envs\\ml\\lib\\site-packages\\sklearn\\base.py:1473: DataConversionWarning: A column-vector y was passed when a 1d array was expected. Please change the shape of y to (n_samples,), for example using ravel().\n",
      "  return fit_method(estimator, *args, **kwargs)\n",
      "d:\\anaconda3\\envs\\ml\\lib\\site-packages\\sklearn\\utils\\validation.py:1339: DataConversionWarning: A column-vector y was passed when a 1d array was expected. Please change the shape of y to (n_samples, ), for example using ravel().\n",
      "  y = column_or_1d(y, warn=True)\n",
      "d:\\anaconda3\\envs\\ml\\lib\\site-packages\\sklearn\\ensemble\\_gb.py:668: DataConversionWarning: A column-vector y was passed when a 1d array was expected. Please change the shape of y to (n_samples, ), for example using ravel().\n",
      "  y = column_or_1d(y, warn=True)  # TODO: Is this still required?\n"
     ]
    },
    {
     "data": {
      "text/html": [
       "<div>\n",
       "<style scoped>\n",
       "    .dataframe tbody tr th:only-of-type {\n",
       "        vertical-align: middle;\n",
       "    }\n",
       "\n",
       "    .dataframe tbody tr th {\n",
       "        vertical-align: top;\n",
       "    }\n",
       "\n",
       "    .dataframe thead th {\n",
       "        text-align: right;\n",
       "    }\n",
       "</style>\n",
       "<table border=\"1\" class=\"dataframe\">\n",
       "  <thead>\n",
       "    <tr style=\"text-align: right;\">\n",
       "      <th></th>\n",
       "      <th>Test score</th>\n",
       "      <th>Train score</th>\n",
       "    </tr>\n",
       "  </thead>\n",
       "  <tbody>\n",
       "    <tr>\n",
       "      <th>AdaBoost</th>\n",
       "      <td>0.624427</td>\n",
       "      <td>0.999558</td>\n",
       "    </tr>\n",
       "    <tr>\n",
       "      <th>Decision Tree</th>\n",
       "      <td>0.543094</td>\n",
       "      <td>1.000000</td>\n",
       "    </tr>\n",
       "    <tr>\n",
       "      <th>GradientBoost</th>\n",
       "      <td>0.749469</td>\n",
       "      <td>0.981384</td>\n",
       "    </tr>\n",
       "    <tr>\n",
       "      <th>Random Forest</th>\n",
       "      <td>0.740029</td>\n",
       "      <td>0.982159</td>\n",
       "    </tr>\n",
       "  </tbody>\n",
       "</table>\n",
       "</div>"
      ],
      "text/plain": [
       "               Test score  Train score\n",
       "AdaBoost         0.624427     0.999558\n",
       "Decision Tree    0.543094     1.000000\n",
       "GradientBoost    0.749469     0.981384\n",
       "Random Forest    0.740029     0.982159"
      ]
     },
     "execution_count": 7,
     "metadata": {},
     "output_type": "execute_result"
    }
   ],
   "source": [
    "import pandas as pd\n",
    "\n",
    "# 儲存分數\n",
    "scores = {}\n",
    "\n",
    "# 訓練模型並計算分數\n",
    "for name, reg in models.items():\n",
    "    # 訓練模型\n",
    "    reg.fit(X_train, y_train)\n",
    "    \n",
    "    # 計算 R^2\n",
    "    r2 = reg.score(X_train, y_train)\n",
    "    \n",
    "    # 計算調整後 R^2\n",
    "    scores[(name, 'Train score')] = adj_R2(r2, X_train.shape[0], X_train.shape[1])\n",
    "    \n",
    "    # 計算 R^2\n",
    "    r2 = reg.score(X_test, y_test)\n",
    "    \n",
    "    # 計算調整後 R^2\n",
    "    scores[(name, 'Test score')] = adj_R2(r2, X_test.shape[0], X_test.shape[1])\n",
    "\n",
    "pd.Series(scores).unstack()"
   ]
  },
  {
   "cell_type": "code",
   "execution_count": null,
   "metadata": {},
   "outputs": [
    {
     "data": {
      "text/plain": [
       "Text(0.5, 0, 'feature importance')"
      ]
     },
     "execution_count": 9,
     "metadata": {},
     "output_type": "execute_result"
    },
    {
     "data": {
      "image/png": "[encoded data removed]",
      "text/plain": [
       "<Figure size 640x480 with 1 Axes>"
      ]
     },
     "metadata": {},
     "output_type": "display_data"
    }
   ],
   "source": [
    "import matplotlib.pyplot as plt\n",
    "\n",
    "# 儲存特徵重要性\n",
    "fea_imp = pd.DataFrame(\n",
    "    models['Random Forest'].feature_importances_, \n",
    "    index=X.columns,\n",
    "    columns=['Importance']\n",
    ")\n",
    "\n",
    "# 依照重要性排序\n",
    "fea_imp.sort_values(\n",
    "    by='Importance', \n",
    "    ascending=True, \n",
    "    inplace=True\n",
    ")\n",
    "\n",
    "# 繪製水平長條圖\n",
    "fea_imp.plot(kind='barh')\n",
    "plt.xlabel('feature importance')"
   ]
  },
  {
   "cell_type": "code",
   "execution_count": 10,
   "metadata": {},
   "outputs": [
    {
     "data": {
      "image/png": "[encoded data removed]",
      "text/plain": [
       "<Figure size 640x480 with 1 Axes>"
      ]
     },
     "metadata": {},
     "output_type": "display_data"
    }
   ],
   "source": [
    "# 儲存特徵重要性\n",
    "fea_imp = pd.DataFrame(\n",
    "    models['GradientBoost'].feature_importances_, \n",
    "    index=X.columns, \n",
    "    columns=['Importance']\n",
    ")\n",
    "\n",
    "# 依照重要性排序\n",
    "fea_imp.sort_values(by='Importance', ascending=True, inplace=True)\n",
    "\n",
    "# 繪製水平長條圖\n",
    "fea_imp.plot(kind='barh')\n",
    "plt.xlabel('feature importance');"
   ]
  }
 ],
 "metadata": {
  "kernelspec": {
   "display_name": "ml",
   "language": "python",
   "name": "python3"
  },
  "language_info": {
   "codemirror_mode": {
    "name": "ipython",
    "version": 3
   },
   "file_extension": ".py",
   "mimetype": "text/x-python",
   "name": "python",
   "nbconvert_exporter": "python",
   "pygments_lexer": "ipython3",
   "version": "3.10.15"
  }
 },
 "nbformat": 4,
 "nbformat_minor": 4
}

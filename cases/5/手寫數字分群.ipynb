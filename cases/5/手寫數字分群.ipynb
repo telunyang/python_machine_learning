{
 "cells": [
  {
   "cell_type": "markdown",
   "metadata": {},
   "source": [
    "<img src=\"https://i.imgur.com/KhGidiX.jpeg\" width=\"600\">"
   ]
  },
  {
   "cell_type": "code",
   "execution_count": 27,
   "metadata": {},
   "outputs": [
    {
     "data": {
      "text/plain": [
       "(1797, 64)"
      ]
     },
     "execution_count": 27,
     "metadata": {},
     "output_type": "execute_result"
    }
   ],
   "source": [
    "import warnings\n",
    "warnings.filterwarnings('ignore')\n",
    "import numpy as np\n",
    "from sklearn.datasets import load_digits\n",
    "\n",
    "# 設定隨機種子\n",
    "seed = 0 \n",
    "\n",
    "# 載入手寫數字資料集\n",
    "X_digits, y_digits = load_digits(return_X_y=True)  # 數值特徵：數字類別\n",
    "\n",
    "# 資料集維度\n",
    "X_digits.shape"
   ]
  },
  {
   "cell_type": "code",
   "execution_count": 28,
   "metadata": {},
   "outputs": [
    {
     "name": "stdout",
     "output_type": "stream",
     "text": [
      "Ground Truth: 0\n"
     ]
    },
    {
     "data": {
      "text/plain": [
       "<matplotlib.image.AxesImage at 0x183bdb2a5f0>"
      ]
     },
     "execution_count": 28,
     "metadata": {},
     "output_type": "execute_result"
    },
    {
     "data": {
      "image/png": "[encoded data removed]",
      "text/plain": [
       "<Figure size 640x480 with 1 Axes>"
      ]
     },
     "metadata": {},
     "output_type": "display_data"
    }
   ],
   "source": [
    "# 顯示數字\n",
    "from matplotlib.pyplot import imshow\n",
    "from PIL import Image\n",
    "\n",
    "\n",
    "'''\n",
    "array([[ 0.,  0.,  5., 13.,  9.,  1.,  0.,  0.],\n",
    "       [ 0.,  0., 13., 15., 10., 15.,  5.,  0.],\n",
    "       [ 0.,  3., 15.,  2.,  0., 11.,  8.,  0.],\n",
    "       [ 0.,  4., 12.,  0.,  0.,  8.,  8.,  0.],\n",
    "       [ 0.,  5.,  8.,  0.,  0.,  9.,  8.,  0.],\n",
    "       [ 0.,  4., 11.,  0.,  1., 12.,  7.,  0.],\n",
    "       [ 0.,  2., 14.,  5., 10., 12.,  0.,  0.],\n",
    "       [ 0.,  0.,  6., 13., 10.,  0.,  0.,  0.]])\n",
    "'''\n",
    "# 該圖片的數字類別\n",
    "print(\"Ground Truth:\", y_digits[0])\n",
    "\n",
    "# 顯示數字\n",
    "imshow(X_digits[0, :].reshape(8,8))"
   ]
  },
  {
   "cell_type": "code",
   "execution_count": 29,
   "metadata": {},
   "outputs": [],
   "source": [
    "# 特徵標準化\n",
    "from sklearn.preprocessing import scale\n",
    "from sklearn.preprocessing import StandardScaler\n",
    "\n",
    "# 標準化\n",
    "# scaler = StandardScaler()\n",
    "# scaler = scaler.fit(X_digits)\n",
    "# data = scaler.transform(X_digits)\n",
    "# data\n",
    "\n",
    "# 標準化\n",
    "data = scale(X_digits)"
   ]
  },
  {
   "cell_type": "code",
   "execution_count": 30,
   "metadata": {},
   "outputs": [
    {
     "name": "stdout",
     "output_type": "stream",
     "text": [
      "n_digits: 10, n_samples: 1797, n_features: 64\n"
     ]
    }
   ],
   "source": [
    "# 取出資料集的數字類別數\n",
    "n_digits = len(np.unique(y_digits))\n",
    "\n",
    "# 取出資料集的樣本數和特徵數\n",
    "n_samples, n_features = data.shape\n",
    "\n",
    "# 輸出資料集的數字類別數、樣本數和特徵數\n",
    "print(f\"n_digits: {n_digits}, n_samples: {n_samples}, n_features: {n_features}\")"
   ]
  },
  {
   "cell_type": "code",
   "execution_count": 31,
   "metadata": {},
   "outputs": [],
   "source": [
    "# 建立兩個 K-Means 模型，除以下參數設定外，其餘為預設值\n",
    "# #############################################################################\n",
    "# kmean1: init='k-means++', n_clusters=n_digits, n_init=10, random_state=seed\n",
    "# kmean2: init='random', n_clusters=n_digits, n_init=10, random_state=seed\n",
    "# #############################################################################\n",
    "from sklearn.cluster import KMeans\n",
    "\n",
    "# 建立兩個 K-Means 模型\n",
    "kmean1 = KMeans(\n",
    "    init='k-means++', # 這個方法的優點是可以避免初始中心點過於集中\n",
    "    n_clusters=n_digits, # 聚類數量\n",
    "    n_init=10, # 進行多次聚類運算，選擇最好的一次\n",
    "    random_state=seed # 隨機種子\n",
    ")\n",
    "kmean2 = KMeans(\n",
    "    init='random', # 這個方法是隨機選擇初始中心點，可能會有未能預測的情況\n",
    "    n_clusters=n_digits, # 聚類數量\n",
    "    n_init=10, # 進行多次聚類運算，選擇最好的一次\n",
    "    random_state=seed # 隨機種子\n",
    ")"
   ]
  },
  {
   "cell_type": "code",
   "execution_count": 32,
   "metadata": {},
   "outputs": [],
   "source": [
    "# 利用 PCA 結果建立 K-Means 模型，除以下參數設定外，其餘為預設值\n",
    "# #############################################################################\n",
    "# pca: n_components=n_digits, random_state=seed\n",
    "# kmean3: init=pca.components_, n_clusters=n_digits, n_init=1, random_state=seed\n",
    "# #############################################################################\n",
    "from sklearn.decomposition import PCA\n",
    "\n",
    "# 降維\n",
    "pca = PCA(\n",
    "    n_components=n_digits, # 降維後的維度\n",
    "    random_state=seed # 隨機種子\n",
    ")\n",
    "pca = pca.fit(data)\n",
    "\n",
    "'''\n",
    "pca.components_\n",
    "代表特徵向量，每一列代表一個主成分，每一行代表一個特徵\n",
    "'''\n",
    "\n",
    "# 使用 PCA 結果建立 K-Means 模型\n",
    "kmean3 = KMeans(\n",
    "    init=pca.components_, \n",
    "    n_clusters=n_digits, \n",
    "    n_init=1, \n",
    "    random_state=seed\n",
    ")"
   ]
  },
  {
   "cell_type": "code",
   "execution_count": 33,
   "metadata": {},
   "outputs": [
    {
     "name": "stdout",
     "output_type": "stream",
     "text": [
      "K-Mean (k-means++): Silhouette=0.1471, Accuracy=0.2059\n",
      "K-Means (random): Silhouette=0.1467, Accuracy=0.1135\n",
      "K-Means (PCA-based): Silhouette=0.1400, Accuracy=0.0979\n"
     ]
    }
   ],
   "source": [
    "# 分別計算上述三個 K-Means 模型的輪廓係數(Silhouette coefficient)與\n",
    "# 分類準確率(accuracy)，除以下參數設定外，其餘為預設值\n",
    "# #############################################################################\n",
    "# silhouette_score: metric='euclidean'\n",
    "# #############################################################################\n",
    "from sklearn.metrics import silhouette_score\n",
    "from sklearn.metrics import accuracy_score\n",
    "\n",
    "lst_name = ['K-Mean (k-means++)', 'K-Means (random)', 'K-Means (PCA-based)']\n",
    "lst_model = [kmean1, kmean2, kmean3]\n",
    "\n",
    "# 輸出輪廓係數與分類準確率\n",
    "for name, model in zip(lst_name, lst_model):\n",
    "    # 訓練模型\n",
    "    model.fit(data)\n",
    "\n",
    "    # 輪廓係數\n",
    "    silhouette = silhouette_score(data, model.labels_, metric='euclidean')\n",
    "\n",
    "    # 分類準確率\n",
    "    acc_score = accuracy_score(y_digits, model.labels_)\n",
    "    \n",
    "    print(f'{name}: Silhouette={silhouette:.4f}, Accuracy={acc_score:.4f}')"
   ]
  },
  {
   "cell_type": "code",
   "execution_count": 34,
   "metadata": {},
   "outputs": [
    {
     "name": "stdout",
     "output_type": "stream",
     "text": [
      "PCA+KMeans Silhouette=0.0617 Accuracy=0.0723\n"
     ]
    }
   ],
   "source": [
    "# 進行 PCA 降維後再做 K-Means，除以下參數設定外，其餘為預設值\n",
    "# #############################################################################\n",
    "# kmeans: init='k-means++', n_clusters=n_digits, n_init=10, random_state=seed\n",
    "# PCA: n_components=2, random_state=seed\n",
    "# #############################################################################\n",
    "\n",
    "# 建立 K-Means 模型\n",
    "kmeans = KMeans(\n",
    "    init='k-means++', \n",
    "    n_clusters=n_digits, \n",
    "    n_init=10,\n",
    "    random_state=seed\n",
    ")\n",
    "\n",
    "# 將資料進行 PCA 降維\n",
    "reduced_data = PCA(n_components=2, random_state=seed).fit_transform(data)\n",
    "\n",
    "# 訓練模型\n",
    "kmeans.fit(reduced_data)\n",
    "\n",
    "# 輪廓係數\n",
    "silhouette = silhouette_score(data, kmeans.labels_, metric='euclidean')\n",
    "\n",
    "# 分類準確率\n",
    "acc_score = accuracy_score(y_digits, kmeans.labels_)\n",
    "\n",
    "print(f\"PCA+KMeans Silhouette={silhouette:.4f} Accuracy={acc_score:.4f}\")"
   ]
  }
 ],
 "metadata": {
  "kernelspec": {
   "display_name": "ml",
   "language": "python",
   "name": "python3"
  },
  "language_info": {
   "codemirror_mode": {
    "name": "ipython",
    "version": 3
   },
   "file_extension": ".py",
   "mimetype": "text/x-python",
   "name": "python",
   "nbconvert_exporter": "python",
   "pygments_lexer": "ipython3",
   "version": "3.10.15"
  }
 },
 "nbformat": 4,
 "nbformat_minor": 4
}

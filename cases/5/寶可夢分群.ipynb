{
 "cells": [
  {
   "cell_type": "markdown",
   "metadata": {},
   "source": [
    "<img src=\"https://i.imgur.com/6FvkWEr.jpeg\" width=\"600\">"
   ]
  },
  {
   "cell_type": "code",
   "execution_count": 2,
   "metadata": {},
   "outputs": [
    {
     "data": {
      "text/html": [
       "<div>\n",
       "<style scoped>\n",
       "    .dataframe tbody tr th:only-of-type {\n",
       "        vertical-align: middle;\n",
       "    }\n",
       "\n",
       "    .dataframe tbody tr th {\n",
       "        vertical-align: top;\n",
       "    }\n",
       "\n",
       "    .dataframe thead th {\n",
       "        text-align: right;\n",
       "    }\n",
       "</style>\n",
       "<table border=\"1\" class=\"dataframe\">\n",
       "  <thead>\n",
       "    <tr style=\"text-align: right;\">\n",
       "      <th></th>\n",
       "      <th>HP</th>\n",
       "      <th>Attack</th>\n",
       "      <th>Defense</th>\n",
       "      <th>SpecialAtk</th>\n",
       "      <th>SpecialDef</th>\n",
       "    </tr>\n",
       "  </thead>\n",
       "  <tbody>\n",
       "    <tr>\n",
       "      <th>0</th>\n",
       "      <td>39</td>\n",
       "      <td>52</td>\n",
       "      <td>43</td>\n",
       "      <td>60</td>\n",
       "      <td>50</td>\n",
       "    </tr>\n",
       "    <tr>\n",
       "      <th>1</th>\n",
       "      <td>58</td>\n",
       "      <td>64</td>\n",
       "      <td>58</td>\n",
       "      <td>80</td>\n",
       "      <td>65</td>\n",
       "    </tr>\n",
       "    <tr>\n",
       "      <th>2</th>\n",
       "      <td>35</td>\n",
       "      <td>55</td>\n",
       "      <td>40</td>\n",
       "      <td>50</td>\n",
       "      <td>50</td>\n",
       "    </tr>\n",
       "    <tr>\n",
       "      <th>3</th>\n",
       "      <td>60</td>\n",
       "      <td>90</td>\n",
       "      <td>55</td>\n",
       "      <td>90</td>\n",
       "      <td>80</td>\n",
       "    </tr>\n",
       "    <tr>\n",
       "      <th>4</th>\n",
       "      <td>38</td>\n",
       "      <td>41</td>\n",
       "      <td>40</td>\n",
       "      <td>50</td>\n",
       "      <td>65</td>\n",
       "    </tr>\n",
       "  </tbody>\n",
       "</table>\n",
       "</div>"
      ],
      "text/plain": [
       "   HP  Attack  Defense  SpecialAtk  SpecialDef\n",
       "0  39      52       43          60          50\n",
       "1  58      64       58          80          65\n",
       "2  35      55       40          50          50\n",
       "3  60      90       55          90          80\n",
       "4  38      41       40          50          65"
      ]
     },
     "execution_count": 2,
     "metadata": {},
     "output_type": "execute_result"
    }
   ],
   "source": [
    "import pandas as pd\n",
    "\n",
    "# 載入寶可夢資料\n",
    "df = pd.read_json('pokemon.json')\n",
    "\n",
    "# 取出目標欄位 (HP, Attack, Defense, Sp. Atk, Sp. Def)\n",
    "X_train = df.iloc[:, :-1]\n",
    "\n",
    "# 顯示前 5 筆資料\n",
    "X_train.head()"
   ]
  },
  {
   "cell_type": "code",
   "execution_count": 3,
   "metadata": {},
   "outputs": [
    {
     "data": {
      "text/plain": [
       "array([[-1.15734402, -0.72671047, -0.84787115, -0.47156812, -0.78920593],\n",
       "       [-0.35171516, -0.33802419, -0.24169379,  0.11647846, -0.17526249]])"
      ]
     },
     "execution_count": 3,
     "metadata": {},
     "output_type": "execute_result"
    }
   ],
   "source": [
    "# 特徵標準化\n",
    "from sklearn.preprocessing import StandardScaler\n",
    "\n",
    "# 標準化訓練資料\n",
    "scalar = StandardScaler()\n",
    "scaler = scalar.fit(X_train)\n",
    "X_train_std = scalar.transform(X_train)\n",
    "\n",
    "# 顯示標準化後的資料\n",
    "X_train_std[:2, :]"
   ]
  },
  {
   "cell_type": "code",
   "execution_count": 4,
   "metadata": {},
   "outputs": [],
   "source": [
    "# 利用 Hierarchical Clustering 進行分群，除以下參數設定外，其餘為預設值\n",
    "# #############################################################################\n",
    "# n_clusters=4, affinity='euclidean', linkage='ward'\n",
    "# #############################################################################\n",
    "from sklearn.cluster import AgglomerativeClustering\n",
    "\n",
    "# Hierarchical Clustering\n",
    "model = AgglomerativeClustering(\n",
    "    n_clusters=4, \n",
    "    linkage='ward'\n",
    ")\n",
    "\n",
    "# 訓練模型\n",
    "model = model.fit(X_train_std)"
   ]
  },
  {
   "cell_type": "code",
   "execution_count": 5,
   "metadata": {},
   "outputs": [
    {
     "name": "stdout",
     "output_type": "stream",
     "text": [
      "Cluster 0 個數: 76\n",
      "Cluster 1 個數: 15\n",
      "Cluster 2 個數: 49\n",
      "Cluster 3 個數: 16\n"
     ]
    }
   ],
   "source": [
    "# 計算每一群的個數\n",
    "li_clusters = model.labels_.tolist()\n",
    "'''\n",
    "model.labels_\n",
    "\n",
    "array([0, 0, 0, 2, 0, 3, 0, 2, 0, 2, 0, 0, 2, 2, 0, 1, 2, 2, 2, 0, 3, 0,\n",
    "       0, 3, 3, 1, 2, 2, 2, 2, 2, 2, 2, 0, 0, 3, 2, 0, 0, 0, 2, 3, 0, 2,\n",
    "       2, 0, 1, 0, 0, 3, 0, 0, 2, 2, 0, 0, 2, 0, 0, 0, 0, 1, 0, 2, 2, 0,\n",
    "       0, 1, 0, 3, 0, 0, 0, 2, 2, 3, 3, 0, 1, 0, 0, 0, 2, 0, 0, 0, 0, 0,\n",
    "       2, 1, 2, 2, 1, 3, 2, 2, 3, 0, 0, 3, 0, 0, 2, 2, 0, 2, 0, 2, 0, 1,\n",
    "       1, 1, 1, 0, 2, 0, 1, 2, 0, 0, 3, 0, 0, 2, 0, 2, 2, 0, 2, 0, 2, 2,\n",
    "       0, 0, 0, 0, 0, 2, 0, 0, 0, 0, 0, 2, 0, 0, 3, 0, 0, 1, 1, 0, 3, 2,\n",
    "       2, 2])\n",
    "\n",
    "轉換成 list 之後，才能使 count() 方法計算每一群的個數\n",
    "'''\n",
    "\n",
    "# 顯示每一群的個數\n",
    "for i in range(len(set(li_clusters))):\n",
    "    print('Cluster', i, '個數:', li_clusters.count(i))"
   ]
  },
  {
   "cell_type": "code",
   "execution_count": 10,
   "metadata": {},
   "outputs": [
    {
     "name": "stdout",
     "output_type": "stream",
     "text": [
      "[60.0, 48.0, 45.0, 43.0, 90.0, nan, 0.0]\n",
      "Speed = 58.0\n",
      "[70.0, 75.0, 60.0, 105.0, 60.0, nan, 2.0]\n",
      "Speed = 92.0\n"
     ]
    }
   ],
   "source": [
    "# 動態增加一個欄位 cluster，並將分群結果存入\n",
    "df['cluster'] = model.labels_\n",
    "\n",
    "# 找到 Speed 有遺漏值的兩隻寶可夢，並填入組內平均\n",
    "for i in df.index:\n",
    "    if pd.isna(df.iloc[i, -2]): # -2 是 Speed 欄位\n",
    "        # 顯示有遺漏值的寶可夢資料\n",
    "        print(df.iloc[i,:].tolist())\n",
    "\n",
    "        # 找到同一群的組內平均\n",
    "        poke = df[df['cluster']==df.iloc[i, -1]].mean()\n",
    "        '''\n",
    "        poke\n",
    "\n",
    "        [60.0, 48.0, 45.0, 43.0, 90.0, nan, 0.0]\n",
    "        HP            52.026316\n",
    "        Attack        53.328947\n",
    "        Defense       48.078947\n",
    "        SpecialAtk    59.710526\n",
    "        SpecialDef    53.973684\n",
    "        Speed         58.266667\n",
    "        cluster        0.000000\n",
    "        dtype: float64\n",
    "\n",
    "        [70.0, 75.0, 60.0, 105.0, 60.0, nan, 2.0]\n",
    "        HP             78.387755\n",
    "        Attack         97.285714\n",
    "        Defense        69.755102\n",
    "        SpecialAtk    110.204082\n",
    "        SpecialDef     80.795918\n",
    "        Speed          91.604167\n",
    "        cluster         2.000000\n",
    "        dtype: float64\n",
    "        '''\n",
    "\n",
    "        # 輸出組內平均\n",
    "        print(f\"Speed = {round(poke['Speed'], 0)}\")"
   ]
  }
 ],
 "metadata": {
  "kernelspec": {
   "display_name": "ml",
   "language": "python",
   "name": "python3"
  },
  "language_info": {
   "codemirror_mode": {
    "name": "ipython",
    "version": 3
   },
   "file_extension": ".py",
   "mimetype": "text/x-python",
   "name": "python",
   "nbconvert_exporter": "python",
   "pygments_lexer": "ipython3",
   "version": "3.10.15"
  }
 },
 "nbformat": 4,
 "nbformat_minor": 4
}

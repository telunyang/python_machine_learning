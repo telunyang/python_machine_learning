{
 "cells": [
  {
   "cell_type": "markdown",
   "metadata": {},
   "source": [
    "# 線性迴歸 (Linear Regression)"
   ]
  },
  {
   "cell_type": "markdown",
   "metadata": {},
   "source": [
    "## 簡單線性迴歸"
   ]
  },
  {
   "cell_type": "code",
   "execution_count": 33,
   "metadata": {},
   "outputs": [
    {
     "data": {
      "text/html": [
       "<div>\n",
       "<style scoped>\n",
       "    .dataframe tbody tr th:only-of-type {\n",
       "        vertical-align: middle;\n",
       "    }\n",
       "\n",
       "    .dataframe tbody tr th {\n",
       "        vertical-align: top;\n",
       "    }\n",
       "\n",
       "    .dataframe thead th {\n",
       "        text-align: right;\n",
       "    }\n",
       "</style>\n",
       "<table border=\"1\" class=\"dataframe\">\n",
       "  <thead>\n",
       "    <tr style=\"text-align: right;\">\n",
       "      <th></th>\n",
       "      <th>CRIM</th>\n",
       "      <th>ZN</th>\n",
       "      <th>INDUS</th>\n",
       "      <th>CHAS</th>\n",
       "      <th>NOX</th>\n",
       "      <th>RM</th>\n",
       "      <th>AGE</th>\n",
       "      <th>DIS</th>\n",
       "      <th>RAD</th>\n",
       "      <th>TAX</th>\n",
       "      <th>PTRATIO</th>\n",
       "      <th>B</th>\n",
       "      <th>LSTAT</th>\n",
       "      <th>MEDV</th>\n",
       "    </tr>\n",
       "  </thead>\n",
       "  <tbody>\n",
       "    <tr>\n",
       "      <th>0</th>\n",
       "      <td>0.00632</td>\n",
       "      <td>18.0</td>\n",
       "      <td>2.31</td>\n",
       "      <td>0</td>\n",
       "      <td>0.538</td>\n",
       "      <td>6.575</td>\n",
       "      <td>65.2</td>\n",
       "      <td>4.0900</td>\n",
       "      <td>1</td>\n",
       "      <td>296</td>\n",
       "      <td>15.3</td>\n",
       "      <td>396.90</td>\n",
       "      <td>4.98</td>\n",
       "      <td>24.0</td>\n",
       "    </tr>\n",
       "    <tr>\n",
       "      <th>1</th>\n",
       "      <td>0.02731</td>\n",
       "      <td>0.0</td>\n",
       "      <td>7.07</td>\n",
       "      <td>0</td>\n",
       "      <td>0.469</td>\n",
       "      <td>6.421</td>\n",
       "      <td>78.9</td>\n",
       "      <td>4.9671</td>\n",
       "      <td>2</td>\n",
       "      <td>242</td>\n",
       "      <td>17.8</td>\n",
       "      <td>396.90</td>\n",
       "      <td>9.14</td>\n",
       "      <td>21.6</td>\n",
       "    </tr>\n",
       "    <tr>\n",
       "      <th>2</th>\n",
       "      <td>0.02729</td>\n",
       "      <td>0.0</td>\n",
       "      <td>7.07</td>\n",
       "      <td>0</td>\n",
       "      <td>0.469</td>\n",
       "      <td>7.185</td>\n",
       "      <td>61.1</td>\n",
       "      <td>4.9671</td>\n",
       "      <td>2</td>\n",
       "      <td>242</td>\n",
       "      <td>17.8</td>\n",
       "      <td>392.83</td>\n",
       "      <td>4.03</td>\n",
       "      <td>34.7</td>\n",
       "    </tr>\n",
       "    <tr>\n",
       "      <th>3</th>\n",
       "      <td>0.03237</td>\n",
       "      <td>0.0</td>\n",
       "      <td>2.18</td>\n",
       "      <td>0</td>\n",
       "      <td>0.458</td>\n",
       "      <td>6.998</td>\n",
       "      <td>45.8</td>\n",
       "      <td>6.0622</td>\n",
       "      <td>3</td>\n",
       "      <td>222</td>\n",
       "      <td>18.7</td>\n",
       "      <td>394.63</td>\n",
       "      <td>2.94</td>\n",
       "      <td>33.4</td>\n",
       "    </tr>\n",
       "    <tr>\n",
       "      <th>4</th>\n",
       "      <td>0.06905</td>\n",
       "      <td>0.0</td>\n",
       "      <td>2.18</td>\n",
       "      <td>0</td>\n",
       "      <td>0.458</td>\n",
       "      <td>7.147</td>\n",
       "      <td>54.2</td>\n",
       "      <td>6.0622</td>\n",
       "      <td>3</td>\n",
       "      <td>222</td>\n",
       "      <td>18.7</td>\n",
       "      <td>396.90</td>\n",
       "      <td>5.33</td>\n",
       "      <td>36.2</td>\n",
       "    </tr>\n",
       "    <tr>\n",
       "      <th>...</th>\n",
       "      <td>...</td>\n",
       "      <td>...</td>\n",
       "      <td>...</td>\n",
       "      <td>...</td>\n",
       "      <td>...</td>\n",
       "      <td>...</td>\n",
       "      <td>...</td>\n",
       "      <td>...</td>\n",
       "      <td>...</td>\n",
       "      <td>...</td>\n",
       "      <td>...</td>\n",
       "      <td>...</td>\n",
       "      <td>...</td>\n",
       "      <td>...</td>\n",
       "    </tr>\n",
       "    <tr>\n",
       "      <th>501</th>\n",
       "      <td>0.06263</td>\n",
       "      <td>0.0</td>\n",
       "      <td>11.93</td>\n",
       "      <td>0</td>\n",
       "      <td>0.573</td>\n",
       "      <td>6.593</td>\n",
       "      <td>69.1</td>\n",
       "      <td>2.4786</td>\n",
       "      <td>1</td>\n",
       "      <td>273</td>\n",
       "      <td>21.0</td>\n",
       "      <td>391.99</td>\n",
       "      <td>9.67</td>\n",
       "      <td>22.4</td>\n",
       "    </tr>\n",
       "    <tr>\n",
       "      <th>502</th>\n",
       "      <td>0.04527</td>\n",
       "      <td>0.0</td>\n",
       "      <td>11.93</td>\n",
       "      <td>0</td>\n",
       "      <td>0.573</td>\n",
       "      <td>6.120</td>\n",
       "      <td>76.7</td>\n",
       "      <td>2.2875</td>\n",
       "      <td>1</td>\n",
       "      <td>273</td>\n",
       "      <td>21.0</td>\n",
       "      <td>396.90</td>\n",
       "      <td>9.08</td>\n",
       "      <td>20.6</td>\n",
       "    </tr>\n",
       "    <tr>\n",
       "      <th>503</th>\n",
       "      <td>0.06076</td>\n",
       "      <td>0.0</td>\n",
       "      <td>11.93</td>\n",
       "      <td>0</td>\n",
       "      <td>0.573</td>\n",
       "      <td>6.976</td>\n",
       "      <td>91.0</td>\n",
       "      <td>2.1675</td>\n",
       "      <td>1</td>\n",
       "      <td>273</td>\n",
       "      <td>21.0</td>\n",
       "      <td>396.90</td>\n",
       "      <td>5.64</td>\n",
       "      <td>23.9</td>\n",
       "    </tr>\n",
       "    <tr>\n",
       "      <th>504</th>\n",
       "      <td>0.10959</td>\n",
       "      <td>0.0</td>\n",
       "      <td>11.93</td>\n",
       "      <td>0</td>\n",
       "      <td>0.573</td>\n",
       "      <td>6.794</td>\n",
       "      <td>89.3</td>\n",
       "      <td>2.3889</td>\n",
       "      <td>1</td>\n",
       "      <td>273</td>\n",
       "      <td>21.0</td>\n",
       "      <td>393.45</td>\n",
       "      <td>6.48</td>\n",
       "      <td>22.0</td>\n",
       "    </tr>\n",
       "    <tr>\n",
       "      <th>505</th>\n",
       "      <td>0.04741</td>\n",
       "      <td>0.0</td>\n",
       "      <td>11.93</td>\n",
       "      <td>0</td>\n",
       "      <td>0.573</td>\n",
       "      <td>6.030</td>\n",
       "      <td>80.8</td>\n",
       "      <td>2.5050</td>\n",
       "      <td>1</td>\n",
       "      <td>273</td>\n",
       "      <td>21.0</td>\n",
       "      <td>396.90</td>\n",
       "      <td>7.88</td>\n",
       "      <td>11.9</td>\n",
       "    </tr>\n",
       "  </tbody>\n",
       "</table>\n",
       "<p>506 rows × 14 columns</p>\n",
       "</div>"
      ],
      "text/plain": [
       "        CRIM    ZN  INDUS  CHAS    NOX     RM   AGE     DIS  RAD  TAX  \\\n",
       "0    0.00632  18.0   2.31     0  0.538  6.575  65.2  4.0900    1  296   \n",
       "1    0.02731   0.0   7.07     0  0.469  6.421  78.9  4.9671    2  242   \n",
       "2    0.02729   0.0   7.07     0  0.469  7.185  61.1  4.9671    2  242   \n",
       "3    0.03237   0.0   2.18     0  0.458  6.998  45.8  6.0622    3  222   \n",
       "4    0.06905   0.0   2.18     0  0.458  7.147  54.2  6.0622    3  222   \n",
       "..       ...   ...    ...   ...    ...    ...   ...     ...  ...  ...   \n",
       "501  0.06263   0.0  11.93     0  0.573  6.593  69.1  2.4786    1  273   \n",
       "502  0.04527   0.0  11.93     0  0.573  6.120  76.7  2.2875    1  273   \n",
       "503  0.06076   0.0  11.93     0  0.573  6.976  91.0  2.1675    1  273   \n",
       "504  0.10959   0.0  11.93     0  0.573  6.794  89.3  2.3889    1  273   \n",
       "505  0.04741   0.0  11.93     0  0.573  6.030  80.8  2.5050    1  273   \n",
       "\n",
       "     PTRATIO       B  LSTAT  MEDV  \n",
       "0       15.3  396.90   4.98  24.0  \n",
       "1       17.8  396.90   9.14  21.6  \n",
       "2       17.8  392.83   4.03  34.7  \n",
       "3       18.7  394.63   2.94  33.4  \n",
       "4       18.7  396.90   5.33  36.2  \n",
       "..       ...     ...    ...   ...  \n",
       "501     21.0  391.99   9.67  22.4  \n",
       "502     21.0  396.90   9.08  20.6  \n",
       "503     21.0  396.90   5.64  23.9  \n",
       "504     21.0  393.45   6.48  22.0  \n",
       "505     21.0  396.90   7.88  11.9  \n",
       "\n",
       "[506 rows x 14 columns]"
      ]
     },
     "execution_count": 33,
     "metadata": {},
     "output_type": "execute_result"
    }
   ],
   "source": [
    "import numpy as np\n",
    "import pandas as pd\n",
    "\n",
    "# 讀取波士頓房價數據集\n",
    "# 官方不建議使用，因為有道德問題\n",
    "# 由於 B 欄位的關係，認為種族自我隔離對房間有正面的影響\n",
    "# 網址: https://github.com/scikit-learn/scikit-learn/blob/main/sklearn/datasets/data/boston_house_prices.csv\n",
    "df = pd.read_csv('ex2.csv')\n",
    "df"
   ]
  },
  {
   "cell_type": "markdown",
   "metadata": {},
   "source": [
    "| 欄位名稱 | 說明 |\n",
    "| -------- | ---- |\n",
    "| CRIM | 人均犯罪率 |\n",
    "| ZN | 25,000平方英尺以上民用土地的比例 |\n",
    "| INDUS | 城鎮非零售業商用土地比例 |\n",
    "| CHAS | 是否鄰近查爾斯河，1是鄰近，0是不鄰近 |\n",
    "| NOX | 一氧化氮濃度（千萬分之一，10 ppm） |\n",
    "| RM | 住宅的平均房間數 |\n",
    "| AGE | 自住且建於1940年前的房屋比例 |\n",
    "| DIS | 到5個波士頓就業中心的加權距離 |\n",
    "| RAD | 到高速公路的便捷度指數 |\n",
    "| TAX | 每一萬美元的不動產稅率 |\n",
    "| PTRATIO | 城鎮學生教師比例 |\n",
    "| B | 1000*(Bk − 0.63)^2，其中 Bk 是城鎮中黑人比例 |\n",
    "| LSTAT | 低收入人群比例 |\n",
    "| MEDV | 房價。自住房中位數價格，單位是千元 |"
   ]
  },
  {
   "cell_type": "code",
   "execution_count": 34,
   "metadata": {},
   "outputs": [
    {
     "data": {
      "text/html": [
       "<div>\n",
       "<style scoped>\n",
       "    .dataframe tbody tr th:only-of-type {\n",
       "        vertical-align: middle;\n",
       "    }\n",
       "\n",
       "    .dataframe tbody tr th {\n",
       "        vertical-align: top;\n",
       "    }\n",
       "\n",
       "    .dataframe thead th {\n",
       "        text-align: right;\n",
       "    }\n",
       "</style>\n",
       "<table border=\"1\" class=\"dataframe\">\n",
       "  <thead>\n",
       "    <tr style=\"text-align: right;\">\n",
       "      <th></th>\n",
       "      <th>CRIM</th>\n",
       "      <th>ZN</th>\n",
       "      <th>INDUS</th>\n",
       "      <th>CHAS</th>\n",
       "      <th>NOX</th>\n",
       "      <th>RM</th>\n",
       "      <th>AGE</th>\n",
       "      <th>DIS</th>\n",
       "      <th>RAD</th>\n",
       "      <th>TAX</th>\n",
       "      <th>PTRATIO</th>\n",
       "      <th>B</th>\n",
       "      <th>LSTAT</th>\n",
       "      <th>MEDV</th>\n",
       "    </tr>\n",
       "  </thead>\n",
       "  <tbody>\n",
       "    <tr>\n",
       "      <th>count</th>\n",
       "      <td>506.000000</td>\n",
       "      <td>506.000000</td>\n",
       "      <td>506.000000</td>\n",
       "      <td>506.000000</td>\n",
       "      <td>506.000000</td>\n",
       "      <td>506.000000</td>\n",
       "      <td>506.000000</td>\n",
       "      <td>506.000000</td>\n",
       "      <td>506.000000</td>\n",
       "      <td>506.000000</td>\n",
       "      <td>506.000000</td>\n",
       "      <td>506.000000</td>\n",
       "      <td>506.000000</td>\n",
       "      <td>506.000000</td>\n",
       "    </tr>\n",
       "    <tr>\n",
       "      <th>mean</th>\n",
       "      <td>3.613524</td>\n",
       "      <td>11.363636</td>\n",
       "      <td>11.136779</td>\n",
       "      <td>0.069170</td>\n",
       "      <td>0.554695</td>\n",
       "      <td>6.284634</td>\n",
       "      <td>68.574901</td>\n",
       "      <td>3.795043</td>\n",
       "      <td>9.549407</td>\n",
       "      <td>408.237154</td>\n",
       "      <td>18.455534</td>\n",
       "      <td>356.674032</td>\n",
       "      <td>12.653063</td>\n",
       "      <td>22.532806</td>\n",
       "    </tr>\n",
       "    <tr>\n",
       "      <th>std</th>\n",
       "      <td>8.601545</td>\n",
       "      <td>23.322453</td>\n",
       "      <td>6.860353</td>\n",
       "      <td>0.253994</td>\n",
       "      <td>0.115878</td>\n",
       "      <td>0.702617</td>\n",
       "      <td>28.148861</td>\n",
       "      <td>2.105710</td>\n",
       "      <td>8.707259</td>\n",
       "      <td>168.537116</td>\n",
       "      <td>2.164946</td>\n",
       "      <td>91.294864</td>\n",
       "      <td>7.141062</td>\n",
       "      <td>9.197104</td>\n",
       "    </tr>\n",
       "    <tr>\n",
       "      <th>min</th>\n",
       "      <td>0.006320</td>\n",
       "      <td>0.000000</td>\n",
       "      <td>0.460000</td>\n",
       "      <td>0.000000</td>\n",
       "      <td>0.385000</td>\n",
       "      <td>3.561000</td>\n",
       "      <td>2.900000</td>\n",
       "      <td>1.129600</td>\n",
       "      <td>1.000000</td>\n",
       "      <td>187.000000</td>\n",
       "      <td>12.600000</td>\n",
       "      <td>0.320000</td>\n",
       "      <td>1.730000</td>\n",
       "      <td>5.000000</td>\n",
       "    </tr>\n",
       "    <tr>\n",
       "      <th>25%</th>\n",
       "      <td>0.082045</td>\n",
       "      <td>0.000000</td>\n",
       "      <td>5.190000</td>\n",
       "      <td>0.000000</td>\n",
       "      <td>0.449000</td>\n",
       "      <td>5.885500</td>\n",
       "      <td>45.025000</td>\n",
       "      <td>2.100175</td>\n",
       "      <td>4.000000</td>\n",
       "      <td>279.000000</td>\n",
       "      <td>17.400000</td>\n",
       "      <td>375.377500</td>\n",
       "      <td>6.950000</td>\n",
       "      <td>17.025000</td>\n",
       "    </tr>\n",
       "    <tr>\n",
       "      <th>50%</th>\n",
       "      <td>0.256510</td>\n",
       "      <td>0.000000</td>\n",
       "      <td>9.690000</td>\n",
       "      <td>0.000000</td>\n",
       "      <td>0.538000</td>\n",
       "      <td>6.208500</td>\n",
       "      <td>77.500000</td>\n",
       "      <td>3.207450</td>\n",
       "      <td>5.000000</td>\n",
       "      <td>330.000000</td>\n",
       "      <td>19.050000</td>\n",
       "      <td>391.440000</td>\n",
       "      <td>11.360000</td>\n",
       "      <td>21.200000</td>\n",
       "    </tr>\n",
       "    <tr>\n",
       "      <th>75%</th>\n",
       "      <td>3.677083</td>\n",
       "      <td>12.500000</td>\n",
       "      <td>18.100000</td>\n",
       "      <td>0.000000</td>\n",
       "      <td>0.624000</td>\n",
       "      <td>6.623500</td>\n",
       "      <td>94.075000</td>\n",
       "      <td>5.188425</td>\n",
       "      <td>24.000000</td>\n",
       "      <td>666.000000</td>\n",
       "      <td>20.200000</td>\n",
       "      <td>396.225000</td>\n",
       "      <td>16.955000</td>\n",
       "      <td>25.000000</td>\n",
       "    </tr>\n",
       "    <tr>\n",
       "      <th>max</th>\n",
       "      <td>88.976200</td>\n",
       "      <td>100.000000</td>\n",
       "      <td>27.740000</td>\n",
       "      <td>1.000000</td>\n",
       "      <td>0.871000</td>\n",
       "      <td>8.780000</td>\n",
       "      <td>100.000000</td>\n",
       "      <td>12.126500</td>\n",
       "      <td>24.000000</td>\n",
       "      <td>711.000000</td>\n",
       "      <td>22.000000</td>\n",
       "      <td>396.900000</td>\n",
       "      <td>37.970000</td>\n",
       "      <td>50.000000</td>\n",
       "    </tr>\n",
       "  </tbody>\n",
       "</table>\n",
       "</div>"
      ],
      "text/plain": [
       "             CRIM          ZN       INDUS        CHAS         NOX          RM  \\\n",
       "count  506.000000  506.000000  506.000000  506.000000  506.000000  506.000000   \n",
       "mean     3.613524   11.363636   11.136779    0.069170    0.554695    6.284634   \n",
       "std      8.601545   23.322453    6.860353    0.253994    0.115878    0.702617   \n",
       "min      0.006320    0.000000    0.460000    0.000000    0.385000    3.561000   \n",
       "25%      0.082045    0.000000    5.190000    0.000000    0.449000    5.885500   \n",
       "50%      0.256510    0.000000    9.690000    0.000000    0.538000    6.208500   \n",
       "75%      3.677083   12.500000   18.100000    0.000000    0.624000    6.623500   \n",
       "max     88.976200  100.000000   27.740000    1.000000    0.871000    8.780000   \n",
       "\n",
       "              AGE         DIS         RAD         TAX     PTRATIO           B  \\\n",
       "count  506.000000  506.000000  506.000000  506.000000  506.000000  506.000000   \n",
       "mean    68.574901    3.795043    9.549407  408.237154   18.455534  356.674032   \n",
       "std     28.148861    2.105710    8.707259  168.537116    2.164946   91.294864   \n",
       "min      2.900000    1.129600    1.000000  187.000000   12.600000    0.320000   \n",
       "25%     45.025000    2.100175    4.000000  279.000000   17.400000  375.377500   \n",
       "50%     77.500000    3.207450    5.000000  330.000000   19.050000  391.440000   \n",
       "75%     94.075000    5.188425   24.000000  666.000000   20.200000  396.225000   \n",
       "max    100.000000   12.126500   24.000000  711.000000   22.000000  396.900000   \n",
       "\n",
       "            LSTAT        MEDV  \n",
       "count  506.000000  506.000000  \n",
       "mean    12.653063   22.532806  \n",
       "std      7.141062    9.197104  \n",
       "min      1.730000    5.000000  \n",
       "25%      6.950000   17.025000  \n",
       "50%     11.360000   21.200000  \n",
       "75%     16.955000   25.000000  \n",
       "max     37.970000   50.000000  "
      ]
     },
     "execution_count": 34,
     "metadata": {},
     "output_type": "execute_result"
    }
   ],
   "source": [
    "# 敘述性統計\n",
    "df.describe()"
   ]
  },
  {
   "cell_type": "code",
   "execution_count": 35,
   "metadata": {},
   "outputs": [
    {
     "data": {
      "text/plain": [
       "CRIM       0\n",
       "ZN         0\n",
       "INDUS      0\n",
       "CHAS       0\n",
       "NOX        0\n",
       "RM         0\n",
       "AGE        0\n",
       "DIS        0\n",
       "RAD        0\n",
       "TAX        0\n",
       "PTRATIO    0\n",
       "B          0\n",
       "LSTAT      0\n",
       "MEDV       0\n",
       "dtype: int64"
      ]
     },
     "execution_count": 35,
     "metadata": {},
     "output_type": "execute_result"
    }
   ],
   "source": [
    "# 檢查是否有遺漏值(也可用 df.info())\n",
    "df.isnull().sum()"
   ]
  },
  {
   "cell_type": "code",
   "execution_count": 36,
   "metadata": {},
   "outputs": [
    {
     "name": "stdout",
     "output_type": "stream",
     "text": [
      "w_0 = [-34.67062078]\n",
      "w_1 = [9.10210898]\n"
     ]
    },
    {
     "data": {
      "text/plain": [
       "[<matplotlib.lines.Line2D at 0x275c2c93940>]"
      ]
     },
     "execution_count": 36,
     "metadata": {},
     "output_type": "execute_result"
    },
    {
     "data": {
      "image/png": "[encoded data removed]",
      "text/plain": [
       "<Figure size 640x480 with 1 Axes>"
      ]
     },
     "metadata": {},
     "output_type": "display_data"
    }
   ],
   "source": [
    "import matplotlib.pyplot as plt\n",
    "from sklearn.linear_model import LinearRegression\n",
    "import matplotlib.pyplot as plt\n",
    "plt.style.use('fivethirtyeight')\n",
    "\n",
    "# 取出特徵與標記\n",
    "x, y = df.loc[:, ['RM']], df.loc[:, ['MEDV']]\n",
    "\n",
    "# 建立線性迴歸模型\n",
    "lr = LinearRegression()\n",
    "\n",
    "# 訓練模型\n",
    "lr.fit(x, y)\n",
    "\n",
    "# 印出截距與係數\n",
    "print('w_0 =', lr.intercept_)\n",
    "print('w_1 =', lr.coef_[0])\n",
    "\n",
    "\n",
    "# 繪製散佈圖\n",
    "plt.scatter(x, y, facecolor='xkcd:azure', edgecolor='black', s=20)\n",
    "plt.xlabel('RM', fontsize=14)\n",
    "plt.ylabel(\"MEDV\", fontsize=14)\n",
    "\n",
    "\n",
    "# 繪製迴歸線\n",
    "n_x = np.linspace(x.min(), x.max(), 100)\n",
    "\n",
    "# 公式: y = w_0 + w_1 * x\n",
    "# 意思是 y = 截距 + 係數 * x\n",
    "n_y = lr.intercept_ + lr.coef_[0] * n_x\n",
    "\n",
    "# 繪製迴歸線\n",
    "plt.plot(n_x, n_y, color='r', lw=3) # lw: 線寬"
   ]
  },
  {
   "cell_type": "code",
   "execution_count": 37,
   "metadata": {},
   "outputs": [
    {
     "name": "stdout",
     "output_type": "stream",
     "text": [
      "w_0 = [-4.43892061e-16]\n",
      "w_1 = [0.69535995]\n"
     ]
    },
    {
     "data": {
      "image/png": "[encoded data removed]",
      "text/plain": [
       "<Figure size 640x480 with 1 Axes>"
      ]
     },
     "metadata": {},
     "output_type": "display_data"
    }
   ],
   "source": [
    "from sklearn.preprocessing import StandardScaler\n",
    "\n",
    "# 對 x 和 y 都進行標準化\n",
    "x = StandardScaler().fit_transform(x)\n",
    "y = StandardScaler().fit_transform(y)\n",
    "\n",
    "# 建立線性迴歸模型\n",
    "lr = LinearRegression()\n",
    "\n",
    "# 訓練模型\n",
    "lr.fit(x, y)\n",
    "\n",
    "# 印出截距與係數\n",
    "print('w_0 =', lr.intercept_)\n",
    "print('w_1 =', lr.coef_[0])\n",
    "'''\n",
    "標準化有個特色，就是線性迴歸的截距會變成 0 (線條會從通過原點，W_0 = 0)\n",
    "'''\n",
    "\n",
    "# 繪製散佈圖\n",
    "plt.scatter(x, y, facecolor='xkcd:azure', edgecolor='black', s=20)\n",
    "plt.xlabel('RM', fontsize=14)\n",
    "plt.ylabel(\"MEDV\", fontsize=14)\n",
    "\n",
    "\n",
    "# 取得標準化後的迴歸線\n",
    "n_x = np.linspace(x.min(), x.max(), 100)\n",
    "\n",
    "# 公式: y = w_0 + w_1 * x，計算出標準化後的迴歸線所對應的 y\n",
    "n_y = lr.intercept_ + lr.coef_[0] * n_x\n",
    "\n",
    "# 繪製迴歸線\n",
    "plt.plot(n_x, n_y, color='r', lw=3)\n",
    "plt.show()"
   ]
  },
  {
   "cell_type": "markdown",
   "metadata": {},
   "source": [
    "## 多元線性迴歸"
   ]
  },
  {
   "cell_type": "code",
   "execution_count": 38,
   "metadata": {},
   "outputs": [
    {
     "name": "stdout",
     "output_type": "stream",
     "text": [
      "[w_1, w_2] = [ 5.09478798 -0.64235833]\n",
      "w_0 = [-1.35827281]\n"
     ]
    }
   ],
   "source": [
    "from sklearn.linear_model import LinearRegression\n",
    "\n",
    "# 取出特徵與標記，其中特徵為 RM 與 LSTAT (房間數與低收入人口比例)\n",
    "X, y = df.loc[:, ['RM','LSTAT']], df.loc[:, ['MEDV']]\n",
    "\n",
    "# 建立線性迴歸模型\n",
    "lr = LinearRegression()\n",
    "lr.fit(X, y)\n",
    "\n",
    "# 印出截距與係數\n",
    "print('[w_1, w_2] =', lr.coef_[0])\n",
    "print('w_0 =', lr.intercept_)"
   ]
  },
  {
   "cell_type": "code",
   "execution_count": 39,
   "metadata": {},
   "outputs": [
    {
     "data": {
      "text/html": [
       "<div>\n",
       "<style scoped>\n",
       "    .dataframe tbody tr th:only-of-type {\n",
       "        vertical-align: middle;\n",
       "    }\n",
       "\n",
       "    .dataframe tbody tr th {\n",
       "        vertical-align: top;\n",
       "    }\n",
       "\n",
       "    .dataframe thead th {\n",
       "        text-align: right;\n",
       "    }\n",
       "</style>\n",
       "<table border=\"1\" class=\"dataframe\">\n",
       "  <thead>\n",
       "    <tr style=\"text-align: right;\">\n",
       "      <th></th>\n",
       "      <th>feature</th>\n",
       "      <th>VIF</th>\n",
       "    </tr>\n",
       "  </thead>\n",
       "  <tbody>\n",
       "    <tr>\n",
       "      <th>0</th>\n",
       "      <td>CRIM</td>\n",
       "      <td>1.831537</td>\n",
       "    </tr>\n",
       "    <tr>\n",
       "      <th>1</th>\n",
       "      <td>ZN</td>\n",
       "      <td>2.352186</td>\n",
       "    </tr>\n",
       "    <tr>\n",
       "      <th>2</th>\n",
       "      <td>INDUS</td>\n",
       "      <td>3.992503</td>\n",
       "    </tr>\n",
       "    <tr>\n",
       "      <th>3</th>\n",
       "      <td>CHAS</td>\n",
       "      <td>1.095223</td>\n",
       "    </tr>\n",
       "    <tr>\n",
       "      <th>4</th>\n",
       "      <td>NOX</td>\n",
       "      <td>4.586920</td>\n",
       "    </tr>\n",
       "    <tr>\n",
       "      <th>5</th>\n",
       "      <td>RM</td>\n",
       "      <td>2.260374</td>\n",
       "    </tr>\n",
       "    <tr>\n",
       "      <th>6</th>\n",
       "      <td>AGE</td>\n",
       "      <td>3.100843</td>\n",
       "    </tr>\n",
       "    <tr>\n",
       "      <th>7</th>\n",
       "      <td>DIS</td>\n",
       "      <td>4.396007</td>\n",
       "    </tr>\n",
       "    <tr>\n",
       "      <th>8</th>\n",
       "      <td>RAD</td>\n",
       "      <td>7.808198</td>\n",
       "    </tr>\n",
       "    <tr>\n",
       "      <th>9</th>\n",
       "      <td>TAX</td>\n",
       "      <td>9.205542</td>\n",
       "    </tr>\n",
       "    <tr>\n",
       "      <th>10</th>\n",
       "      <td>PTRATIO</td>\n",
       "      <td>1.993016</td>\n",
       "    </tr>\n",
       "    <tr>\n",
       "      <th>11</th>\n",
       "      <td>B</td>\n",
       "      <td>1.381463</td>\n",
       "    </tr>\n",
       "    <tr>\n",
       "      <th>12</th>\n",
       "      <td>LSTAT</td>\n",
       "      <td>3.581585</td>\n",
       "    </tr>\n",
       "    <tr>\n",
       "      <th>13</th>\n",
       "      <td>MEDV</td>\n",
       "      <td>3.855684</td>\n",
       "    </tr>\n",
       "  </tbody>\n",
       "</table>\n",
       "</div>"
      ],
      "text/plain": [
       "    feature       VIF\n",
       "0      CRIM  1.831537\n",
       "1        ZN  2.352186\n",
       "2     INDUS  3.992503\n",
       "3      CHAS  1.095223\n",
       "4       NOX  4.586920\n",
       "5        RM  2.260374\n",
       "6       AGE  3.100843\n",
       "7       DIS  4.396007\n",
       "8       RAD  7.808198\n",
       "9       TAX  9.205542\n",
       "10  PTRATIO  1.993016\n",
       "11        B  1.381463\n",
       "12    LSTAT  3.581585\n",
       "13     MEDV  3.855684"
      ]
     },
     "execution_count": 39,
     "metadata": {},
     "output_type": "execute_result"
    }
   ],
   "source": [
    "from statsmodels.stats.outliers_influence import variance_inflation_factor\n",
    "\n",
    "'''\n",
    "共線性: \n",
    "當特徵之間存在高度相關時，會導致模型的不穩定性，這種情況稱為共線性。\n",
    "將有共線性的特徵放入模型中，會提高某些自變數的解釋力與預測力，\n",
    "使得建構好的模型有偏差。\n",
    "'''\n",
    "\n",
    "'''\n",
    "變異膨脹因子 (VIF) 是用來檢測特徵之間是否存在共線性的指標\n",
    "\n",
    "VIF 的值越大，表示特徵之間的共線性越高，對於模型的解釋性會有所影響，值愈大愈不好\n",
    "statsmodels 套件在計算 VIP 時，會建議大於 5 即存在共線性問題\n",
    "網路上認為，大於 10 即存在共線性問題，或許可以將 10 視為一個參考值\n",
    "'''\n",
    "\n",
    "# 新增一欄位 constant，用常數填充\n",
    "df['constant'] = 1\n",
    "\n",
    "# 取出特徵\n",
    "df_vif = pd.DataFrame()\n",
    "df_vif['feature'] = df.columns\n",
    "df_vif['VIF'] = [variance_inflation_factor(df.values, i) for i in range(df.shape[1])]\n",
    "\n",
    "# 移除新增的列 (拿掉 constant 那一列)\n",
    "df_vif = df_vif.drop(index=df_vif.index[-1])\n",
    "df_vif"
   ]
  },
  {
   "cell_type": "code",
   "execution_count": 40,
   "metadata": {},
   "outputs": [
    {
     "name": "stdout",
     "output_type": "stream",
     "text": [
      "迴歸係數：\n",
      "const   -1.358273\n",
      "RM       5.094788\n",
      "LSTAT   -0.642358\n",
      "dtype: float64\n"
     ]
    },
    {
     "data": {
      "text/html": [
       "<table class=\"simpletable\">\n",
       "<caption>OLS Regression Results</caption>\n",
       "<tr>\n",
       "  <th>Dep. Variable:</th>          <td>MEDV</td>       <th>  R-squared:         </th> <td>   0.639</td> \n",
       "</tr>\n",
       "<tr>\n",
       "  <th>Model:</th>                   <td>OLS</td>       <th>  Adj. R-squared:    </th> <td>   0.637</td> \n",
       "</tr>\n",
       "<tr>\n",
       "  <th>Method:</th>             <td>Least Squares</td>  <th>  F-statistic:       </th> <td>   444.3</td> \n",
       "</tr>\n",
       "<tr>\n",
       "  <th>Date:</th>             <td>Thu, 24 Oct 2024</td> <th>  Prob (F-statistic):</th> <td>7.01e-112</td>\n",
       "</tr>\n",
       "<tr>\n",
       "  <th>Time:</th>                 <td>01:48:09</td>     <th>  Log-Likelihood:    </th> <td> -1582.8</td> \n",
       "</tr>\n",
       "<tr>\n",
       "  <th>No. Observations:</th>      <td>   506</td>      <th>  AIC:               </th> <td>   3172.</td> \n",
       "</tr>\n",
       "<tr>\n",
       "  <th>Df Residuals:</th>          <td>   503</td>      <th>  BIC:               </th> <td>   3184.</td> \n",
       "</tr>\n",
       "<tr>\n",
       "  <th>Df Model:</th>              <td>     2</td>      <th>                     </th>     <td> </td>    \n",
       "</tr>\n",
       "<tr>\n",
       "  <th>Covariance Type:</th>      <td>nonrobust</td>    <th>                     </th>     <td> </td>    \n",
       "</tr>\n",
       "</table>\n",
       "<table class=\"simpletable\">\n",
       "<tr>\n",
       "    <td></td>       <th>coef</th>     <th>std err</th>      <th>t</th>      <th>P>|t|</th>  <th>[0.025</th>    <th>0.975]</th>  \n",
       "</tr>\n",
       "<tr>\n",
       "  <th>const</th> <td>   -1.3583</td> <td>    3.173</td> <td>   -0.428</td> <td> 0.669</td> <td>   -7.592</td> <td>    4.875</td>\n",
       "</tr>\n",
       "<tr>\n",
       "  <th>RM</th>    <td>    5.0948</td> <td>    0.444</td> <td>   11.463</td> <td> 0.000</td> <td>    4.222</td> <td>    5.968</td>\n",
       "</tr>\n",
       "<tr>\n",
       "  <th>LSTAT</th> <td>   -0.6424</td> <td>    0.044</td> <td>  -14.689</td> <td> 0.000</td> <td>   -0.728</td> <td>   -0.556</td>\n",
       "</tr>\n",
       "</table>\n",
       "<table class=\"simpletable\">\n",
       "<tr>\n",
       "  <th>Omnibus:</th>       <td>145.712</td> <th>  Durbin-Watson:     </th> <td>   0.834</td> \n",
       "</tr>\n",
       "<tr>\n",
       "  <th>Prob(Omnibus):</th> <td> 0.000</td>  <th>  Jarque-Bera (JB):  </th> <td> 457.690</td> \n",
       "</tr>\n",
       "<tr>\n",
       "  <th>Skew:</th>          <td> 1.343</td>  <th>  Prob(JB):          </th> <td>4.11e-100</td>\n",
       "</tr>\n",
       "<tr>\n",
       "  <th>Kurtosis:</th>      <td> 6.807</td>  <th>  Cond. No.          </th> <td>    202.</td> \n",
       "</tr>\n",
       "</table><br/><br/>Notes:<br/>[1] Standard Errors assume that the covariance matrix of the errors is correctly specified."
      ],
      "text/latex": [
       "\\begin{center}\n",
       "\\begin{tabular}{lclc}\n",
       "\\toprule\n",
       "\\textbf{Dep. Variable:}    &       MEDV       & \\textbf{  R-squared:         } &     0.639   \\\\\n",
       "\\textbf{Model:}            &       OLS        & \\textbf{  Adj. R-squared:    } &     0.637   \\\\\n",
       "\\textbf{Method:}           &  Least Squares   & \\textbf{  F-statistic:       } &     444.3   \\\\\n",
       "\\textbf{Date:}             & Thu, 24 Oct 2024 & \\textbf{  Prob (F-statistic):} & 7.01e-112   \\\\\n",
       "\\textbf{Time:}             &     01:48:09     & \\textbf{  Log-Likelihood:    } &   -1582.8   \\\\\n",
       "\\textbf{No. Observations:} &         506      & \\textbf{  AIC:               } &     3172.   \\\\\n",
       "\\textbf{Df Residuals:}     &         503      & \\textbf{  BIC:               } &     3184.   \\\\\n",
       "\\textbf{Df Model:}         &           2      & \\textbf{                     } &             \\\\\n",
       "\\textbf{Covariance Type:}  &    nonrobust     & \\textbf{                     } &             \\\\\n",
       "\\bottomrule\n",
       "\\end{tabular}\n",
       "\\begin{tabular}{lcccccc}\n",
       "               & \\textbf{coef} & \\textbf{std err} & \\textbf{t} & \\textbf{P$> |$t$|$} & \\textbf{[0.025} & \\textbf{0.975]}  \\\\\n",
       "\\midrule\n",
       "\\textbf{const} &      -1.3583  &        3.173     &    -0.428  &         0.669        &       -7.592    &        4.875     \\\\\n",
       "\\textbf{RM}    &       5.0948  &        0.444     &    11.463  &         0.000        &        4.222    &        5.968     \\\\\n",
       "\\textbf{LSTAT} &      -0.6424  &        0.044     &   -14.689  &         0.000        &       -0.728    &       -0.556     \\\\\n",
       "\\bottomrule\n",
       "\\end{tabular}\n",
       "\\begin{tabular}{lclc}\n",
       "\\textbf{Omnibus:}       & 145.712 & \\textbf{  Durbin-Watson:     } &     0.834  \\\\\n",
       "\\textbf{Prob(Omnibus):} &   0.000 & \\textbf{  Jarque-Bera (JB):  } &   457.690  \\\\\n",
       "\\textbf{Skew:}          &   1.343 & \\textbf{  Prob(JB):          } & 4.11e-100  \\\\\n",
       "\\textbf{Kurtosis:}      &   6.807 & \\textbf{  Cond. No.          } &      202.  \\\\\n",
       "\\bottomrule\n",
       "\\end{tabular}\n",
       "%\\caption{OLS Regression Results}\n",
       "\\end{center}\n",
       "\n",
       "Notes: \\newline\n",
       " [1] Standard Errors assume that the covariance matrix of the errors is correctly specified."
      ],
      "text/plain": [
       "<class 'statsmodels.iolib.summary.Summary'>\n",
       "\"\"\"\n",
       "                            OLS Regression Results                            \n",
       "==============================================================================\n",
       "Dep. Variable:                   MEDV   R-squared:                       0.639\n",
       "Model:                            OLS   Adj. R-squared:                  0.637\n",
       "Method:                 Least Squares   F-statistic:                     444.3\n",
       "Date:                Thu, 24 Oct 2024   Prob (F-statistic):          7.01e-112\n",
       "Time:                        01:48:09   Log-Likelihood:                -1582.8\n",
       "No. Observations:                 506   AIC:                             3172.\n",
       "Df Residuals:                     503   BIC:                             3184.\n",
       "Df Model:                           2                                         \n",
       "Covariance Type:            nonrobust                                         \n",
       "==============================================================================\n",
       "                 coef    std err          t      P>|t|      [0.025      0.975]\n",
       "------------------------------------------------------------------------------\n",
       "const         -1.3583      3.173     -0.428      0.669      -7.592       4.875\n",
       "RM             5.0948      0.444     11.463      0.000       4.222       5.968\n",
       "LSTAT         -0.6424      0.044    -14.689      0.000      -0.728      -0.556\n",
       "==============================================================================\n",
       "Omnibus:                      145.712   Durbin-Watson:                   0.834\n",
       "Prob(Omnibus):                  0.000   Jarque-Bera (JB):              457.690\n",
       "Skew:                           1.343   Prob(JB):                    4.11e-100\n",
       "Kurtosis:                       6.807   Cond. No.                         202.\n",
       "==============================================================================\n",
       "\n",
       "Notes:\n",
       "[1] Standard Errors assume that the covariance matrix of the errors is correctly specified.\n",
       "\"\"\""
      ]
     },
     "execution_count": 40,
     "metadata": {},
     "output_type": "execute_result"
    }
   ],
   "source": [
    "import statsmodels.api as sm\n",
    "\n",
    "# 取出特徵與標記\n",
    "X, y = df.loc[:, ['RM','LSTAT']], df.loc[:, ['MEDV']]\n",
    "\n",
    "# 在特徵中加入常數項\n",
    "X = sm.add_constant(X)\n",
    "\n",
    "# 建立線性迴歸模型\n",
    "model = sm.OLS(y, X)\n",
    "\n",
    "# 訓練模型\n",
    "result = model.fit()\n",
    "\n",
    "# 印出截距與係數\n",
    "print('迴歸係數：')\n",
    "print(result.params)\n",
    "\n",
    "'''\n",
    "R-squared (R平方) 是用來評估模型的解釋力，值越接近 1 表示模型的解釋力越好\n",
    "'''\n",
    "\n",
    "# 印出 R-squared\n",
    "result.summary()"
   ]
  },
  {
   "cell_type": "markdown",
   "metadata": {},
   "source": [
    "## 評估迴歸模型的效能"
   ]
  },
  {
   "cell_type": "markdown",
   "metadata": {},
   "source": [
    "### 檢視資料切分結果"
   ]
  },
  {
   "cell_type": "code",
   "execution_count": 41,
   "metadata": {},
   "outputs": [
    {
     "name": "stdout",
     "output_type": "stream",
     "text": [
      "(404, 2)\n",
      "(102, 2)\n",
      "(404, 1)\n",
      "(102, 1)\n"
     ]
    }
   ],
   "source": [
    "from sklearn.model_selection import train_test_split\n",
    "\n",
    "# 取出特徵與標記\n",
    "X, y = df.loc[:, ['RM','LSTAT']], df.loc[:, ['MEDV']]\n",
    "\n",
    "# 將資料分為訓練與測試資料集\n",
    "X_train, X_test, y_train, y_test = train_test_split(\n",
    "    X, \n",
    "    y, \n",
    "    test_size=0.2, \n",
    "    random_state=0\n",
    ")\n",
    "\n",
    "# 輸出訓練與測試資料集的大小\n",
    "print(X_train.shape)\n",
    "print(X_test.shape)\n",
    "print(y_train.shape)\n",
    "print(y_test.shape)"
   ]
  },
  {
   "cell_type": "markdown",
   "metadata": {},
   "source": [
    "### 評估指標"
   ]
  },
  {
   "cell_type": "markdown",
   "metadata": {},
   "source": [
    "#### MSE (Mean Squared Error)"
   ]
  },
  {
   "cell_type": "code",
   "execution_count": 42,
   "metadata": {},
   "outputs": [
    {
     "name": "stdout",
     "output_type": "stream",
     "text": [
      "MSE(training): 28.790276482053443\n",
      "MSE(testing): 37.38310563877995\n"
     ]
    }
   ],
   "source": [
    "from sklearn.metrics import mean_squared_error\n",
    "\n",
    "# 建立線性迴歸模型\n",
    "lr = LinearRegression()\n",
    "\n",
    "# 訓練模型\n",
    "lr.fit(X_train, y_train)\n",
    "\n",
    "# 預測訓練資料集\n",
    "y_train_pred = lr.predict(X_train)\n",
    "\n",
    "# 預測試資料集\n",
    "y_test_pred = lr.predict(X_test)\n",
    "\n",
    "# 輸出 MSE\n",
    "print(f'MSE(training): {mean_squared_error(y_train, y_train_pred)}')\n",
    "print(f'MSE(testing): {mean_squared_error(y_test, y_test_pred)}')"
   ]
  },
  {
   "cell_type": "markdown",
   "metadata": {},
   "source": [
    "注意：評估是一種比較的過程，除了用不同指標進行評估外，也可以透過不同模型之間的比較來評估模型的優劣，視覺化也可以幫助我們了解模型的表現。"
   ]
  },
  {
   "cell_type": "markdown",
   "metadata": {},
   "source": [
    "#### Coefficient of Determination (R^2)"
   ]
  },
  {
   "cell_type": "code",
   "execution_count": 43,
   "metadata": {},
   "outputs": [
    {
     "name": "stdout",
     "output_type": "stream",
     "text": [
      "R^2(training): 0.6618625964841893\n",
      "R^2(testing): 0.5409084827186418\n"
     ]
    }
   ],
   "source": [
    "from sklearn.metrics import r2_score\n",
    "\n",
    "'''\n",
    "R^2 (R平方) 是用來評估模型的解釋力，介於 0 ~ 1 之間，\n",
    "值越接近 1 表示模型的解釋力越好。\n",
    "\n",
    "至於「好」要多少，沒有一個明確的標準，但可以參考以下的規則：\n",
    "- 0.7 以上: 模型的解釋力很好\n",
    "- 0.5 ~ 0.7: 模型的解釋力一般\n",
    "- 0.5 以下: 模型的解釋力較差\n",
    "\n",
    "社會科學領域的研究，R^2 介於 0.5 ~ 0.6 之間就可以接受，\n",
    "但在校正精密儀器時，則會被要求到 0.999 的 R^2。\n",
    "'''\n",
    "\n",
    "print(f'R^2(training): {r2_score(y_train, y_train_pred)}')\n",
    "print(f'R^2(testing): {r2_score(y_test, y_test_pred)}')"
   ]
  },
  {
   "cell_type": "markdown",
   "metadata": {},
   "source": [
    "#### 提升 R^2 的方法"
   ]
  },
  {
   "cell_type": "markdown",
   "metadata": {},
   "source": [
    "##### 1. 增加自變數"
   ]
  },
  {
   "cell_type": "code",
   "execution_count": 44,
   "metadata": {},
   "outputs": [
    {
     "name": "stdout",
     "output_type": "stream",
     "text": [
      "(506, 6)\n",
      "=== 1.隨機增加無關的 4 個特徵 ===\n",
      "R^2(training): 0.662936849980776\n",
      "R^2(testing): 0.5417916236895272\n"
     ]
    }
   ],
   "source": [
    "# 隨機增加無關的 4 個特徵(數值介於 0 ~ 1 之間)\n",
    "np.random.seed(0)\n",
    "rand_n = np.random.rand(X.shape[0], 4)\n",
    "\n",
    "# 將隨機增加的特徵加入原本的特徵中\n",
    "df_rand = pd.DataFrame(\n",
    "    data=rand_n, \n",
    "    columns=['A', 'B', 'C', 'D'] # 等同於 list('ABCD')\n",
    ")\n",
    "X = pd.concat([X, df_rand], axis=1)\n",
    "\n",
    "\n",
    "# 計算 R^2\n",
    "def linReg_R2(X, y):\n",
    "    # 將資料分為訓練與測試資料集\n",
    "    X_train, X_test, y_train, y_test = train_test_split(\n",
    "        X, \n",
    "        y, \n",
    "        test_size=0.2,\n",
    "        random_state=0\n",
    "    )\n",
    "    \n",
    "    # 建立線性迴歸模型 (含訓練)\n",
    "    lr = LinearRegression().fit(X_train, y_train)\n",
    "    \n",
    "    # 預測訓練資料集\n",
    "    y_train_pred = lr.predict(X_train)\n",
    "    \n",
    "    # 預測測試資料集\n",
    "    y_test_pred = lr.predict(X_test)\n",
    "    \n",
    "    print(f'R^2(training): {r2_score(y_train, y_train_pred)}')\n",
    "    print(f'R^2(testing): {r2_score(y_test, y_test_pred)}')\n",
    "\n",
    "\n",
    "print(X.shape)\n",
    "print('=== 1.隨機增加無關的 4 個特徵 ===')\n",
    "linReg_R2(X, y)"
   ]
  },
  {
   "cell_type": "markdown",
   "metadata": {},
   "source": [
    "##### 2. 擴大數據點的分布範圍"
   ]
  },
  {
   "cell_type": "code",
   "execution_count": 45,
   "metadata": {},
   "outputs": [
    {
     "name": "stdout",
     "output_type": "stream",
     "text": [
      "(507, 2)\n",
      "=== 2.增加 1 筆數據 ===\n",
      "R^2(training): 0.6581962508042997\n",
      "R^2(testing): 0.9058084916935747\n"
     ]
    }
   ],
   "source": [
    "# 取得特徵 RM 與 LSTAT，以及 MEDV\n",
    "X, y = df.loc[:, ['RM','LSTAT']], df.loc[:, ['MEDV']]\n",
    "\n",
    "# 增加 1 筆數據\n",
    "X.loc[len(X)] = [50, 100]\n",
    "\n",
    "# 增加 1 筆數據\n",
    "y.loc[len(y)] = [200]\n",
    "\n",
    "print(X.shape)\n",
    "print('=== 2.增加 1 筆數據 ===')\n",
    "linReg_R2(X, y)"
   ]
  },
  {
   "cell_type": "markdown",
   "metadata": {},
   "source": [
    "##### 3. 減少樣本數"
   ]
  },
  {
   "cell_type": "code",
   "execution_count": 46,
   "metadata": {},
   "outputs": [
    {
     "name": "stdout",
     "output_type": "stream",
     "text": [
      "(229, 3)\n",
      "=== 3.減少樣本數 ===\n",
      "R^2(training): 0.8273644762658373\n",
      "R^2(testing): 0.8724450472944864\n"
     ]
    }
   ],
   "source": [
    "# 將特徵與標記整合\n",
    "X_y = df.loc[:, ['RM','LSTAT', 'MEDV']]\n",
    "\n",
    "# 依照 MEDV 進行分組\n",
    "df_group = X_y.groupby(['MEDV'])\n",
    "\n",
    "# 儲存平均值\n",
    "lst = []\n",
    "for name, _ in df_group:\n",
    "    lst.append(df_group.get_group(name).mean().tolist())\n",
    "\n",
    "# 將每一個特徵 (含標記) 的平均值存入 DataFrame\n",
    "df_new = pd.DataFrame(data=lst, columns=['RM','LSTAT', 'MEDV'])\n",
    "\n",
    "# 取出特徵與標記\n",
    "X, y = df_new.loc[:, ['RM','LSTAT']], df_new.loc[:, ['MEDV']]\n",
    "\n",
    "print(df_new.shape)\n",
    "print('=== 3.減少樣本數 ===')\n",
    "linReg_R2(X, y)"
   ]
  },
  {
   "cell_type": "markdown",
   "metadata": {},
   "source": [
    "注意：\n",
    "- R^2 很大也不一定有實質的意義，一昧地追求 R^2 的提升，可能會導致過度擬合 (Overfitting) 的問題。\n",
    "- 為了緩和增加自變數或減少樣本導致 R^2 莫名提升的問題，我們可以使用 Adjusted R^2 來進行評估。"
   ]
  },
  {
   "cell_type": "code",
   "execution_count": 47,
   "metadata": {},
   "outputs": [
    {
     "name": "stdout",
     "output_type": "stream",
     "text": [
      "(506, 2)\n",
      "=== 原始數據 ===\n",
      "Adj. R^2(training): 0.6601761256437115\n",
      "Adj. R^2(testing): 0.5316339066119476\n",
      "(506, 6)\n",
      "=== 隨機增加無關的 4 個特徵 ===\n",
      "Adj. R^2(training): 0.6578426965799817\n",
      "Adj. R^2(testing): 0.5128521472909711\n"
     ]
    }
   ],
   "source": [
    "# 利用公式計算 Adj. R^2\n",
    "'''\n",
    "r2: R^2\n",
    "n: 資料筆數\n",
    "k: 特徵數量\n",
    "'''\n",
    "def adj_R2(r2, n, k):\n",
    "    return 1 - (n-1)*(1-r2)/(n-k-1)\n",
    "\n",
    "# 計算 Adj. R^2\n",
    "def linReg_adj_R2(X, y):\n",
    "    # 將資料分為訓練與測試資料集\n",
    "    X_train, X_test, y_train, y_test = train_test_split(\n",
    "        X, \n",
    "        y, \n",
    "        test_size=0.2,\n",
    "        random_state=0\n",
    "    )\n",
    "\n",
    "    # 建立線性迴歸模型 (含訓練)\n",
    "    lr = LinearRegression().fit(X_train, y_train)\n",
    "\n",
    "    # 預測訓練資料集\n",
    "    y_train_pred = lr.predict(X_train)\n",
    "\n",
    "    # 預測測試資料集\n",
    "    y_test_pred = lr.predict(X_test)\n",
    "\n",
    "    # 計算 R^2\n",
    "    r2_train = r2_score(y_train, y_train_pred)\n",
    "\n",
    "    # 計算 R^2\n",
    "    r2_test = r2_score(y_test, y_test_pred)\n",
    "    \n",
    "    print(f'Adj. R^2(training): {adj_R2(r2_train, X_train.shape[0], X_train.shape[1])}')\n",
    "    print(f'Adj. R^2(testing): {adj_R2(r2_test, X_test.shape[0], X_test.shape[1])}')\n",
    "\n",
    "# 取得特徵 RM 與 LSTAT，以及 MEDV\n",
    "X, y = df.loc[:, ['RM','LSTAT']], df.loc[:, ['MEDV']]\n",
    "\n",
    "\n",
    "print(X.shape)\n",
    "print('=== 原始數據 ===')\n",
    "linReg_adj_R2(X, y)\n",
    "\n",
    "# 隨機增加無關的 4 個特徵(數值介於 0 ~ 1 之間)\n",
    "np.random.seed(0)\n",
    "rand_n = np.random.rand(X.shape[0], 4)\n",
    "df_rand = pd.DataFrame(\n",
    "    data=rand_n, \n",
    "    columns=list('ABCD') # 等同於 ['A', 'B', 'C', 'D']\n",
    ")\n",
    "\n",
    "# 將隨機增加的特徵加入原本的特徵中\n",
    "X = pd.concat([X, df_rand], axis=1)\n",
    "\n",
    "\n",
    "print(X.shape)\n",
    "print('=== 隨機增加無關的 4 個特徵 ===')\n",
    "linReg_adj_R2(X, y)"
   ]
  },
  {
   "cell_type": "markdown",
   "metadata": {},
   "source": [
    "### 殘差分析 (Residual Analysis)"
   ]
  },
  {
   "cell_type": "markdown",
   "metadata": {},
   "source": [
    "注意：\n",
    "- 殘差（Residual）指的是觀察值（樣本）與預測值（估計值）之間的差異。\n",
    "- 誤差（Error）指的是觀察值（樣本）與真實值（Ground Truth）之間的偏離。"
   ]
  },
  {
   "cell_type": "markdown",
   "metadata": {},
   "source": [
    "#### 1. 檢驗常態性：檢查殘差是否符合常態分佈"
   ]
  },
  {
   "cell_type": "markdown",
   "metadata": {},
   "source": [
    "#### Shapiro-Wilk 檢定 (SW test)"
   ]
  },
  {
   "cell_type": "code",
   "execution_count": 48,
   "metadata": {},
   "outputs": [
    {
     "name": "stdout",
     "output_type": "stream",
     "text": [
      "Statistics: 0.9098000754443145, p-value: 9.092123030573736e-17\n",
      "看起來不是常態分布（拒絕H0）\n"
     ]
    }
   ],
   "source": [
    "import statsmodels.api as sm\n",
    "from scipy.stats import shapiro\n",
    "\n",
    "# 取出特徵與標記\n",
    "X, y = df.loc[:, ['RM','LSTAT']], df.loc[:, ['MEDV']]\n",
    "\n",
    "# 增加常數行作為截距項\n",
    "X = sm.add_constant(X)  \n",
    "\n",
    "# 建立 OLS 模型 (迴歸模型)\n",
    "model = sm.OLS(y, X).fit()\n",
    "\n",
    "# Shapiro-Wilk 常態性檢定 (樣本數量小於等於 2000 時使用)\n",
    "stat, p = shapiro(model.resid)\n",
    "print(f'Statistics: {stat}, p-value: {p}')\n",
    "alpha = 0.05\n",
    "\n",
    "'''\n",
    "H0: 資料來自常態分布\n",
    "H1: 資料不來自常態分布\n",
    "'''\n",
    "if p > alpha:\n",
    "    print('看起來是常態分布（無法拒絕H0）')\n",
    "else:\n",
    "    print('看起來不是常態分布（拒絕H0）')"
   ]
  },
  {
   "cell_type": "markdown",
   "metadata": {},
   "source": [
    "#### Kolmogorov-Smirnov 檢定 (KS test)"
   ]
  },
  {
   "cell_type": "code",
   "execution_count": 49,
   "metadata": {},
   "outputs": [
    {
     "name": "stdout",
     "output_type": "stream",
     "text": [
      "Statistics: 0.37880962928472933, p-value: 9.254848877421259e-66\n",
      "看起來不是常態分布（拒絕H0）\n"
     ]
    }
   ],
   "source": [
    "from scipy.stats import kstest\n",
    "\n",
    "# Kolmogorov-Smirnov 常態性檢定 (樣本數量大於 2000 時使用)\n",
    "stat, p = kstest(model.resid, 'norm')\n",
    "\n",
    "print(f'Statistics: {stat}, p-value: {p}')\n",
    "alpha = 0.05\n",
    "\n",
    "'''\n",
    "H0: 資料來自常態分布\n",
    "H1: 資料不來自常態分布\n",
    "'''\n",
    "if p > alpha:\n",
    "    print('看起來是常態分布（無法拒絕H0）')\n",
    "else:\n",
    "    print('看起來不是常態分布（拒絕H0）')"
   ]
  },
  {
   "cell_type": "markdown",
   "metadata": {},
   "source": [
    "#### D’Agostino-Pearson omnibus 檢定"
   ]
  },
  {
   "cell_type": "code",
   "execution_count": 50,
   "metadata": {},
   "outputs": [
    {
     "name": "stdout",
     "output_type": "stream",
     "text": [
      "Statistics: 145.7119454320208, p-value: 2.285878146706624e-32\n",
      "看起來不是常態分布（拒絕H0）\n"
     ]
    }
   ],
   "source": [
    "from scipy.stats import normaltest\n",
    "\n",
    "# D’Agostino-Pearson omnibus 常態性檢定\n",
    "stat, p = normaltest(model.resid)\n",
    "print(f'Statistics: {stat}, p-value: {p}')\n",
    "alpha = 0.05\n",
    "\n",
    "'''\n",
    "H0: 資料來自常態分布\n",
    "H1: 資料不來自常態分布\n",
    "'''\n",
    "if p > alpha:\n",
    "    print('看起來是常態分布（無法拒絕H0）')\n",
    "else:\n",
    "    print('看起來不是常態分布（拒絕H0）')"
   ]
  },
  {
   "cell_type": "markdown",
   "metadata": {},
   "source": [
    "#### Jarque-Bera 檢定 (JB test)"
   ]
  },
  {
   "cell_type": "code",
   "execution_count": 51,
   "metadata": {},
   "outputs": [
    {
     "name": "stdout",
     "output_type": "stream",
     "text": [
      "Statistics: 457.68991579974244, p-value: 4.11052763877968e-100\n",
      "看起來不是常態分布（拒絕H0）\n"
     ]
    }
   ],
   "source": [
    "from scipy.stats import jarque_bera\n",
    "\n",
    "# Jarque-Bera 常態性檢定\n",
    "stat, p = jarque_bera(model.resid)\n",
    "print(f'Statistics: {stat}, p-value: {p}')\n",
    "alpha = 0.05\n",
    "\n",
    "'''\n",
    "H0: 資料來自常態分布\n",
    "H1: 資料不來自常態分布\n",
    "'''\n",
    "if p > alpha:\n",
    "    print('看起來是常態分布（無法拒絕H0）')\n",
    "else:\n",
    "    print('看起來不是常態分布（拒絕H0）')"
   ]
  },
  {
   "cell_type": "markdown",
   "metadata": {},
   "source": [
    "#### QQ 圖"
   ]
  },
  {
   "cell_type": "code",
   "execution_count": 32,
   "metadata": {},
   "outputs": [
    {
     "data": {
      "image/png": "[encoded data removed]",
      "text/plain": [
       "<Figure size 640x480 with 1 Axes>"
      ]
     },
     "execution_count": 32,
     "metadata": {},
     "output_type": "execute_result"
    },
    {
     "data": {
      "image/png": "[encoded data removed]",
      "text/plain": [
       "<Figure size 640x480 with 1 Axes>"
      ]
     },
     "metadata": {},
     "output_type": "display_data"
    }
   ],
   "source": [
    "from statsmodels.graphics.gofplots import qqplot\n",
    "\n",
    "qqplot(model.resid, line='s')"
   ]
  },
  {
   "cell_type": "markdown",
   "metadata": {},
   "source": [
    "#### 2. 檢驗獨立性：檢查殘差是否有自相關性，殘差項之間應該要相互獨立。"
   ]
  },
  {
   "cell_type": "markdown",
   "metadata": {},
   "source": [
    "殘差可能彼此相關的例子：\n",
    "\n",
    "1. 遺漏關鍵變數（Omitted Variable）：\n",
    "\n",
    "    如果模型中缺少了重要的解釋變數，而這些變數與時間、空間或其他順序有關，殘差可能會捕捉到這些未包含的因素，導致自相關。\n",
    "\n",
    "    例子：假設我們在預測汽車銷售量時，只考慮了廣告支出，但忽略了經濟狀況這一關鍵因素。經濟狀況往往具有時間上的連續性（例如，經濟繁榮或衰退可能持續數個季度），因此，殘差會反映出這種遺漏的時間依賴性，導致殘差之間的自相關。\n",
    "\n",
    "2. 時間序列資料中的時間依賴性：\n",
    "\n",
    "    在時間序列資料中，觀測值往往與之前的觀測值相關。如果模型未能適當處理這種時間依賴性，殘差之間就會呈現自相關。\n",
    "\n",
    "    例子：在預測每日氣溫時，當天的氣溫通常與前一天的氣溫相關。如果我們使用一個簡單的線性回歸模型，只以月份為解釋變數，而未考慮前一天的氣溫，殘差可能會顯示出自相關性，因為模型未捕捉到氣溫的連續性。\n",
    "\n",
    "3. 模型形式錯誤（Model Misspecification）：\n",
    "\n",
    "    如果選擇了錯誤的模型形式，例如，真實的關係是非線性的，但使用了線性模型，殘差可能會顯示系統性的模式和自相關。\n",
    "\n",
    "    例子：假設實際上收入與工作經驗之間是拋物線關係，但我們使用線性回歸模型。殘差會呈現出系統性的曲線形態，相鄰的殘差值可能相關，顯示出自相關性。\n",
    "\n",
    "4. 測量誤差的相關性：\n",
    "\n",
    "    如果測量誤差本身具有相關性，例如由於儀器漂移或系統性誤差，殘差之間可能會相關。\n",
    "\n",
    "    例子：在連續生產的過程中，測量設備可能隨時間產生誤差累積。如果未校正這種誤差，殘差可能會顯示出隨時間變化的模式，導致自相關。\n",
    "\n",
    "5. 順序效應或學習效應：\n",
    "\n",
    "    在實驗或調查中，受試者或受訪者可能隨著時間的推移而改變他們的行為，導致殘差相關。\n",
    "\n",
    "    例子：在測試新藥的臨床試驗中，患者可能隨著時間產生耐藥性。如果模型未考慮這種變化，殘差可能會顯示出時間上的自相關。\n",
    "\n",
    "6. 空間自相關（Spatial Autocorrelation）：\n",
    "\n",
    "    在地理資料中，鄰近地區的觀測值可能相關。如果模型未包含空間位置等變數，殘差可能會在空間上相關。\n",
    "\n",
    "    例子：在分析城市房價時，鄰近地區的房價往往相似。如果模型未考慮地理位置因素，殘差可能會顯示空間自相關。"
   ]
  },
  {
   "cell_type": "markdown",
   "metadata": {},
   "source": [
    "##### Durbin-Watson (DW-test)"
   ]
  },
  {
   "cell_type": "code",
   "execution_count": 52,
   "metadata": {},
   "outputs": [
    {
     "name": "stdout",
     "output_type": "stream",
     "text": [
      "dw: 0.8342146070001705\n",
      "誤差項不獨立\n"
     ]
    }
   ],
   "source": [
    "from statsmodels.stats.stattools import durbin_watson\n",
    "\n",
    "dw = durbin_watson(model.resid)\n",
    "\n",
    "print(f'dw: {dw}')\n",
    "'''\n",
    "當 dw 接近或大於 2 的時候，誤差項是獨立的 (具有獨立性)。\n",
    "誤差項不獨立的話，會導致模型的預測能力下降，\n",
    "因此需要進行修正，例如增加特徵或改變模型等方式。\n",
    "\n",
    "該統計量值越接近 2 越好，\n",
    "\n",
    "如果 DW = 2，則表示沒有自相關，\n",
    "0 < DW < 2 表示正自相關，\n",
    "2 < DW < 4 表示負自相關。\n",
    "'''\n",
    "\n",
    "if 2 <= dw <= 4:\n",
    "    print('誤差項獨立')\n",
    "elif 0 <= dw < 2:\n",
    "    print('誤差項不獨立')\n",
    "else:\n",
    "    print('計算錯誤')"
   ]
  },
  {
   "cell_type": "markdown",
   "metadata": {},
   "source": [
    "#### 3. 變異數同質性：檢查殘差的變異數是否相等。"
   ]
  },
  {
   "cell_type": "markdown",
   "metadata": {},
   "source": [
    "##### 繪製殘差圖"
   ]
  },
  {
   "cell_type": "markdown",
   "metadata": {},
   "source": [
    "##### 使用 LOWESS (Locally Weighted Scatterplot Smoothing)：局部加權散點圖平滑法"
   ]
  },
  {
   "cell_type": "code",
   "execution_count": 63,
   "metadata": {},
   "outputs": [
    {
     "data": {
      "image/png": "[encoded data removed]",
      "text/plain": [
       "<Figure size 640x480 with 1 Axes>"
      ]
     },
     "metadata": {},
     "output_type": "display_data"
    }
   ],
   "source": [
    "import numpy as np\n",
    "import pandas as pd\n",
    "import matplotlib.pyplot as plt\n",
    "from sklearn.preprocessing import StandardScaler\n",
    "from statsmodels.nonparametric.smoothers_lowess import lowess\n",
    "\n",
    "# 假設 model.predict(X) 給出預測值，model.resid 給出殘差\n",
    "df_resid = pd.DataFrame()\n",
    "df_resid['y_pred'] = model.predict(X)\n",
    "df_resid['resid'] = model.resid\n",
    "\n",
    "# 標準化數據\n",
    "scaler = StandardScaler()\n",
    "df_resid_scaled = scaler.fit_transform(df_resid)\n",
    "'''\n",
    "array([[ 0.87279776, -0.8944939 ],\n",
    "       [ 0.40198055, -0.7031752 ],\n",
    "       [ 1.37919763,  0.36947786],\n",
    "       ...,\n",
    "       [ 1.09331282, -1.20570187],\n",
    "       [ 0.89353027, -1.28412014],\n",
    "       [ 0.24089811, -2.24510197]])\n",
    "'''\n",
    "\n",
    "# 提取標準化的預測值和殘差\n",
    "x = df_resid_scaled[:, 0]  # 標準化的預測值\n",
    "y = df_resid_scaled[:, 1]  # 標準化的殘差\n",
    "\n",
    "# 繪製散點圖\n",
    "plt.scatter(x, y, facecolors='none', edgecolors='blue', alpha=0.5)\n",
    "\n",
    "# 計算 Lowess 曲線\n",
    "lowess_curve = lowess(y, x, frac=0.6667)\n",
    "'''\n",
    "y: 殘差\n",
    "x: 預測值\n",
    "frac: 控制平滑程度，值越大，平滑程度越高\n",
    "'''\n",
    "\n",
    "# 繪製 Lowess 曲線\n",
    "plt.plot(lowess_curve[:, 0], lowess_curve[:, 1], color='red', lw=3)\n",
    "\n",
    "# 添加標籤\n",
    "plt.xlabel('Predicted Values (standardization)', fontsize=14)\n",
    "plt.ylabel('Residual (standardization)', fontsize=14)\n",
    "\n",
    "'''\n",
    "理想上，紅色的線要靠近 0 的位置，並且在 0 附近橫向分佈。\n",
    "可以看出殘差變異數不符合同質性。\n",
    "'''\n",
    "\n",
    "# 顯示圖形\n",
    "plt.show()"
   ]
  },
  {
   "cell_type": "markdown",
   "metadata": {},
   "source": [
    "## 正規化的迴歸"
   ]
  },
  {
   "cell_type": "code",
   "execution_count": null,
   "metadata": {},
   "outputs": [],
   "source": []
  }
 ],
 "metadata": {
  "kernelspec": {
   "display_name": "ml",
   "language": "python",
   "name": "python3"
  },
  "language_info": {
   "codemirror_mode": {
    "name": "ipython",
    "version": 3
   },
   "file_extension": ".py",
   "mimetype": "text/x-python",
   "name": "python",
   "nbconvert_exporter": "python",
   "pygments_lexer": "ipython3",
   "version": "3.10.15"
  }
 },
 "nbformat": 4,
 "nbformat_minor": 2
}
